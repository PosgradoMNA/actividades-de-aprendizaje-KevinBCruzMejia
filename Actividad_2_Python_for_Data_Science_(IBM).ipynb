{
  "nbformat": 4,
  "nbformat_minor": 0,
  "metadata": {
    "colab": {
      "provenance": [],
      "authorship_tag": "ABX9TyM4ViB6BLDjhJLZBPKVwJMV",
      "include_colab_link": true
    },
    "kernelspec": {
      "name": "python3",
      "display_name": "Python 3"
    },
    "language_info": {
      "name": "python"
    }
  },
  "cells": [
    {
      "cell_type": "markdown",
      "metadata": {
        "id": "view-in-github",
        "colab_type": "text"
      },
      "source": [
        "<a href=\"https://colab.research.google.com/github/PosgradoMNA/actividades-de-aprendizaje-KevinBCruzMejia/blob/main/Actividad_2_Python_for_Data_Science_(IBM).ipynb\" target=\"_parent\"><img src=\"https://colab.research.google.com/assets/colab-badge.svg\" alt=\"Open In Colab\"/></a>"
      ]
    },
    {
      "cell_type": "markdown",
      "source": [
        "Actividad 2: Python for Data Science (IBM)"
      ],
      "metadata": {
        "id": "xsnbthypQ2HF"
      }
    },
    {
      "cell_type": "markdown",
      "source": [
        "Para saber el tipo de dato"
      ],
      "metadata": {
        "id": "6cHP8IVvRDzW"
      }
    },
    {
      "cell_type": "code",
      "source": [
        "type(\"Hola Mundo\")"
      ],
      "metadata": {
        "colab": {
          "base_uri": "https://localhost:8080/"
        },
        "id": "FtZcMvW-Q9nZ",
        "outputId": "c5423673-7ac7-49a8-ac84-aa3c83f8faf9"
      },
      "execution_count": null,
      "outputs": [
        {
          "output_type": "execute_result",
          "data": {
            "text/plain": [
              "str"
            ]
          },
          "metadata": {},
          "execution_count": 1
        }
      ]
    },
    {
      "cell_type": "markdown",
      "source": [
        "Para saber el cast. que es pasar de un tipo de dato a otro tipo de dato"
      ],
      "metadata": {
        "id": "lR8AdgP3SOls"
      }
    },
    {
      "cell_type": "code",
      "source": [
        "bool(int(\"1\"))"
      ],
      "metadata": {
        "colab": {
          "base_uri": "https://localhost:8080/"
        },
        "id": "fT1187BaSWde",
        "outputId": "1c76176f-2d54-4ead-fd04-7fd8fe1ea104"
      },
      "execution_count": null,
      "outputs": [
        {
          "output_type": "execute_result",
          "data": {
            "text/plain": [
              "True"
            ]
          },
          "metadata": {},
          "execution_count": 2
        }
      ]
    },
    {
      "cell_type": "markdown",
      "source": [
        "Identificamos que hacemos el cast de string a intger para el tipo de dato bool"
      ],
      "metadata": {
        "id": "Akd_fiGVSl2f"
      }
    },
    {
      "cell_type": "markdown",
      "source": [
        "Expresiones matematicas"
      ],
      "metadata": {
        "id": "F9ttZxFRSy4L"
      }
    },
    {
      "cell_type": "markdown",
      "source": [
        "Division"
      ],
      "metadata": {
        "id": "ZqykFwvJS5GY"
      }
    },
    {
      "cell_type": "code",
      "source": [
        "25//5"
      ],
      "metadata": {
        "colab": {
          "base_uri": "https://localhost:8080/"
        },
        "id": "_ZH2RakvS2xK",
        "outputId": "6b86b171-279d-46e3-b79e-55b43ccdeb6d"
      },
      "execution_count": null,
      "outputs": [
        {
          "output_type": "execute_result",
          "data": {
            "text/plain": [
              "5"
            ]
          },
          "metadata": {},
          "execution_count": 15
        }
      ]
    },
    {
      "cell_type": "markdown",
      "source": [
        "Multiplicacion"
      ],
      "metadata": {
        "id": "pE1ZhNFTUVn-"
      }
    },
    {
      "cell_type": "code",
      "source": [
        "25*5"
      ],
      "metadata": {
        "colab": {
          "base_uri": "https://localhost:8080/"
        },
        "id": "IO6CoIrUUYUQ",
        "outputId": "e9f30b2b-8f4e-4e72-9734-2d251c06dd4c"
      },
      "execution_count": null,
      "outputs": [
        {
          "output_type": "execute_result",
          "data": {
            "text/plain": [
              "125"
            ]
          },
          "metadata": {},
          "execution_count": 16
        }
      ]
    },
    {
      "cell_type": "markdown",
      "source": [
        "Suma"
      ],
      "metadata": {
        "id": "imunCnK7Ub1F"
      }
    },
    {
      "cell_type": "code",
      "source": [
        "25+5"
      ],
      "metadata": {
        "colab": {
          "base_uri": "https://localhost:8080/"
        },
        "id": "rEjAuxE_Ud5k",
        "outputId": "d9679013-6134-4e16-87bb-4944bc293f2f"
      },
      "execution_count": null,
      "outputs": [
        {
          "output_type": "execute_result",
          "data": {
            "text/plain": [
              "30"
            ]
          },
          "metadata": {},
          "execution_count": 17
        }
      ]
    },
    {
      "cell_type": "markdown",
      "source": [
        "Asignar un valor"
      ],
      "metadata": {
        "id": "abhY-fvHUivT"
      }
    },
    {
      "cell_type": "code",
      "source": [
        "my_value=5\n",
        "my_value"
      ],
      "metadata": {
        "colab": {
          "base_uri": "https://localhost:8080/"
        },
        "id": "aj7VVUU9UoO7",
        "outputId": "fcbd80bd-27cb-4a98-e6fb-217e0456defe"
      },
      "execution_count": null,
      "outputs": [
        {
          "output_type": "execute_result",
          "data": {
            "text/plain": [
              "5"
            ]
          },
          "metadata": {},
          "execution_count": 20
        }
      ]
    },
    {
      "cell_type": "markdown",
      "source": [
        "Parametros y funciones"
      ],
      "metadata": {
        "id": "C6dUCUFWU91a"
      }
    },
    {
      "cell_type": "code",
      "source": [
        "import sys"
      ],
      "metadata": {
        "id": "CdCIZvs0VQt6"
      },
      "execution_count": 1,
      "outputs": []
    },
    {
      "cell_type": "markdown",
      "source": [
        "Representar string \"\" o  ''"
      ],
      "metadata": {
        "id": "-8-LkLFsFUcb"
      }
    },
    {
      "cell_type": "markdown",
      "source": [
        "De 0 a 15 de 2 en 2"
      ],
      "metadata": {
        "id": "XhYuTVUzF-Wv"
      }
    },
    {
      "cell_type": "code",
      "source": [
        "name=\"Michael Jackson\"\n",
        "name[::2]"
      ],
      "metadata": {
        "id": "yL0i60oYVQvT",
        "colab": {
          "base_uri": "https://localhost:8080/",
          "height": 35
        },
        "outputId": "e9327a22-c417-4ec2-abf6-add073a447e1"
      },
      "execution_count": 2,
      "outputs": [
        {
          "output_type": "execute_result",
          "data": {
            "text/plain": [
              "'McalJcsn'"
            ],
            "application/vnd.google.colaboratory.intrinsic+json": {
              "type": "string"
            }
          },
          "metadata": {},
          "execution_count": 2
        }
      ]
    },
    {
      "cell_type": "markdown",
      "source": [
        "De 0 a 5 de 2 en 2"
      ],
      "metadata": {
        "id": "c65MTdMgGDXS"
      }
    },
    {
      "cell_type": "code",
      "source": [
        "name[0:5:2]"
      ],
      "metadata": {
        "colab": {
          "base_uri": "https://localhost:8080/",
          "height": 35
        },
        "id": "QmLxfoIcFuLy",
        "outputId": "986f9690-64fa-4780-818a-61cc2d1c5ff8"
      },
      "execution_count": 3,
      "outputs": [
        {
          "output_type": "execute_result",
          "data": {
            "text/plain": [
              "'Mca'"
            ],
            "application/vnd.google.colaboratory.intrinsic+json": {
              "type": "string"
            }
          },
          "metadata": {},
          "execution_count": 3
        }
      ]
    },
    {
      "cell_type": "markdown",
      "source": [
        "Logitud de texto"
      ],
      "metadata": {
        "id": "p6W8Iu-BGMVG"
      }
    },
    {
      "cell_type": "code",
      "source": [
        "len(\"Michael Jackson\")"
      ],
      "metadata": {
        "colab": {
          "base_uri": "https://localhost:8080/"
        },
        "id": "lfT49hL0GQtJ",
        "outputId": "dc7d0dce-3e78-40c8-e887-a94b47a0fd45"
      },
      "execution_count": 4,
      "outputs": [
        {
          "output_type": "execute_result",
          "data": {
            "text/plain": [
              "15"
            ]
          },
          "metadata": {},
          "execution_count": 4
        }
      ]
    },
    {
      "cell_type": "markdown",
      "source": [
        "Concatenar con variable"
      ],
      "metadata": {
        "id": "fGlx2bRNGbOT"
      }
    },
    {
      "cell_type": "code",
      "source": [
        "name + \"Hola\""
      ],
      "metadata": {
        "colab": {
          "base_uri": "https://localhost:8080/",
          "height": 35
        },
        "id": "OE82_kUpGi98",
        "outputId": "704eb9a2-39dc-4feb-e4f8-7459a867d5be"
      },
      "execution_count": 5,
      "outputs": [
        {
          "output_type": "execute_result",
          "data": {
            "text/plain": [
              "'Michael JacksonHola'"
            ],
            "application/vnd.google.colaboratory.intrinsic+json": {
              "type": "string"
            }
          },
          "metadata": {},
          "execution_count": 5
        }
      ]
    },
    {
      "cell_type": "markdown",
      "source": [
        "\\n new line\n",
        "\\t new tab\n",
        "\\\\ backslashe"
      ],
      "metadata": {
        "id": "tYswzIuFG8Xt"
      }
    },
    {
      "cell_type": "code",
      "source": [
        "print(r\"mi texto \\ hola\")"
      ],
      "metadata": {
        "colab": {
          "base_uri": "https://localhost:8080/"
        },
        "id": "eiPNP7iwHM2W",
        "outputId": "9a32baa5-df9d-4b63-bd7e-64ebe000e4be"
      },
      "execution_count": 6,
      "outputs": [
        {
          "output_type": "stream",
          "name": "stdout",
          "text": [
            "mi texto \\ hola\n"
          ]
        }
      ]
    },
    {
      "cell_type": "markdown",
      "source": [
        "Mayusculas"
      ],
      "metadata": {
        "id": "xKvANCdVHgUT"
      }
    },
    {
      "cell_type": "code",
      "source": [
        "A=\"hola\"\n",
        "B=A.upper()\n",
        "B"
      ],
      "metadata": {
        "colab": {
          "base_uri": "https://localhost:8080/",
          "height": 35
        },
        "id": "PdJAsnKjHiAe",
        "outputId": "301ac801-f978-4c71-bea1-fe1bf4d15d55"
      },
      "execution_count": 8,
      "outputs": [
        {
          "output_type": "execute_result",
          "data": {
            "text/plain": [
              "'HOLA'"
            ],
            "application/vnd.google.colaboratory.intrinsic+json": {
              "type": "string"
            }
          },
          "metadata": {},
          "execution_count": 8
        }
      ]
    },
    {
      "cell_type": "markdown",
      "source": [
        "Replace"
      ],
      "metadata": {
        "id": "B_2RjV7kHx1D"
      }
    },
    {
      "cell_type": "code",
      "source": [
        "B=A.replace(\"hola\",\"Adios\")\n",
        "B"
      ],
      "metadata": {
        "colab": {
          "base_uri": "https://localhost:8080/",
          "height": 35
        },
        "id": "lYu8Aq27H0eP",
        "outputId": "08a2f89c-03a0-4c8d-e63b-5422c8c8100d"
      },
      "execution_count": 10,
      "outputs": [
        {
          "output_type": "execute_result",
          "data": {
            "text/plain": [
              "'Adios'"
            ],
            "application/vnd.google.colaboratory.intrinsic+json": {
              "type": "string"
            }
          },
          "metadata": {},
          "execution_count": 10
        }
      ]
    },
    {
      "cell_type": "markdown",
      "source": [
        "Buscar"
      ],
      "metadata": {
        "id": "TXH80rItILSC"
      }
    },
    {
      "cell_type": "code",
      "source": [
        "A.find(\"la\")"
      ],
      "metadata": {
        "colab": {
          "base_uri": "https://localhost:8080/"
        },
        "id": "-NmHfCGsIM-W",
        "outputId": "f5c4e343-7406-48d3-ec12-ad1e5661dff3"
      },
      "execution_count": 11,
      "outputs": [
        {
          "output_type": "execute_result",
          "data": {
            "text/plain": [
              "2"
            ]
          },
          "metadata": {},
          "execution_count": 11
        }
      ]
    },
    {
      "cell_type": "markdown",
      "source": [
        "Tupla"
      ],
      "metadata": {
        "id": "D52gvaTcIhzi"
      }
    },
    {
      "cell_type": "code",
      "source": [
        "Tupla1=(\"disco\",\"10\",\"1.2\")"
      ],
      "metadata": {
        "id": "EUlpXIMgIkNF"
      },
      "execution_count": 13,
      "outputs": []
    },
    {
      "cell_type": "code",
      "source": [
        "Tupla1[0]\n"
      ],
      "metadata": {
        "colab": {
          "base_uri": "https://localhost:8080/",
          "height": 35
        },
        "id": "eqskSxJSInRF",
        "outputId": "0484ee77-7359-4cbb-a1e1-8f0ac136bdda"
      },
      "execution_count": 18,
      "outputs": [
        {
          "output_type": "execute_result",
          "data": {
            "text/plain": [
              "'disco'"
            ],
            "application/vnd.google.colaboratory.intrinsic+json": {
              "type": "string"
            }
          },
          "metadata": {},
          "execution_count": 18
        }
      ]
    },
    {
      "cell_type": "code",
      "source": [
        "Tupla1[-3]"
      ],
      "metadata": {
        "colab": {
          "base_uri": "https://localhost:8080/",
          "height": 35
        },
        "id": "yR6hVeb4Jq_s",
        "outputId": "549e8e89-f497-4127-bb2f-b0563502b5f0"
      },
      "execution_count": 19,
      "outputs": [
        {
          "output_type": "execute_result",
          "data": {
            "text/plain": [
              "'disco'"
            ],
            "application/vnd.google.colaboratory.intrinsic+json": {
              "type": "string"
            }
          },
          "metadata": {},
          "execution_count": 19
        }
      ]
    },
    {
      "cell_type": "code",
      "source": [
        "Tupla2=Tupla1 + (\"hard rock\",10)\n",
        "Tupla2[0:3]"
      ],
      "metadata": {
        "colab": {
          "base_uri": "https://localhost:8080/"
        },
        "id": "pJBqNvHZJsS0",
        "outputId": "c8ef7d29-d793-4237-ffa6-d823ce8f2a0f"
      },
      "execution_count": 20,
      "outputs": [
        {
          "output_type": "execute_result",
          "data": {
            "text/plain": [
              "('disco', '10', '1.2')"
            ]
          },
          "metadata": {},
          "execution_count": 20
        }
      ]
    },
    {
      "cell_type": "markdown",
      "source": [
        "Tuplas anidadas"
      ],
      "metadata": {
        "id": "lc-fT_rsKiHo"
      }
    },
    {
      "cell_type": "code",
      "source": [
        "NT=(1,2,(\"pop\",\"rock\"),(3,4),(\"dis\",(1,2)))\n",
        "NT[2][1]\n"
      ],
      "metadata": {
        "colab": {
          "base_uri": "https://localhost:8080/",
          "height": 35
        },
        "id": "HmBJdP_QKldT",
        "outputId": "68176aac-3178-474c-8bab-41d664002cd4"
      },
      "execution_count": 27,
      "outputs": [
        {
          "output_type": "execute_result",
          "data": {
            "text/plain": [
              "'rock'"
            ],
            "application/vnd.google.colaboratory.intrinsic+json": {
              "type": "string"
            }
          },
          "metadata": {},
          "execution_count": 27
        }
      ]
    },
    {
      "cell_type": "code",
      "source": [
        "NT[2][1][0]"
      ],
      "metadata": {
        "colab": {
          "base_uri": "https://localhost:8080/",
          "height": 35
        },
        "id": "mcHLieA1MFWN",
        "outputId": "b8746934-f833-4d50-f05f-074863bc2501"
      },
      "execution_count": 24,
      "outputs": [
        {
          "output_type": "execute_result",
          "data": {
            "text/plain": [
              "'r'"
            ],
            "application/vnd.google.colaboratory.intrinsic+json": {
              "type": "string"
            }
          },
          "metadata": {},
          "execution_count": 24
        }
      ]
    },
    {
      "cell_type": "code",
      "source": [
        "NT[2][1][1]"
      ],
      "metadata": {
        "colab": {
          "base_uri": "https://localhost:8080/",
          "height": 35
        },
        "id": "0qveu1aEMGoq",
        "outputId": "285f37b5-1a9e-4ebb-f188-fb7aca808aad"
      },
      "execution_count": 25,
      "outputs": [
        {
          "output_type": "execute_result",
          "data": {
            "text/plain": [
              "'o'"
            ],
            "application/vnd.google.colaboratory.intrinsic+json": {
              "type": "string"
            }
          },
          "metadata": {},
          "execution_count": 25
        }
      ]
    },
    {
      "cell_type": "code",
      "source": [
        "NT[4][1][0]"
      ],
      "metadata": {
        "colab": {
          "base_uri": "https://localhost:8080/"
        },
        "id": "zA1C2sbjMWE5",
        "outputId": "83363ef3-1c04-4d9a-b71c-3ac38f26e954"
      },
      "execution_count": 28,
      "outputs": [
        {
          "output_type": "execute_result",
          "data": {
            "text/plain": [
              "1"
            ]
          },
          "metadata": {},
          "execution_count": 28
        }
      ]
    },
    {
      "cell_type": "code",
      "source": [
        "NT[4][1][1]"
      ],
      "metadata": {
        "colab": {
          "base_uri": "https://localhost:8080/"
        },
        "id": "Z7oZo82PMryj",
        "outputId": "279b2f7b-a2f1-4600-cbed-203d5ec7ea15"
      },
      "execution_count": 29,
      "outputs": [
        {
          "output_type": "execute_result",
          "data": {
            "text/plain": [
              "2"
            ]
          },
          "metadata": {},
          "execution_count": 29
        }
      ]
    },
    {
      "cell_type": "markdown",
      "source": [
        "Listas"
      ],
      "metadata": {
        "id": "XXDQqjUeM6sc"
      }
    },
    {
      "cell_type": "code",
      "source": [
        "L=[\"Michael Jackson\",10.1,1982,[1,2],(\"A\",1)]\n",
        "L"
      ],
      "metadata": {
        "colab": {
          "base_uri": "https://localhost:8080/"
        },
        "id": "A4nBY0YPM8r1",
        "outputId": "f8c5073c-8ddf-443d-fa12-f7bb41d7cc0e"
      },
      "execution_count": 30,
      "outputs": [
        {
          "output_type": "execute_result",
          "data": {
            "text/plain": [
              "['Michael Jackson', 10.1, 1982, [1, 2], ('A', 1)]"
            ]
          },
          "metadata": {},
          "execution_count": 30
        }
      ]
    },
    {
      "cell_type": "markdown",
      "source": [
        "Indices de listas"
      ],
      "metadata": {
        "id": "B7MMWPR8NTnu"
      }
    },
    {
      "cell_type": "code",
      "source": [
        "L[1]"
      ],
      "metadata": {
        "colab": {
          "base_uri": "https://localhost:8080/"
        },
        "id": "1Pnx-ezwNZjW",
        "outputId": "b52da904-7205-44eb-e455-4e84eae2f74d"
      },
      "execution_count": 31,
      "outputs": [
        {
          "output_type": "execute_result",
          "data": {
            "text/plain": [
              "10.1"
            ]
          },
          "metadata": {},
          "execution_count": 31
        }
      ]
    },
    {
      "cell_type": "code",
      "source": [
        "L[1:3]"
      ],
      "metadata": {
        "colab": {
          "base_uri": "https://localhost:8080/"
        },
        "id": "-dqmbP77Ng79",
        "outputId": "83ffd310-5c61-49f3-d627-91b320afa907"
      },
      "execution_count": 32,
      "outputs": [
        {
          "output_type": "execute_result",
          "data": {
            "text/plain": [
              "[10.1, 1982]"
            ]
          },
          "metadata": {},
          "execution_count": 32
        }
      ]
    },
    {
      "cell_type": "markdown",
      "source": [
        "Extender"
      ],
      "metadata": {
        "id": "WXCF8uVDNvFi"
      }
    },
    {
      "cell_type": "code",
      "source": [
        "L.extend([\"pop\",10])\n",
        "L"
      ],
      "metadata": {
        "colab": {
          "base_uri": "https://localhost:8080/"
        },
        "id": "DfA88ssKNx6a",
        "outputId": "3a557cf7-eabd-47be-c424-7995da94f947"
      },
      "execution_count": 33,
      "outputs": [
        {
          "output_type": "execute_result",
          "data": {
            "text/plain": [
              "['Michael Jackson', 10.1, 1982, [1, 2], ('A', 1), 'pop', 10]"
            ]
          },
          "metadata": {},
          "execution_count": 33
        }
      ]
    },
    {
      "cell_type": "markdown",
      "source": [
        "Añadir Texto"
      ],
      "metadata": {
        "id": "hGPnVOjiMy77"
      }
    },
    {
      "cell_type": "code",
      "source": [
        "L.append([\"pop\",10])\n",
        "L"
      ],
      "metadata": {
        "colab": {
          "base_uri": "https://localhost:8080/"
        },
        "id": "D4lJuycuMyIU",
        "outputId": "1b1e0e41-dd10-4c86-98b4-b3c945bf5a51"
      },
      "execution_count": 35,
      "outputs": [
        {
          "output_type": "execute_result",
          "data": {
            "text/plain": [
              "['Michael Jackson',\n",
              " 10.1,\n",
              " 1982,\n",
              " [1, 2],\n",
              " ('A', 1),\n",
              " 'pop',\n",
              " 10,\n",
              " ['pop', 10],\n",
              " ['pop', 10]]"
            ]
          },
          "metadata": {},
          "execution_count": 35
        }
      ]
    },
    {
      "cell_type": "markdown",
      "source": [
        "Borrar"
      ],
      "metadata": {
        "id": "1_JMrpTpOOSD"
      }
    },
    {
      "cell_type": "code",
      "source": [
        "A=[\"hard rock\",10,1.2]\n",
        "del(A[0])\n",
        "A"
      ],
      "metadata": {
        "colab": {
          "base_uri": "https://localhost:8080/"
        },
        "id": "SZrPrMn-OPZj",
        "outputId": "fd3b1627-b6f2-4f47-8a85-8e7a9aa752ab"
      },
      "execution_count": 36,
      "outputs": [
        {
          "output_type": "execute_result",
          "data": {
            "text/plain": [
              "[10, 1.2]"
            ]
          },
          "metadata": {},
          "execution_count": 36
        }
      ]
    },
    {
      "cell_type": "markdown",
      "source": [
        "Separar por delimitador"
      ],
      "metadata": {
        "id": "PesGgqOLOgfQ"
      }
    },
    {
      "cell_type": "code",
      "source": [
        "\"A,B,C,D\".split(\",\")"
      ],
      "metadata": {
        "colab": {
          "base_uri": "https://localhost:8080/"
        },
        "id": "yAlIh2SROigG",
        "outputId": "b613ebb0-f1b7-4620-f8e4-b8bc31c75cba"
      },
      "execution_count": 37,
      "outputs": [
        {
          "output_type": "execute_result",
          "data": {
            "text/plain": [
              "['A', 'B', 'C', 'D']"
            ]
          },
          "metadata": {},
          "execution_count": 37
        }
      ]
    },
    {
      "cell_type": "markdown",
      "source": [
        "Sets\n",
        "\n",
        "*   Set so un tipo de colleccion, significa que puedes poner diferentes tipos de entrada\n",
        "*   Son sin ordenar, no graban la posicion\n",
        "*   Solo tienen elementos unicos\n",
        "\n",
        "\n",
        "\n"
      ],
      "metadata": {
        "id": "jS5UqK7MO6Sb"
      }
    },
    {
      "cell_type": "code",
      "source": [
        "Set1={\"pop\",\"rock\",\"disco\"}"
      ],
      "metadata": {
        "id": "Ajj09_DzPqKO"
      },
      "execution_count": 38,
      "outputs": []
    },
    {
      "cell_type": "markdown",
      "source": [
        "Convertir List -> Set set(lis()), si tiene elementos duplicados los quita"
      ],
      "metadata": {
        "id": "Mxg9YQdBP6nF"
      }
    },
    {
      "cell_type": "code",
      "source": [
        "Set2=set(list(A))\n",
        "Set2"
      ],
      "metadata": {
        "colab": {
          "base_uri": "https://localhost:8080/"
        },
        "id": "BhXYyDphQFbm",
        "outputId": "766e520c-8e7b-417d-d876-b52820bc1f36"
      },
      "execution_count": 40,
      "outputs": [
        {
          "output_type": "execute_result",
          "data": {
            "text/plain": [
              "{1.2, 10}"
            ]
          },
          "metadata": {},
          "execution_count": 40
        }
      ]
    },
    {
      "cell_type": "code",
      "source": [
        "A=[\"AB\",\"AX\",\"AW\"]"
      ],
      "metadata": {
        "id": "DZd0tWSHQeCl"
      },
      "execution_count": 43,
      "outputs": []
    },
    {
      "cell_type": "markdown",
      "source": [
        "Añadir"
      ],
      "metadata": {
        "id": "VUtm0u2vQmjX"
      }
    },
    {
      "cell_type": "code",
      "source": [
        "A.append(\"AZ\")\n",
        "A"
      ],
      "metadata": {
        "colab": {
          "base_uri": "https://localhost:8080/"
        },
        "id": "vs6B0gYBQpKx",
        "outputId": "d196fa58-98ae-4f6d-af70-a44d0b309c99"
      },
      "execution_count": 44,
      "outputs": [
        {
          "output_type": "execute_result",
          "data": {
            "text/plain": [
              "['AB', 'AX', 'AW', 'AZ']"
            ]
          },
          "metadata": {},
          "execution_count": 44
        }
      ]
    },
    {
      "cell_type": "markdown",
      "source": [
        "Remover"
      ],
      "metadata": {
        "id": "waw00Nc7Qw4o"
      }
    },
    {
      "cell_type": "code",
      "source": [
        "A.remove(\"AW\")\n",
        "A"
      ],
      "metadata": {
        "colab": {
          "base_uri": "https://localhost:8080/"
        },
        "id": "srlRLJjqQ0sQ",
        "outputId": "7d8e89c1-dcd4-48ef-bdc5-8ac4c2ab6c82"
      },
      "execution_count": 46,
      "outputs": [
        {
          "output_type": "execute_result",
          "data": {
            "text/plain": [
              "['AB', 'AX', 'AZ']"
            ]
          },
          "metadata": {},
          "execution_count": 46
        }
      ]
    },
    {
      "cell_type": "markdown",
      "source": [
        "Operaciones"
      ],
      "metadata": {
        "id": "tY8vRF6-Q-Kt"
      }
    },
    {
      "cell_type": "code",
      "source": [
        "\"AB\" in A"
      ],
      "metadata": {
        "colab": {
          "base_uri": "https://localhost:8080/"
        },
        "id": "N0xnQt9cQ0t7",
        "outputId": "d728f08e-3130-4caa-d8d8-e0bc67d027a8"
      },
      "execution_count": 47,
      "outputs": [
        {
          "output_type": "execute_result",
          "data": {
            "text/plain": [
              "True"
            ]
          },
          "metadata": {},
          "execution_count": 47
        }
      ]
    },
    {
      "cell_type": "code",
      "source": [
        "\"AM\" in A"
      ],
      "metadata": {
        "colab": {
          "base_uri": "https://localhost:8080/"
        },
        "id": "YhpWA0SnR3wU",
        "outputId": "6e5c5b8f-3438-407b-e8b8-094f668bd314"
      },
      "execution_count": 48,
      "outputs": [
        {
          "output_type": "execute_result",
          "data": {
            "text/plain": [
              "False"
            ]
          },
          "metadata": {},
          "execution_count": 48
        }
      ]
    },
    {
      "cell_type": "markdown",
      "source": [],
      "metadata": {
        "id": "ot7s3dQGP4fM"
      }
    }
  ]
}