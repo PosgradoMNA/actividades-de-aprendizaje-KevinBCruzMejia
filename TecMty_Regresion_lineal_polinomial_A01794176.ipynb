{
  "nbformat": 4,
  "nbformat_minor": 0,
  "metadata": {
    "kernelspec": {
      "display_name": "Python 3",
      "language": "python",
      "name": "python3"
    },
    "language_info": {
      "codemirror_mode": {
        "name": "ipython",
        "version": 3
      },
      "file_extension": ".py",
      "mimetype": "text/x-python",
      "name": "python",
      "nbconvert_exporter": "python",
      "pygments_lexer": "ipython3",
      "version": "3.7.7"
    },
    "colab": {
      "provenance": [],
      "collapsed_sections": [
        "szpzFXgiVQwN",
        "_Rv-RJSnVQwR"
      ],
      "include_colab_link": true
    },
    "accelerator": "GPU"
  },
  "cells": [
    {
      "cell_type": "markdown",
      "metadata": {
        "id": "view-in-github",
        "colab_type": "text"
      },
      "source": [
        "<a href=\"https://colab.research.google.com/github/PosgradoMNA/actividades-de-aprendizaje-KevinBCruzMejia/blob/main/TecMty_Regresion_lineal_polinomial_A01794176.ipynb\" target=\"_parent\"><img src=\"https://colab.research.google.com/assets/colab-badge.svg\" alt=\"Open In Colab\"/></a>"
      ]
    },
    {
      "cell_type": "markdown",
      "source": [
        "#**Maestría en Inteligencia Artificial Aplicada**\n",
        "##**Curso: Ciencia y analítica de datos**\n",
        "###Tecnológico de Monterrey\n",
        "###Profesora: Dra. María de la Paz Rico Fernández\n",
        "####Fecha: 09/11/2022\n",
        "## **Adtividad de la Semana 7**\n",
        "###**Notebook 1. Regresión. **"
      ],
      "metadata": {
        "id": "hBlQtBb6LhJY"
      }
    },
    {
      "cell_type": "markdown",
      "source": [
        "**Nombre y matrícula del estudiante:**\n",
        "\n",
        "*   Kevin Brandon Cruz Mejia - A01794176\n",
        "\n",
        "**Link:**\n",
        "* https://github.com/PosgradoMNA/actividades-de-aprendizaje-KevinBCruzMejia/blob/main/TecMty_Regresion_lineal_polinomial_A01794176.ipynb"
      ],
      "metadata": {
        "id": "OyBbSUJGLu7j"
      }
    },
    {
      "cell_type": "markdown",
      "metadata": {
        "id": "WUO-kdryVQwK"
      },
      "source": [
        "# Linear Models\n"
      ]
    },
    {
      "cell_type": "markdown",
      "metadata": {
        "id": "u3ytB4LpVQwM"
      },
      "source": [
        "- In supervised learning, the training data fed to the algorithm includes the desired solutions, called labels. \n",
        "- In **regression**, the labels are continuous quantities.\n",
        "- Linear models predict by computing a weighted sum of input features plus a bias term."
      ]
    },
    {
      "cell_type": "code",
      "metadata": {
        "id": "HMp_I4Y6VQwN"
      },
      "source": [
        "import numpy as np\n",
        "%matplotlib inline\n",
        "import matplotlib\n",
        "import matplotlib.pyplot as plt\n",
        "import pandas as pd\n",
        "import seaborn as sns\n",
        "# to make this notebook's output stable across runs\n",
        "np.random.seed(42)"
      ],
      "execution_count": 1,
      "outputs": []
    },
    {
      "cell_type": "code",
      "source": [
        "5-2"
      ],
      "metadata": {
        "colab": {
          "base_uri": "https://localhost:8080/"
        },
        "id": "exg6xSYf3F5D",
        "outputId": "8bea28b1-0da3-4f1b-f41c-8e2fd9b7135e"
      },
      "execution_count": 2,
      "outputs": [
        {
          "output_type": "execute_result",
          "data": {
            "text/plain": [
              "3"
            ]
          },
          "metadata": {},
          "execution_count": 2
        }
      ]
    },
    {
      "cell_type": "markdown",
      "metadata": {
        "id": "szpzFXgiVQwN"
      },
      "source": [
        "## Simple Linear Regression\n",
        "\n",
        "Simple linear regression equation:\n",
        "\n",
        "$y = ax + b$\n",
        "<br>\n",
        "$a$: slope\n",
        "<br>\n",
        "$b$: intercept\n",
        "\n",
        "Generate linear-looking data with the equation:\n",
        "\n",
        "$y = 3X + 4 + noise$"
      ]
    },
    {
      "cell_type": "code",
      "metadata": {
        "colab": {
          "base_uri": "https://localhost:8080/"
        },
        "id": "mitJFYeiMQqD",
        "outputId": "a5fff3c2-9f6a-4bdb-a120-e324a1a96044"
      },
      "source": [
        "np.random.rand(100, 1)"
      ],
      "execution_count": 3,
      "outputs": [
        {
          "output_type": "execute_result",
          "data": {
            "text/plain": [
              "array([[0.37454012],\n",
              "       [0.95071431],\n",
              "       [0.73199394],\n",
              "       [0.59865848],\n",
              "       [0.15601864],\n",
              "       [0.15599452],\n",
              "       [0.05808361],\n",
              "       [0.86617615],\n",
              "       [0.60111501],\n",
              "       [0.70807258],\n",
              "       [0.02058449],\n",
              "       [0.96990985],\n",
              "       [0.83244264],\n",
              "       [0.21233911],\n",
              "       [0.18182497],\n",
              "       [0.18340451],\n",
              "       [0.30424224],\n",
              "       [0.52475643],\n",
              "       [0.43194502],\n",
              "       [0.29122914],\n",
              "       [0.61185289],\n",
              "       [0.13949386],\n",
              "       [0.29214465],\n",
              "       [0.36636184],\n",
              "       [0.45606998],\n",
              "       [0.78517596],\n",
              "       [0.19967378],\n",
              "       [0.51423444],\n",
              "       [0.59241457],\n",
              "       [0.04645041],\n",
              "       [0.60754485],\n",
              "       [0.17052412],\n",
              "       [0.06505159],\n",
              "       [0.94888554],\n",
              "       [0.96563203],\n",
              "       [0.80839735],\n",
              "       [0.30461377],\n",
              "       [0.09767211],\n",
              "       [0.68423303],\n",
              "       [0.44015249],\n",
              "       [0.12203823],\n",
              "       [0.49517691],\n",
              "       [0.03438852],\n",
              "       [0.9093204 ],\n",
              "       [0.25877998],\n",
              "       [0.66252228],\n",
              "       [0.31171108],\n",
              "       [0.52006802],\n",
              "       [0.54671028],\n",
              "       [0.18485446],\n",
              "       [0.96958463],\n",
              "       [0.77513282],\n",
              "       [0.93949894],\n",
              "       [0.89482735],\n",
              "       [0.59789998],\n",
              "       [0.92187424],\n",
              "       [0.0884925 ],\n",
              "       [0.19598286],\n",
              "       [0.04522729],\n",
              "       [0.32533033],\n",
              "       [0.38867729],\n",
              "       [0.27134903],\n",
              "       [0.82873751],\n",
              "       [0.35675333],\n",
              "       [0.28093451],\n",
              "       [0.54269608],\n",
              "       [0.14092422],\n",
              "       [0.80219698],\n",
              "       [0.07455064],\n",
              "       [0.98688694],\n",
              "       [0.77224477],\n",
              "       [0.19871568],\n",
              "       [0.00552212],\n",
              "       [0.81546143],\n",
              "       [0.70685734],\n",
              "       [0.72900717],\n",
              "       [0.77127035],\n",
              "       [0.07404465],\n",
              "       [0.35846573],\n",
              "       [0.11586906],\n",
              "       [0.86310343],\n",
              "       [0.62329813],\n",
              "       [0.33089802],\n",
              "       [0.06355835],\n",
              "       [0.31098232],\n",
              "       [0.32518332],\n",
              "       [0.72960618],\n",
              "       [0.63755747],\n",
              "       [0.88721274],\n",
              "       [0.47221493],\n",
              "       [0.11959425],\n",
              "       [0.71324479],\n",
              "       [0.76078505],\n",
              "       [0.5612772 ],\n",
              "       [0.77096718],\n",
              "       [0.4937956 ],\n",
              "       [0.52273283],\n",
              "       [0.42754102],\n",
              "       [0.02541913],\n",
              "       [0.10789143]])"
            ]
          },
          "metadata": {},
          "execution_count": 3
        }
      ]
    },
    {
      "cell_type": "code",
      "metadata": {
        "colab": {
          "base_uri": "https://localhost:8080/",
          "height": 0
        },
        "id": "QyubE1VEVQwN",
        "outputId": "0647ef09-1b90-40bd-ca64-a7ab1784bcf6"
      },
      "source": [
        "X = 2*np.random.rand(100, 1)\n",
        "y = 4 + 3 * X + np.random.randn(100, 1)\n",
        "plt.scatter(X, y);"
      ],
      "execution_count": 4,
      "outputs": [
        {
          "output_type": "display_data",
          "data": {
            "text/plain": [
              "<Figure size 432x288 with 1 Axes>"
            ],
            "image/png": "[encoded data removed]"
          },
          "metadata": {
            "needs_background": "light"
          }
        }
      ]
    },
    {
      "cell_type": "code",
      "source": [
        "import pandas as pd\n",
        "pd.DataFrame(y)"
      ],
      "metadata": {
        "colab": {
          "base_uri": "https://localhost:8080/",
          "height": 0
        },
        "id": "M5kaENJ4bZY5",
        "outputId": "2b69a884-575f-4902-dd2a-4a13d9b286e5"
      },
      "execution_count": 5,
      "outputs": [
        {
          "output_type": "execute_result",
          "data": {
            "text/plain": [
              "            0\n",
              "0    3.508550\n",
              "1    8.050716\n",
              "2    6.179208\n",
              "3    6.337073\n",
              "4   11.311173\n",
              "..        ...\n",
              "95   5.441928\n",
              "96  10.121188\n",
              "97   9.787643\n",
              "98   8.061635\n",
              "99   9.597115\n",
              "\n",
              "[100 rows x 1 columns]"
            ],
            "text/html": [
              "\n",
              "  <div id=\"df-a2dbf67a-b5f7-4d1f-833d-621d6d214224\">\n",
              "    <div class=\"colab-df-container\">\n",
              "      <div>\n",
              "<style scoped>\n",
              "    .dataframe tbody tr th:only-of-type {\n",
              "        vertical-align: middle;\n",
              "    }\n",
              "\n",
              "    .dataframe tbody tr th {\n",
              "        vertical-align: top;\n",
              "    }\n",
              "\n",
              "    .dataframe thead th {\n",
              "        text-align: right;\n",
              "    }\n",
              "</style>\n",
              "<table border=\"1\" class=\"dataframe\">\n",
              "  <thead>\n",
              "    <tr style=\"text-align: right;\">\n",
              "      <th></th>\n",
              "      <th>0</th>\n",
              "    </tr>\n",
              "  </thead>\n",
              "  <tbody>\n",
              "    <tr>\n",
              "      <th>0</th>\n",
              "      <td>3.508550</td>\n",
              "    </tr>\n",
              "    <tr>\n",
              "      <th>1</th>\n",
              "      <td>8.050716</td>\n",
              "    </tr>\n",
              "    <tr>\n",
              "      <th>2</th>\n",
              "      <td>6.179208</td>\n",
              "    </tr>\n",
              "    <tr>\n",
              "      <th>3</th>\n",
              "      <td>6.337073</td>\n",
              "    </tr>\n",
              "    <tr>\n",
              "      <th>4</th>\n",
              "      <td>11.311173</td>\n",
              "    </tr>\n",
              "    <tr>\n",
              "      <th>...</th>\n",
              "      <td>...</td>\n",
              "    </tr>\n",
              "    <tr>\n",
              "      <th>95</th>\n",
              "      <td>5.441928</td>\n",
              "    </tr>\n",
              "    <tr>\n",
              "      <th>96</th>\n",
              "      <td>10.121188</td>\n",
              "    </tr>\n",
              "    <tr>\n",
              "      <th>97</th>\n",
              "      <td>9.787643</td>\n",
              "    </tr>\n",
              "    <tr>\n",
              "      <th>98</th>\n",
              "      <td>8.061635</td>\n",
              "    </tr>\n",
              "    <tr>\n",
              "      <th>99</th>\n",
              "      <td>9.597115</td>\n",
              "    </tr>\n",
              "  </tbody>\n",
              "</table>\n",
              "<p>100 rows × 1 columns</p>\n",
              "</div>\n",
              "      <button class=\"colab-df-convert\" onclick=\"convertToInteractive('df-a2dbf67a-b5f7-4d1f-833d-621d6d214224')\"\n",
              "              title=\"Convert this dataframe to an interactive table.\"\n",
              "              style=\"display:none;\">\n",
              "        \n",
              "  <svg xmlns=\"http://www.w3.org/2000/svg\" height=\"24px\"viewBox=\"0 0 24 24\"\n",
              "       width=\"24px\">\n",
              "    <path d=\"M0 0h24v24H0V0z\" fill=\"none\"/>\n",
              "    <path d=\"M18.56 5.44l.94 2.06.94-2.06 2.06-.94-2.06-.94-.94-2.06-.94 2.06-2.06.94zm-11 1L8.5 8.5l.94-2.06 2.06-.94-2.06-.94L8.5 2.5l-.94 2.06-2.06.94zm10 10l.94 2.06.94-2.06 2.06-.94-2.06-.94-.94-2.06-.94 2.06-2.06.94z\"/><path d=\"M17.41 7.96l-1.37-1.37c-.4-.4-.92-.59-1.43-.59-.52 0-1.04.2-1.43.59L10.3 9.45l-7.72 7.72c-.78.78-.78 2.05 0 2.83L4 21.41c.39.39.9.59 1.41.59.51 0 1.02-.2 1.41-.59l7.78-7.78 2.81-2.81c.8-.78.8-2.07 0-2.86zM5.41 20L4 18.59l7.72-7.72 1.47 1.35L5.41 20z\"/>\n",
              "  </svg>\n",
              "      </button>\n",
              "      \n",
              "  <style>\n",
              "    .colab-df-container {\n",
              "      display:flex;\n",
              "      flex-wrap:wrap;\n",
              "      gap: 12px;\n",
              "    }\n",
              "\n",
              "    .colab-df-convert {\n",
              "      background-color: #E8F0FE;\n",
              "      border: none;\n",
              "      border-radius: 50%;\n",
              "      cursor: pointer;\n",
              "      display: none;\n",
              "      fill: #1967D2;\n",
              "      height: 32px;\n",
              "      padding: 0 0 0 0;\n",
              "      width: 32px;\n",
              "    }\n",
              "\n",
              "    .colab-df-convert:hover {\n",
              "      background-color: #E2EBFA;\n",
              "      box-shadow: 0px 1px 2px rgba(60, 64, 67, 0.3), 0px 1px 3px 1px rgba(60, 64, 67, 0.15);\n",
              "      fill: #174EA6;\n",
              "    }\n",
              "\n",
              "    [theme=dark] .colab-df-convert {\n",
              "      background-color: #3B4455;\n",
              "      fill: #D2E3FC;\n",
              "    }\n",
              "\n",
              "    [theme=dark] .colab-df-convert:hover {\n",
              "      background-color: #434B5C;\n",
              "      box-shadow: 0px 1px 3px 1px rgba(0, 0, 0, 0.15);\n",
              "      filter: drop-shadow(0px 1px 2px rgba(0, 0, 0, 0.3));\n",
              "      fill: #FFFFFF;\n",
              "    }\n",
              "  </style>\n",
              "\n",
              "      <script>\n",
              "        const buttonEl =\n",
              "          document.querySelector('#df-a2dbf67a-b5f7-4d1f-833d-621d6d214224 button.colab-df-convert');\n",
              "        buttonEl.style.display =\n",
              "          google.colab.kernel.accessAllowed ? 'block' : 'none';\n",
              "\n",
              "        async function convertToInteractive(key) {\n",
              "          const element = document.querySelector('#df-a2dbf67a-b5f7-4d1f-833d-621d6d214224');\n",
              "          const dataTable =\n",
              "            await google.colab.kernel.invokeFunction('convertToInteractive',\n",
              "                                                     [key], {});\n",
              "          if (!dataTable) return;\n",
              "\n",
              "          const docLinkHtml = 'Like what you see? Visit the ' +\n",
              "            '<a target=\"_blank\" href=https://colab.research.google.com/notebooks/data_table.ipynb>data table notebook</a>'\n",
              "            + ' to learn more about interactive tables.';\n",
              "          element.innerHTML = '';\n",
              "          dataTable['output_type'] = 'display_data';\n",
              "          await google.colab.output.renderOutput(dataTable, element);\n",
              "          const docLink = document.createElement('div');\n",
              "          docLink.innerHTML = docLinkHtml;\n",
              "          element.appendChild(docLink);\n",
              "        }\n",
              "      </script>\n",
              "    </div>\n",
              "  </div>\n",
              "  "
            ]
          },
          "metadata": {},
          "execution_count": 5
        }
      ]
    },
    {
      "cell_type": "code",
      "metadata": {
        "colab": {
          "base_uri": "https://localhost:8080/"
        },
        "id": "x6XGt_iAVQwO",
        "outputId": "9adf01ef-70e9-4999-c612-c96e7d29f0a3"
      },
      "source": [
        "from sklearn.linear_model import LinearRegression\n",
        "\n",
        "linear_reg = LinearRegression(fit_intercept=True)\n",
        "linear_reg.fit(X, y)"
      ],
      "execution_count": 6,
      "outputs": [
        {
          "output_type": "execute_result",
          "data": {
            "text/plain": [
              "LinearRegression()"
            ]
          },
          "metadata": {},
          "execution_count": 6
        }
      ]
    },
    {
      "cell_type": "markdown",
      "metadata": {
        "id": "Hnm9YgjbVQwO"
      },
      "source": [
        "Plot the model's predictions:"
      ]
    },
    {
      "cell_type": "code",
      "metadata": {
        "id": "9NtrLfGGVQwP"
      },
      "source": [
        "#X_fit[]"
      ],
      "execution_count": 7,
      "outputs": []
    },
    {
      "cell_type": "code",
      "metadata": {
        "colab": {
          "base_uri": "https://localhost:8080/",
          "height": 0
        },
        "id": "1ZTT31igVQwP",
        "outputId": "a8e53a1d-6c1d-45c1-899e-557801659fb9"
      },
      "source": [
        "# construct best fit line\n",
        "X_fit = np.linspace(0, 2, 100)\n",
        "y_fit = linear_reg.predict(X_fit[:, np.newaxis])\n",
        "\n",
        "plt.scatter(X, y)\n",
        "plt.plot(X_fit, y_fit, \"r-\", linewidth=2, label=\"Predictions\")\n",
        "plt.xlabel(\"$X$\", fontsize=18)\n",
        "plt.ylabel(\"$y$\", rotation=0, fontsize=18)\n",
        "plt.legend(loc=\"upper left\", fontsize=14);"
      ],
      "execution_count": 8,
      "outputs": [
        {
          "output_type": "display_data",
          "data": {
            "text/plain": [
              "<Figure size 432x288 with 1 Axes>"
            ],
            "image/png": "[encoded data removed]"
          },
          "metadata": {
            "needs_background": "light"
          }
        }
      ]
    },
    {
      "cell_type": "markdown",
      "metadata": {
        "id": "kIfOsEcWVQwP"
      },
      "source": [
        "Predictions are a good fit."
      ]
    },
    {
      "cell_type": "markdown",
      "metadata": {
        "id": "z2VYUeGrVQwQ"
      },
      "source": [
        "Generate new data to make predictions with the model:"
      ]
    },
    {
      "cell_type": "code",
      "metadata": {
        "colab": {
          "base_uri": "https://localhost:8080/"
        },
        "id": "FuEd0Wp0VQwQ",
        "outputId": "882386c8-d947-4c66-9168-947bccfff05a"
      },
      "source": [
        "X_new = np.array([[0], [2]])\n",
        "X_new"
      ],
      "execution_count": 9,
      "outputs": [
        {
          "output_type": "execute_result",
          "data": {
            "text/plain": [
              "array([[0],\n",
              "       [2]])"
            ]
          },
          "metadata": {},
          "execution_count": 9
        }
      ]
    },
    {
      "cell_type": "code",
      "metadata": {
        "colab": {
          "base_uri": "https://localhost:8080/"
        },
        "id": "lLCnLm7_VQwQ",
        "outputId": "3bb3fe39-2520-4ad8-e851-6eaf0188c77d"
      },
      "source": [
        "X_new.shape"
      ],
      "execution_count": 10,
      "outputs": [
        {
          "output_type": "execute_result",
          "data": {
            "text/plain": [
              "(2, 1)"
            ]
          },
          "metadata": {},
          "execution_count": 10
        }
      ]
    },
    {
      "cell_type": "code",
      "metadata": {
        "colab": {
          "base_uri": "https://localhost:8080/"
        },
        "id": "zJIzUfZsVQwQ",
        "outputId": "160f07ba-4adc-4be2-ba39-af99dcb20ae6"
      },
      "source": [
        "y_new = linear_reg.predict(X_new)\n",
        "y_new"
      ],
      "execution_count": 11,
      "outputs": [
        {
          "output_type": "execute_result",
          "data": {
            "text/plain": [
              "array([[ 3.74406122],\n",
              "       [10.47517611]])"
            ]
          },
          "metadata": {},
          "execution_count": 11
        }
      ]
    },
    {
      "cell_type": "code",
      "metadata": {
        "colab": {
          "base_uri": "https://localhost:8080/"
        },
        "id": "ICiEnkbdVQwQ",
        "outputId": "585995ec-a53d-48c5-9e06-9635a5addc3e"
      },
      "source": [
        " linear_reg.coef_, linear_reg.intercept_"
      ],
      "execution_count": 12,
      "outputs": [
        {
          "output_type": "execute_result",
          "data": {
            "text/plain": [
              "(array([[3.36555744]]), array([3.74406122]))"
            ]
          },
          "metadata": {},
          "execution_count": 12
        }
      ]
    },
    {
      "cell_type": "markdown",
      "metadata": {
        "id": "iBXzOecgVQwR"
      },
      "source": [
        "The model estimates:\n",
        "\n",
        "$\\hat{y} = 3.36X + 3.74$"
      ]
    },
    {
      "cell_type": "code",
      "metadata": {
        "id": "ZNvipq0wQYfj"
      },
      "source": [
        "#|VENTAS|GANANCIAS|\n",
        "#COEF*VENTAS+B\n",
        "#|VENTAS|COMPRAS|GANANCIAS|\n",
        "#COEF1*X1+COEF2*X2+B=Y"
      ],
      "execution_count": 13,
      "outputs": []
    },
    {
      "cell_type": "markdown",
      "metadata": {
        "id": "_Rv-RJSnVQwR"
      },
      "source": [
        "## Polynomial Regression\n",
        "\n",
        "If data is more complex than a straight line, you can use a linear model ti fit non-linear data adding powers of each feature as new features and then train a linear model on the extended set of features. "
      ]
    },
    {
      "cell_type": "markdown",
      "metadata": {
        "id": "dPrpAVsZVQwR"
      },
      "source": [
        "$$y = a_0 + a_1x_1 + a_2x_2 + a_3x_3 + ...$$ to $$y = a_0 + a_1x + a_2x^2 + a_3x^3+ ...$$ "
      ]
    },
    {
      "cell_type": "markdown",
      "metadata": {
        "id": "9kjMWzEfVQwR"
      },
      "source": [
        "This is still a linear model, the linearity refers to the fact that the coefficients never multiply or divide each other."
      ]
    },
    {
      "cell_type": "markdown",
      "metadata": {
        "id": "2M3fp_CSVQwR"
      },
      "source": [
        "To generate polynomial data we use the function:\n",
        "\n",
        "$y = 0.50X^2 + X + 2 + noise$"
      ]
    },
    {
      "cell_type": "code",
      "metadata": {
        "id": "sSrueMnPVQwR"
      },
      "source": [
        "# generate non-linear data e.g. quadratic equation\n",
        "m = 100\n",
        "X = 6 * np.random.rand(m, 1) - 3\n",
        "y = 0.5 * X**2 + X + 2 + np.random.randn(m, 1)"
      ],
      "execution_count": 14,
      "outputs": []
    },
    {
      "cell_type": "code",
      "metadata": {
        "colab": {
          "base_uri": "https://localhost:8080/",
          "height": 0
        },
        "id": "GNQQoXkMVQwS",
        "outputId": "b6ede282-db0c-4a8b-f33d-ebe3c6d47cdf"
      },
      "source": [
        "plt.plot(X, y, \"b.\")\n",
        "plt.xlabel(\"$x_1$\", fontsize=18)\n",
        "plt.ylabel(\"$y$\", rotation=0, fontsize=18)\n",
        "plt.axis([-3, 3, 0, 10]);"
      ],
      "execution_count": 15,
      "outputs": [
        {
          "output_type": "display_data",
          "data": {
            "text/plain": [
              "<Figure size 432x288 with 1 Axes>"
            ],
            "image/png": "[encoded data removed]"
          },
          "metadata": {
            "needs_background": "light"
          }
        }
      ]
    },
    {
      "cell_type": "code",
      "source": [
        "import pandas as pd\n",
        "pd.DataFrame(y)"
      ],
      "metadata": {
        "id": "YtaK_dsidNcP",
        "outputId": "cc26ac2e-cae2-4c9b-f956-d74e512970aa",
        "colab": {
          "base_uri": "https://localhost:8080/",
          "height": 0
        }
      },
      "execution_count": 16,
      "outputs": [
        {
          "output_type": "execute_result",
          "data": {
            "text/plain": [
              "           0\n",
              "0   8.529240\n",
              "1   3.768929\n",
              "2   3.354423\n",
              "3   2.747935\n",
              "4   0.808458\n",
              "..       ...\n",
              "95  5.346771\n",
              "96  6.338229\n",
              "97  3.488785\n",
              "98  1.372002\n",
              "99 -0.072150\n",
              "\n",
              "[100 rows x 1 columns]"
            ],
            "text/html": [
              "\n",
              "  <div id=\"df-e38d0583-b54d-47fb-ab79-3da80eaa020e\">\n",
              "    <div class=\"colab-df-container\">\n",
              "      <div>\n",
              "<style scoped>\n",
              "    .dataframe tbody tr th:only-of-type {\n",
              "        vertical-align: middle;\n",
              "    }\n",
              "\n",
              "    .dataframe tbody tr th {\n",
              "        vertical-align: top;\n",
              "    }\n",
              "\n",
              "    .dataframe thead th {\n",
              "        text-align: right;\n",
              "    }\n",
              "</style>\n",
              "<table border=\"1\" class=\"dataframe\">\n",
              "  <thead>\n",
              "    <tr style=\"text-align: right;\">\n",
              "      <th></th>\n",
              "      <th>0</th>\n",
              "    </tr>\n",
              "  </thead>\n",
              "  <tbody>\n",
              "    <tr>\n",
              "      <th>0</th>\n",
              "      <td>8.529240</td>\n",
              "    </tr>\n",
              "    <tr>\n",
              "      <th>1</th>\n",
              "      <td>3.768929</td>\n",
              "    </tr>\n",
              "    <tr>\n",
              "      <th>2</th>\n",
              "      <td>3.354423</td>\n",
              "    </tr>\n",
              "    <tr>\n",
              "      <th>3</th>\n",
              "      <td>2.747935</td>\n",
              "    </tr>\n",
              "    <tr>\n",
              "      <th>4</th>\n",
              "      <td>0.808458</td>\n",
              "    </tr>\n",
              "    <tr>\n",
              "      <th>...</th>\n",
              "      <td>...</td>\n",
              "    </tr>\n",
              "    <tr>\n",
              "      <th>95</th>\n",
              "      <td>5.346771</td>\n",
              "    </tr>\n",
              "    <tr>\n",
              "      <th>96</th>\n",
              "      <td>6.338229</td>\n",
              "    </tr>\n",
              "    <tr>\n",
              "      <th>97</th>\n",
              "      <td>3.488785</td>\n",
              "    </tr>\n",
              "    <tr>\n",
              "      <th>98</th>\n",
              "      <td>1.372002</td>\n",
              "    </tr>\n",
              "    <tr>\n",
              "      <th>99</th>\n",
              "      <td>-0.072150</td>\n",
              "    </tr>\n",
              "  </tbody>\n",
              "</table>\n",
              "<p>100 rows × 1 columns</p>\n",
              "</div>\n",
              "      <button class=\"colab-df-convert\" onclick=\"convertToInteractive('df-e38d0583-b54d-47fb-ab79-3da80eaa020e')\"\n",
              "              title=\"Convert this dataframe to an interactive table.\"\n",
              "              style=\"display:none;\">\n",
              "        \n",
              "  <svg xmlns=\"http://www.w3.org/2000/svg\" height=\"24px\"viewBox=\"0 0 24 24\"\n",
              "       width=\"24px\">\n",
              "    <path d=\"M0 0h24v24H0V0z\" fill=\"none\"/>\n",
              "    <path d=\"M18.56 5.44l.94 2.06.94-2.06 2.06-.94-2.06-.94-.94-2.06-.94 2.06-2.06.94zm-11 1L8.5 8.5l.94-2.06 2.06-.94-2.06-.94L8.5 2.5l-.94 2.06-2.06.94zm10 10l.94 2.06.94-2.06 2.06-.94-2.06-.94-.94-2.06-.94 2.06-2.06.94z\"/><path d=\"M17.41 7.96l-1.37-1.37c-.4-.4-.92-.59-1.43-.59-.52 0-1.04.2-1.43.59L10.3 9.45l-7.72 7.72c-.78.78-.78 2.05 0 2.83L4 21.41c.39.39.9.59 1.41.59.51 0 1.02-.2 1.41-.59l7.78-7.78 2.81-2.81c.8-.78.8-2.07 0-2.86zM5.41 20L4 18.59l7.72-7.72 1.47 1.35L5.41 20z\"/>\n",
              "  </svg>\n",
              "      </button>\n",
              "      \n",
              "  <style>\n",
              "    .colab-df-container {\n",
              "      display:flex;\n",
              "      flex-wrap:wrap;\n",
              "      gap: 12px;\n",
              "    }\n",
              "\n",
              "    .colab-df-convert {\n",
              "      background-color: #E8F0FE;\n",
              "      border: none;\n",
              "      border-radius: 50%;\n",
              "      cursor: pointer;\n",
              "      display: none;\n",
              "      fill: #1967D2;\n",
              "      height: 32px;\n",
              "      padding: 0 0 0 0;\n",
              "      width: 32px;\n",
              "    }\n",
              "\n",
              "    .colab-df-convert:hover {\n",
              "      background-color: #E2EBFA;\n",
              "      box-shadow: 0px 1px 2px rgba(60, 64, 67, 0.3), 0px 1px 3px 1px rgba(60, 64, 67, 0.15);\n",
              "      fill: #174EA6;\n",
              "    }\n",
              "\n",
              "    [theme=dark] .colab-df-convert {\n",
              "      background-color: #3B4455;\n",
              "      fill: #D2E3FC;\n",
              "    }\n",
              "\n",
              "    [theme=dark] .colab-df-convert:hover {\n",
              "      background-color: #434B5C;\n",
              "      box-shadow: 0px 1px 3px 1px rgba(0, 0, 0, 0.15);\n",
              "      filter: drop-shadow(0px 1px 2px rgba(0, 0, 0, 0.3));\n",
              "      fill: #FFFFFF;\n",
              "    }\n",
              "  </style>\n",
              "\n",
              "      <script>\n",
              "        const buttonEl =\n",
              "          document.querySelector('#df-e38d0583-b54d-47fb-ab79-3da80eaa020e button.colab-df-convert');\n",
              "        buttonEl.style.display =\n",
              "          google.colab.kernel.accessAllowed ? 'block' : 'none';\n",
              "\n",
              "        async function convertToInteractive(key) {\n",
              "          const element = document.querySelector('#df-e38d0583-b54d-47fb-ab79-3da80eaa020e');\n",
              "          const dataTable =\n",
              "            await google.colab.kernel.invokeFunction('convertToInteractive',\n",
              "                                                     [key], {});\n",
              "          if (!dataTable) return;\n",
              "\n",
              "          const docLinkHtml = 'Like what you see? Visit the ' +\n",
              "            '<a target=\"_blank\" href=https://colab.research.google.com/notebooks/data_table.ipynb>data table notebook</a>'\n",
              "            + ' to learn more about interactive tables.';\n",
              "          element.innerHTML = '';\n",
              "          dataTable['output_type'] = 'display_data';\n",
              "          await google.colab.output.renderOutput(dataTable, element);\n",
              "          const docLink = document.createElement('div');\n",
              "          docLink.innerHTML = docLinkHtml;\n",
              "          element.appendChild(docLink);\n",
              "        }\n",
              "      </script>\n",
              "    </div>\n",
              "  </div>\n",
              "  "
            ]
          },
          "metadata": {},
          "execution_count": 16
        }
      ]
    },
    {
      "cell_type": "markdown",
      "metadata": {
        "id": "vrZTRaLNVQwS"
      },
      "source": [
        "Now we can use `PolynomialFeatues` to transform training data adding the square of each feature as new features."
      ]
    },
    {
      "cell_type": "code",
      "metadata": {
        "id": "BXo0Hm56VQwS"
      },
      "source": [
        "from sklearn.preprocessing import PolynomialFeatures\n",
        "\n",
        "poly_features = PolynomialFeatures(degree=2, include_bias=False)\n",
        "X_poly = poly_features.fit_transform(X)"
      ],
      "execution_count": 17,
      "outputs": []
    },
    {
      "cell_type": "code",
      "metadata": {
        "colab": {
          "base_uri": "https://localhost:8080/"
        },
        "id": "1FqY9-I4VQwS",
        "outputId": "cf13189c-142b-4f26-c2a9-8f98e716c81d"
      },
      "source": [
        "X_poly"
      ],
      "execution_count": 18,
      "outputs": [
        {
          "output_type": "execute_result",
          "data": {
            "text/plain": [
              "array([[ 2.72919168e+00,  7.44848725e+00],\n",
              "       [ 1.42738150e+00,  2.03741795e+00],\n",
              "       [ 3.26124315e-01,  1.06357069e-01],\n",
              "       [ 6.70324477e-01,  4.49334905e-01],\n",
              "       [-4.82399625e-01,  2.32709399e-01],\n",
              "       [-1.51361406e+00,  2.29102753e+00],\n",
              "       [-8.64163928e-01,  7.46779295e-01],\n",
              "       [ 1.54707666e+00,  2.39344620e+00],\n",
              "       [-2.91363907e+00,  8.48929262e+00],\n",
              "       [-2.30356416e+00,  5.30640783e+00],\n",
              "       [-2.72398415e+00,  7.42008964e+00],\n",
              "       [-2.75562719e+00,  7.59348119e+00],\n",
              "       [ 2.13276350e+00,  4.54868016e+00],\n",
              "       [ 1.22194716e+00,  1.49315485e+00],\n",
              "       [-1.54957025e-01,  2.40116797e-02],\n",
              "       [-2.41299504e+00,  5.82254504e+00],\n",
              "       [-5.03047493e-02,  2.53056780e-03],\n",
              "       [-1.59169375e-01,  2.53348900e-02],\n",
              "       [-1.96078878e+00,  3.84469264e+00],\n",
              "       [-3.96890105e-01,  1.57521755e-01],\n",
              "       [-6.08971594e-01,  3.70846402e-01],\n",
              "       [ 6.95100588e-01,  4.83164828e-01],\n",
              "       [ 8.10561905e-01,  6.57010602e-01],\n",
              "       [-2.72817594e+00,  7.44294397e+00],\n",
              "       [-7.52324312e-01,  5.65991871e-01],\n",
              "       [ 7.55159494e-01,  5.70265862e-01],\n",
              "       [ 1.88175515e-02,  3.54100244e-04],\n",
              "       [ 2.13893905e+00,  4.57506025e+00],\n",
              "       [ 9.52161790e-01,  9.06612074e-01],\n",
              "       [-2.02239344e+00,  4.09007522e+00],\n",
              "       [-2.57658752e+00,  6.63880323e+00],\n",
              "       [ 8.54515669e-01,  7.30197029e-01],\n",
              "       [-2.84093214e+00,  8.07089541e+00],\n",
              "       [ 5.14653488e-01,  2.64868212e-01],\n",
              "       [ 2.64138145e+00,  6.97689596e+00],\n",
              "       [ 4.52845067e-01,  2.05068655e-01],\n",
              "       [-6.70980443e-01,  4.50214755e-01],\n",
              "       [ 8.59729311e-01,  7.39134488e-01],\n",
              "       [-2.50482657e-01,  6.27415615e-02],\n",
              "       [ 2.73700736e-01,  7.49120928e-02],\n",
              "       [ 2.64878885e+00,  7.01608239e+00],\n",
              "       [-6.83384173e-01,  4.67013928e-01],\n",
              "       [ 2.76714338e+00,  7.65708250e+00],\n",
              "       [ 2.43210385e+00,  5.91512915e+00],\n",
              "       [-1.82525319e+00,  3.33154921e+00],\n",
              "       [-2.58383219e+00,  6.67618881e+00],\n",
              "       [-2.39533199e+00,  5.73761535e+00],\n",
              "       [-2.89066905e+00,  8.35596753e+00],\n",
              "       [-2.43334224e+00,  5.92115443e+00],\n",
              "       [ 1.09804064e+00,  1.20569325e+00],\n",
              "       [-2.57286811e+00,  6.61965031e+00],\n",
              "       [-1.08614622e+00,  1.17971361e+00],\n",
              "       [ 2.06925187e+00,  4.28180328e+00],\n",
              "       [-2.86036839e+00,  8.18170730e+00],\n",
              "       [ 1.88681090e+00,  3.56005536e+00],\n",
              "       [-1.30887135e+00,  1.71314421e+00],\n",
              "       [-2.29101103e+00,  5.24873156e+00],\n",
              "       [ 1.18042299e+00,  1.39339844e+00],\n",
              "       [ 7.73657081e-01,  5.98545278e-01],\n",
              "       [ 2.26483208e+00,  5.12946436e+00],\n",
              "       [ 1.41042626e+00,  1.98930224e+00],\n",
              "       [ 1.82088558e+00,  3.31562430e+00],\n",
              "       [-1.30779256e+00,  1.71032139e+00],\n",
              "       [-1.93536274e+00,  3.74562893e+00],\n",
              "       [ 1.50368851e+00,  2.26107913e+00],\n",
              "       [ 1.84100844e+00,  3.38931206e+00],\n",
              "       [ 2.94303085e+00,  8.66143060e+00],\n",
              "       [-5.24293939e-01,  2.74884134e-01],\n",
              "       [-7.67891485e-01,  5.89657333e-01],\n",
              "       [ 1.65847776e+00,  2.75054850e+00],\n",
              "       [-9.55178758e-01,  9.12366461e-01],\n",
              "       [ 2.58454395e+00,  6.67986745e+00],\n",
              "       [ 2.15047651e+00,  4.62454922e+00],\n",
              "       [-4.26035836e-01,  1.81506533e-01],\n",
              "       [ 1.50522641e+00,  2.26570654e+00],\n",
              "       [ 1.52725724e+00,  2.33251469e+00],\n",
              "       [-2.38125679e+00,  5.67038389e+00],\n",
              "       [ 2.41531744e+00,  5.83375834e+00],\n",
              "       [ 3.15142347e-02,  9.93146988e-04],\n",
              "       [ 1.95874480e+00,  3.83668118e+00],\n",
              "       [-1.07970239e+00,  1.16575726e+00],\n",
              "       [ 2.37313937e+00,  5.63179047e+00],\n",
              "       [-6.64789928e-01,  4.41945648e-01],\n",
              "       [-2.93497409e+00,  8.61407292e+00],\n",
              "       [ 2.43229186e+00,  5.91604369e+00],\n",
              "       [-2.45227994e+00,  6.01367690e+00],\n",
              "       [-1.08411817e+00,  1.17531222e+00],\n",
              "       [ 2.70037180e+00,  7.29200787e+00],\n",
              "       [ 2.70364288e+00,  7.30968483e+00],\n",
              "       [ 4.40627329e-01,  1.94152443e-01],\n",
              "       [ 7.91023273e-01,  6.25717818e-01],\n",
              "       [-3.09326868e-01,  9.56831113e-02],\n",
              "       [-1.24073537e+00,  1.53942426e+00],\n",
              "       [-1.02801273e+00,  1.05681017e+00],\n",
              "       [ 1.03511074e+00,  1.07145424e+00],\n",
              "       [ 1.51424718e+00,  2.29294451e+00],\n",
              "       [ 1.74947426e+00,  3.06066019e+00],\n",
              "       [ 1.73770886e+00,  3.01963207e+00],\n",
              "       [-2.45276338e+00,  6.01604821e+00],\n",
              "       [-3.34781718e-02,  1.12078799e-03]])"
            ]
          },
          "metadata": {},
          "execution_count": 18
        }
      ]
    },
    {
      "cell_type": "markdown",
      "metadata": {
        "id": "GrFMRU_eVQwS"
      },
      "source": [
        "`X_poly` now contains the original feature of X plus the square of the feature:"
      ]
    },
    {
      "cell_type": "code",
      "metadata": {
        "colab": {
          "base_uri": "https://localhost:8080/"
        },
        "id": "M8FH1dY2UwgN",
        "outputId": "6d8d3794-38bc-48cb-fe92-9c66b3f04852"
      },
      "source": [
        "print(X[0])\n",
        "print(X[0]*X[0])\n"
      ],
      "execution_count": 19,
      "outputs": [
        {
          "output_type": "stream",
          "name": "stdout",
          "text": [
            "[2.72919168]\n",
            "[7.44848725]\n"
          ]
        }
      ]
    },
    {
      "cell_type": "code",
      "metadata": {
        "colab": {
          "base_uri": "https://localhost:8080/"
        },
        "id": "PSflPniWVQwT",
        "outputId": "14b2d127-423d-444c-a736-775964d16ba9"
      },
      "source": [
        "X_poly[0]"
      ],
      "execution_count": 20,
      "outputs": [
        {
          "output_type": "execute_result",
          "data": {
            "text/plain": [
              "array([2.72919168, 7.44848725])"
            ]
          },
          "metadata": {},
          "execution_count": 20
        }
      ]
    },
    {
      "cell_type": "markdown",
      "metadata": {
        "id": "HaXjXg7FVQwT"
      },
      "source": [
        "Fit the model to this extended training data:"
      ]
    },
    {
      "cell_type": "code",
      "metadata": {
        "colab": {
          "base_uri": "https://localhost:8080/"
        },
        "id": "c0Qu93dgVQwT",
        "outputId": "9a94bbb6-fbbe-466d-c74e-cc8ddd335493"
      },
      "source": [
        "lin_reg = LinearRegression(fit_intercept=True)\n",
        "lin_reg.fit(X_poly, y)\n",
        "lin_reg.coef_, lin_reg.intercept_"
      ],
      "execution_count": 21,
      "outputs": [
        {
          "output_type": "execute_result",
          "data": {
            "text/plain": [
              "(array([[1.04271531, 0.50866711]]), array([2.01873554]))"
            ]
          },
          "metadata": {},
          "execution_count": 21
        }
      ]
    },
    {
      "cell_type": "markdown",
      "metadata": {
        "id": "rKOSwvnmVQwT"
      },
      "source": [
        "The model estimates:\n",
        "\n",
        "$\\hat{y} =  0.89X +0.48X^2 + 2.09$"
      ]
    },
    {
      "cell_type": "markdown",
      "metadata": {
        "id": "_EtZEKz5VQwT"
      },
      "source": [
        "Plot the data and the predictions:"
      ]
    },
    {
      "cell_type": "code",
      "metadata": {
        "colab": {
          "base_uri": "https://localhost:8080/",
          "height": 0
        },
        "id": "6Q8dHRgdVQwT",
        "outputId": "16f3430f-ef0e-4672-c9d8-aaba0e9aaa26"
      },
      "source": [
        "X_new=np.linspace(-3, 3, 100).reshape(100, 1)\n",
        "X_new_poly = poly_features.transform(X_new)\n",
        "y_new = lin_reg.predict(X_new_poly)\n",
        "plt.plot(X, y, \"b.\")\n",
        "plt.plot(X_new, y_new, \"r-\", linewidth=2, label=\"Predictions\")\n",
        "plt.xlabel(\"$x_1$\", fontsize=18)\n",
        "plt.ylabel(\"$y$\", rotation=0, fontsize=18)\n",
        "plt.legend(loc=\"upper left\", fontsize=14)\n",
        "plt.axis([-3, 3, 0, 10]);"
      ],
      "execution_count": 22,
      "outputs": [
        {
          "output_type": "display_data",
          "data": {
            "text/plain": [
              "<Figure size 432x288 with 1 Axes>"
            ],
            "image/png": "[encoded data removed]"
          },
          "metadata": {
            "needs_background": "light"
          }
        }
      ]
    },
    {
      "cell_type": "code",
      "source": [],
      "metadata": {
        "id": "vyq0o8f2pcqa"
      },
      "execution_count": 22,
      "outputs": []
    },
    {
      "cell_type": "markdown",
      "source": [
        "## R square\n",
        "\n",
        "R² es una medida estadística de qué tan cerca están los datos de la línea de regresión ajustada. También se conoce como el coeficiente de determinación o el coeficiente de determinación múltiple para la regresión múltiple. Para decirlo en un lenguaje más simple, R² es una medida de ajuste para los modelos de regresión lineal.\n",
        "\n",
        "\n",
        "\n",
        "R² no indica si un modelo de regresión se ajusta adecuadamente a sus datos. Un buen modelo puede tener un valor R² bajo. Por otro lado, un modelo sesgado puede tener un valor alto de R².\n",
        "\n",
        " SSres + SSreg = SStot, R² = Explained variation / Total Variation\n",
        " \n",
        " ![image.png](https://i.stack.imgur.com/xb1VY.png)\n",
        " \n",
        "![image.png](https://3.bp.blogspot.com/-MFqQLwbGwd4/WMO7tz39beI/AAAAAAAAF9I/Bjpfohgv_5E4lu7HzHJBQtXsBM--byqPwCLcB/s1600/rsquared.png)\n"
      ],
      "metadata": {
        "id": "TIFwAtW1pc6h"
      }
    },
    {
      "cell_type": "markdown",
      "source": [],
      "metadata": {
        "id": "95EyrlH9Lfw4"
      }
    },
    {
      "cell_type": "markdown",
      "metadata": {
        "id": "nTKFj4x9LMXm"
      },
      "source": [
        "# Ejercicio 1\n",
        "\n",
        "Utiliza la base de datos de \n",
        "https://www.kaggle.com/vinicius150987/manufacturing-cost\n",
        "\n",
        "Suponga que trabaja como consultor de una empresa de nueva creación que busca desarrollar un modelo para estimar el costo de los bienes vendidos a medida que varían el volumen de producción (número de unidades producidas). La startup recopiló datos y le pidió que desarrollara un modelo para predecir su costo frente a la cantidad de unidades vendidas."
      ]
    },
    {
      "cell_type": "code",
      "metadata": {
        "colab": {
          "base_uri": "https://localhost:8080/",
          "height": 363
        },
        "id": "oTnErQOkL3oa",
        "outputId": "f05bf020-4ba4-4045-87bd-ad218fd5457d"
      },
      "source": [
        "import pandas as pd\n",
        "df = pd.read_csv('https://raw.githubusercontent.com/marypazrf/bdd/main/EconomiesOfScale.csv')\n",
        "df.sample(10)"
      ],
      "execution_count": 23,
      "outputs": [
        {
          "output_type": "execute_result",
          "data": {
            "text/plain": [
              "     Number of Units  Manufacturing Cost\n",
              "968         7.065653           27.804027\n",
              "212         3.372115           41.127212\n",
              "416         4.194513           43.832711\n",
              "677         5.068888           41.225741\n",
              "550         4.604122           37.569764\n",
              "764         5.389522           31.191501\n",
              "386         4.104190           42.988730\n",
              "339         3.942214           46.291435\n",
              "82          2.665856           48.578425\n",
              "487         4.399514           37.567914"
            ],
            "text/html": [
              "\n",
              "  <div id=\"df-d7da1ad0-bccc-4550-b911-a787f7e8f8ed\">\n",
              "    <div class=\"colab-df-container\">\n",
              "      <div>\n",
              "<style scoped>\n",
              "    .dataframe tbody tr th:only-of-type {\n",
              "        vertical-align: middle;\n",
              "    }\n",
              "\n",
              "    .dataframe tbody tr th {\n",
              "        vertical-align: top;\n",
              "    }\n",
              "\n",
              "    .dataframe thead th {\n",
              "        text-align: right;\n",
              "    }\n",
              "</style>\n",
              "<table border=\"1\" class=\"dataframe\">\n",
              "  <thead>\n",
              "    <tr style=\"text-align: right;\">\n",
              "      <th></th>\n",
              "      <th>Number of Units</th>\n",
              "      <th>Manufacturing Cost</th>\n",
              "    </tr>\n",
              "  </thead>\n",
              "  <tbody>\n",
              "    <tr>\n",
              "      <th>968</th>\n",
              "      <td>7.065653</td>\n",
              "      <td>27.804027</td>\n",
              "    </tr>\n",
              "    <tr>\n",
              "      <th>212</th>\n",
              "      <td>3.372115</td>\n",
              "      <td>41.127212</td>\n",
              "    </tr>\n",
              "    <tr>\n",
              "      <th>416</th>\n",
              "      <td>4.194513</td>\n",
              "      <td>43.832711</td>\n",
              "    </tr>\n",
              "    <tr>\n",
              "      <th>677</th>\n",
              "      <td>5.068888</td>\n",
              "      <td>41.225741</td>\n",
              "    </tr>\n",
              "    <tr>\n",
              "      <th>550</th>\n",
              "      <td>4.604122</td>\n",
              "      <td>37.569764</td>\n",
              "    </tr>\n",
              "    <tr>\n",
              "      <th>764</th>\n",
              "      <td>5.389522</td>\n",
              "      <td>31.191501</td>\n",
              "    </tr>\n",
              "    <tr>\n",
              "      <th>386</th>\n",
              "      <td>4.104190</td>\n",
              "      <td>42.988730</td>\n",
              "    </tr>\n",
              "    <tr>\n",
              "      <th>339</th>\n",
              "      <td>3.942214</td>\n",
              "      <td>46.291435</td>\n",
              "    </tr>\n",
              "    <tr>\n",
              "      <th>82</th>\n",
              "      <td>2.665856</td>\n",
              "      <td>48.578425</td>\n",
              "    </tr>\n",
              "    <tr>\n",
              "      <th>487</th>\n",
              "      <td>4.399514</td>\n",
              "      <td>37.567914</td>\n",
              "    </tr>\n",
              "  </tbody>\n",
              "</table>\n",
              "</div>\n",
              "      <button class=\"colab-df-convert\" onclick=\"convertToInteractive('df-d7da1ad0-bccc-4550-b911-a787f7e8f8ed')\"\n",
              "              title=\"Convert this dataframe to an interactive table.\"\n",
              "              style=\"display:none;\">\n",
              "        \n",
              "  <svg xmlns=\"http://www.w3.org/2000/svg\" height=\"24px\"viewBox=\"0 0 24 24\"\n",
              "       width=\"24px\">\n",
              "    <path d=\"M0 0h24v24H0V0z\" fill=\"none\"/>\n",
              "    <path d=\"M18.56 5.44l.94 2.06.94-2.06 2.06-.94-2.06-.94-.94-2.06-.94 2.06-2.06.94zm-11 1L8.5 8.5l.94-2.06 2.06-.94-2.06-.94L8.5 2.5l-.94 2.06-2.06.94zm10 10l.94 2.06.94-2.06 2.06-.94-2.06-.94-.94-2.06-.94 2.06-2.06.94z\"/><path d=\"M17.41 7.96l-1.37-1.37c-.4-.4-.92-.59-1.43-.59-.52 0-1.04.2-1.43.59L10.3 9.45l-7.72 7.72c-.78.78-.78 2.05 0 2.83L4 21.41c.39.39.9.59 1.41.59.51 0 1.02-.2 1.41-.59l7.78-7.78 2.81-2.81c.8-.78.8-2.07 0-2.86zM5.41 20L4 18.59l7.72-7.72 1.47 1.35L5.41 20z\"/>\n",
              "  </svg>\n",
              "      </button>\n",
              "      \n",
              "  <style>\n",
              "    .colab-df-container {\n",
              "      display:flex;\n",
              "      flex-wrap:wrap;\n",
              "      gap: 12px;\n",
              "    }\n",
              "\n",
              "    .colab-df-convert {\n",
              "      background-color: #E8F0FE;\n",
              "      border: none;\n",
              "      border-radius: 50%;\n",
              "      cursor: pointer;\n",
              "      display: none;\n",
              "      fill: #1967D2;\n",
              "      height: 32px;\n",
              "      padding: 0 0 0 0;\n",
              "      width: 32px;\n",
              "    }\n",
              "\n",
              "    .colab-df-convert:hover {\n",
              "      background-color: #E2EBFA;\n",
              "      box-shadow: 0px 1px 2px rgba(60, 64, 67, 0.3), 0px 1px 3px 1px rgba(60, 64, 67, 0.15);\n",
              "      fill: #174EA6;\n",
              "    }\n",
              "\n",
              "    [theme=dark] .colab-df-convert {\n",
              "      background-color: #3B4455;\n",
              "      fill: #D2E3FC;\n",
              "    }\n",
              "\n",
              "    [theme=dark] .colab-df-convert:hover {\n",
              "      background-color: #434B5C;\n",
              "      box-shadow: 0px 1px 3px 1px rgba(0, 0, 0, 0.15);\n",
              "      filter: drop-shadow(0px 1px 2px rgba(0, 0, 0, 0.3));\n",
              "      fill: #FFFFFF;\n",
              "    }\n",
              "  </style>\n",
              "\n",
              "      <script>\n",
              "        const buttonEl =\n",
              "          document.querySelector('#df-d7da1ad0-bccc-4550-b911-a787f7e8f8ed button.colab-df-convert');\n",
              "        buttonEl.style.display =\n",
              "          google.colab.kernel.accessAllowed ? 'block' : 'none';\n",
              "\n",
              "        async function convertToInteractive(key) {\n",
              "          const element = document.querySelector('#df-d7da1ad0-bccc-4550-b911-a787f7e8f8ed');\n",
              "          const dataTable =\n",
              "            await google.colab.kernel.invokeFunction('convertToInteractive',\n",
              "                                                     [key], {});\n",
              "          if (!dataTable) return;\n",
              "\n",
              "          const docLinkHtml = 'Like what you see? Visit the ' +\n",
              "            '<a target=\"_blank\" href=https://colab.research.google.com/notebooks/data_table.ipynb>data table notebook</a>'\n",
              "            + ' to learn more about interactive tables.';\n",
              "          element.innerHTML = '';\n",
              "          dataTable['output_type'] = 'display_data';\n",
              "          await google.colab.output.renderOutput(dataTable, element);\n",
              "          const docLink = document.createElement('div');\n",
              "          docLink.innerHTML = docLinkHtml;\n",
              "          element.appendChild(docLink);\n",
              "        }\n",
              "      </script>\n",
              "    </div>\n",
              "  </div>\n",
              "  "
            ]
          },
          "metadata": {},
          "execution_count": 23
        }
      ]
    },
    {
      "cell_type": "code",
      "metadata": {
        "id": "14kGO5nkMGlV"
      },
      "source": [
        "X = df[['Number of Units']]\n",
        "y = df['Manufacturing Cost']"
      ],
      "execution_count": 24,
      "outputs": []
    },
    {
      "cell_type": "code",
      "source": [
        "from sklearn.model_selection import train_test_split\n",
        "X_train, X_test, y_train, y_test = train_test_split(X, y, test_size = 0.2, random_state = 101)\n",
        "\n",
        "print(f'Numero total de registros en la bdd: {len(X)}')\n",
        "print(\"*****\"*10)\n",
        "print(f'Numero total de registros en el training set: {len(X_train)}')\n",
        "print(f'Tamaño de X_train: {X_train.shape}')\n",
        "print(\"*****\"*10)\n",
        "print(f'Mumero total de registros en el test dataset: {len(X_test)}')\n",
        "print(f'Tamaño del X_test: {X_test.shape}')"
      ],
      "metadata": {
        "id": "wAx7_K7yaYA-",
        "outputId": "1532175f-0bb0-4f43-fb10-6987c17385b0",
        "colab": {
          "base_uri": "https://localhost:8080/"
        }
      },
      "execution_count": 25,
      "outputs": [
        {
          "output_type": "stream",
          "name": "stdout",
          "text": [
            "Numero total de registros en la bdd: 1000\n",
            "**************************************************\n",
            "Numero total de registros en el training set: 800\n",
            "Tamaño de X_train: (800, 1)\n",
            "**************************************************\n",
            "Mumero total de registros en el test dataset: 200\n",
            "Tamaño del X_test: (200, 1)\n"
          ]
        }
      ]
    },
    {
      "cell_type": "code",
      "source": [
        "len(X_train)"
      ],
      "metadata": {
        "id": "ksh_OrkjY3GW",
        "outputId": "c895b4d1-993c-4517-a094-cab983355e47",
        "colab": {
          "base_uri": "https://localhost:8080/"
        }
      },
      "execution_count": 26,
      "outputs": [
        {
          "output_type": "execute_result",
          "data": {
            "text/plain": [
              "800"
            ]
          },
          "metadata": {},
          "execution_count": 26
        }
      ]
    },
    {
      "cell_type": "code",
      "source": [
        "y_train.describe"
      ],
      "metadata": {
        "colab": {
          "base_uri": "https://localhost:8080/"
        },
        "id": "bwR6SSqQDfC2",
        "outputId": "f4849125-0b30-4c44-c7b2-cd42d6afbd9a"
      },
      "execution_count": 27,
      "outputs": [
        {
          "output_type": "execute_result",
          "data": {
            "text/plain": [
              "<bound method NDFrame.describe of 423    44.142815\n",
              "157    46.579918\n",
              "670    38.107937\n",
              "256    45.324395\n",
              "965    29.518772\n",
              "         ...    \n",
              "575    48.512880\n",
              "838    31.132853\n",
              "337    28.023576\n",
              "523    38.219681\n",
              "863    31.549470\n",
              "Name: Manufacturing Cost, Length: 800, dtype: float64>"
            ]
          },
          "metadata": {},
          "execution_count": 27
        }
      ]
    },
    {
      "cell_type": "code",
      "metadata": {
        "colab": {
          "base_uri": "https://localhost:8080/",
          "height": 282
        },
        "id": "idoEjfEhMoxk",
        "outputId": "0676651d-c820-4f30-cbd9-7e53d2db02ec"
      },
      "source": [
        "plt.plot(X_train,y_train,'b.')"
      ],
      "execution_count": 28,
      "outputs": [
        {
          "output_type": "execute_result",
          "data": {
            "text/plain": [
              "[<matplotlib.lines.Line2D at 0x7f8e831472d0>]"
            ]
          },
          "metadata": {},
          "execution_count": 28
        },
        {
          "output_type": "display_data",
          "data": {
            "text/plain": [
              "<Figure size 432x288 with 1 Axes>"
            ],
            "image/png": "[encoded data removed]"
          },
          "metadata": {
            "needs_background": "light"
          }
        }
      ]
    },
    {
      "cell_type": "markdown",
      "source": [
        "## Simple Linear Regression\n",
        "\n",
        "Simple linear regression equation accordance previous plot with negative slope:\n",
        "\n",
        "$y = -ax + b$\n",
        "<br>\n",
        "$a$: slope\n",
        "<br>\n",
        "$b$: intercept\n",
        "\n",
        "Generate linear-looking data with the equation:"
      ],
      "metadata": {
        "id": "YAz7I7YVcXgu"
      }
    },
    {
      "cell_type": "code",
      "source": [
        "#lineal\n",
        "from sklearn.linear_model import LinearRegression\n",
        "\n",
        "linear_reg = LinearRegression(fit_intercept=True)\n",
        "linear_reg.fit(X_train, y_train)"
      ],
      "metadata": {
        "id": "kMmOy97puOLE",
        "outputId": "f8b87bf6-9b76-44c0-913a-eca0904cacc1",
        "colab": {
          "base_uri": "https://localhost:8080/"
        }
      },
      "execution_count": 29,
      "outputs": [
        {
          "output_type": "execute_result",
          "data": {
            "text/plain": [
              "LinearRegression()"
            ]
          },
          "metadata": {},
          "execution_count": 29
        }
      ]
    },
    {
      "cell_type": "markdown",
      "source": [
        "Plot the model's predictions:"
      ],
      "metadata": {
        "id": "yEXG_QdKcF68"
      }
    },
    {
      "cell_type": "code",
      "source": [
        "# construct best fit line\n",
        "#X_fit = np.linspace(0, 2, 100)\n",
        "y_pred = linear_reg.predict(X_train)\n",
        "\n",
        "plt.scatter(X_train, y_train)\n",
        "plt.plot(X_train, y_pred, \"r-\", linewidth=2, label=\"Predictions\")\n",
        "plt.xlabel(\"$X$\", fontsize=18)\n",
        "plt.ylabel(\"$y$\", rotation=0, fontsize=18)\n",
        "plt.legend(loc=\"upper left\", fontsize=14);"
      ],
      "metadata": {
        "id": "4v9-Pfp_cD_C",
        "outputId": "48b6e192-7fac-449d-8853-1b134be0cd52",
        "colab": {
          "base_uri": "https://localhost:8080/",
          "height": 287
        }
      },
      "execution_count": 30,
      "outputs": [
        {
          "output_type": "display_data",
          "data": {
            "text/plain": [
              "<Figure size 432x288 with 1 Axes>"
            ],
            "image/png": "[encoded data removed]"
          },
          "metadata": {
            "needs_background": "light"
          }
        }
      ]
    },
    {
      "cell_type": "code",
      "source": [
        "linear_reg.intercept_, linear_reg.coef_"
      ],
      "metadata": {
        "id": "H02QBEVreOav",
        "outputId": "09745684-d357-4ea2-8880-53f43e2bd053",
        "colab": {
          "base_uri": "https://localhost:8080/"
        }
      },
      "execution_count": 31,
      "outputs": [
        {
          "output_type": "execute_result",
          "data": {
            "text/plain": [
              "(66.79997932683362, array([-5.97912772]))"
            ]
          },
          "metadata": {},
          "execution_count": 31
        }
      ]
    },
    {
      "cell_type": "markdown",
      "source": [
        "The model estimates:\n",
        "\n",
        "$\\hat{y} = -5.98X + 66.80$"
      ],
      "metadata": {
        "id": "E1Is9YQieZqH"
      }
    },
    {
      "cell_type": "code",
      "source": [
        "from sklearn import metrics\n",
        "from sklearn.metrics import r2_score\n",
        "nombre_lineal, resultado_lineal = list(), list()\n",
        "nombre_lineal.append('MAE')\n",
        "print('Error medio Absoluto (MAE):', metrics.mean_absolute_error(y_train, y_pred))\n",
        "resultado_lineal.append(metrics.mean_absolute_error(y_train, y_pred))\n",
        "nombre_lineal.append('Root Mean Squared Error:')\n",
        "print('Root Mean Squared Error:', np.sqrt(metrics.mean_squared_error(y_train, y_pred)))\n",
        "resultado_lineal.append(np.sqrt(metrics.mean_squared_error(y_train, y_pred)))\n",
        "nombre_lineal.append('r2_score')\n",
        "print('r2_score',r2_score(y_train, y_pred))\n",
        "resultado_lineal.append(r2_score(y_train, y_pred))"
      ],
      "metadata": {
        "id": "q9x-aKVwbs0h",
        "outputId": "287b7bca-8cd3-46f3-97a3-3a23281076a6",
        "colab": {
          "base_uri": "https://localhost:8080/"
        }
      },
      "execution_count": 32,
      "outputs": [
        {
          "output_type": "stream",
          "name": "stdout",
          "text": [
            "Error medio Absoluto (MAE): 4.885796539672615\n",
            "Root Mean Squared Error: 6.8220153911183425\n",
            "r2_score 0.5741612020971557\n"
          ]
        }
      ]
    },
    {
      "cell_type": "markdown",
      "source": [
        "Caso Polinomial \n",
        "Como en el database tenemos diferentes ecuaciones que interpreten su comportamiento en la solucion se especificara la ecuacion que mejor desempeño tenga por ejemplo:\n",
        "\n",
        "$y = X^2 + X + b + noise$"
      ],
      "metadata": {
        "id": "mDzEeMuih0eE"
      }
    },
    {
      "cell_type": "code",
      "source": [
        "#polinomial\n",
        "from sklearn.preprocessing import PolynomialFeatures\n",
        "\n",
        "poly_features = PolynomialFeatures(degree=5, include_bias=False)\n",
        "X_poly = poly_features.fit_transform(X_train)"
      ],
      "metadata": {
        "id": "LWvfEDGKuoLJ"
      },
      "execution_count": 33,
      "outputs": []
    },
    {
      "cell_type": "code",
      "source": [
        "plt.plot(X_poly,y_train,'b--')"
      ],
      "metadata": {
        "id": "HBmW5te1l-bJ",
        "outputId": "1526b2ed-922a-4daf-88cd-40dd8f3e7b32",
        "colab": {
          "base_uri": "https://localhost:8080/",
          "height": 352
        }
      },
      "execution_count": 34,
      "outputs": [
        {
          "output_type": "execute_result",
          "data": {
            "text/plain": [
              "[<matplotlib.lines.Line2D at 0x7f8e8308bc90>,\n",
              " <matplotlib.lines.Line2D at 0x7f8e83045e10>,\n",
              " <matplotlib.lines.Line2D at 0x7f8e83045fd0>,\n",
              " <matplotlib.lines.Line2D at 0x7f8e830521d0>,\n",
              " <matplotlib.lines.Line2D at 0x7f8e83052390>]"
            ]
          },
          "metadata": {},
          "execution_count": 34
        },
        {
          "output_type": "display_data",
          "data": {
            "text/plain": [
              "<Figure size 432x288 with 1 Axes>"
            ],
            "image/png": "[encoded data removed]"
          },
          "metadata": {
            "needs_background": "light"
          }
        }
      ]
    },
    {
      "cell_type": "markdown",
      "source": [
        "Fit the model to this extended training data:"
      ],
      "metadata": {
        "id": "2OGPmBpWjJGN"
      }
    },
    {
      "cell_type": "code",
      "source": [
        "lin_reg = LinearRegression()\n",
        "lin_reg.fit(X_poly,y_train)\n"
      ],
      "metadata": {
        "id": "iUaCbjzgjHcX",
        "outputId": "11f2af62-2d51-41e5-e42e-84c2c8bd6eb1",
        "colab": {
          "base_uri": "https://localhost:8080/"
        }
      },
      "execution_count": 35,
      "outputs": [
        {
          "output_type": "execute_result",
          "data": {
            "text/plain": [
              "LinearRegression()"
            ]
          },
          "metadata": {},
          "execution_count": 35
        }
      ]
    },
    {
      "cell_type": "markdown",
      "source": [
        "Plot the data and the predictions:"
      ],
      "metadata": {
        "id": "QKjE6V_GjxlP"
      }
    },
    {
      "cell_type": "code",
      "source": [
        "#X_new=np.linspace(-3, 3, 100).reshape(100, 1)\n",
        "X_new_poly = poly_features.transform(X_train)\n",
        "y_pred = lin_reg.predict(X_new_poly)\n",
        "plt.plot(X_train, y_train, \"b.\")\n",
        "plt.plot(X_train, y_pred, \"r-\", linewidth=2, label=\"Predictions\")\n",
        "plt.xlabel(\"$x_1$\", fontsize=18)\n",
        "plt.ylabel(\"$y$\", rotation=0, fontsize=18)\n",
        "plt.legend(loc=\"upper left\", fontsize=14)\n",
        "#plt.axis([-3, 3, 0, 10]);"
      ],
      "metadata": {
        "id": "7Giboonoj1uR",
        "outputId": "0adfd8da-9127-44d5-8eeb-7844ff680fcb",
        "colab": {
          "base_uri": "https://localhost:8080/",
          "height": 304
        }
      },
      "execution_count": 36,
      "outputs": [
        {
          "output_type": "execute_result",
          "data": {
            "text/plain": [
              "<matplotlib.legend.Legend at 0x7f8e8314f390>"
            ]
          },
          "metadata": {},
          "execution_count": 36
        },
        {
          "output_type": "display_data",
          "data": {
            "text/plain": [
              "<Figure size 432x288 with 1 Axes>"
            ],
            "image/png": "[encoded data removed]"
          },
          "metadata": {
            "needs_background": "light"
          }
        }
      ]
    },
    {
      "cell_type": "code",
      "source": [
        "np.round(lin_reg.coef_,2), lin_reg.intercept_"
      ],
      "metadata": {
        "colab": {
          "base_uri": "https://localhost:8080/"
        },
        "id": "MAr9typ9jzTA",
        "outputId": "e9a8af01-a4c6-44c7-b461-2f7c3958f594"
      },
      "execution_count": 37,
      "outputs": [
        {
          "output_type": "execute_result",
          "data": {
            "text/plain": [
              "(array([-8.843e+01,  2.880e+01, -4.950e+00,  4.200e-01, -1.000e-02]),\n",
              " 156.8176710580701)"
            ]
          },
          "metadata": {},
          "execution_count": 37
        }
      ]
    },
    {
      "cell_type": "markdown",
      "source": [
        "The model estimates:\n",
        "\n",
        "$\\hat{y} = -0.01X^5 + 0.42X^4 + -4.95X^3 + 28.80X^2 - 88.43X + 156.81$"
      ],
      "metadata": {
        "id": "lxDuydHqmulx"
      }
    },
    {
      "cell_type": "code",
      "metadata": {
        "id": "-VDz4zLK9Q0K",
        "outputId": "b9b420f5-c492-4705-c74f-92c73b585dd3",
        "colab": {
          "base_uri": "https://localhost:8080/"
        }
      },
      "source": [
        "from sklearn import metrics\n",
        "from sklearn.metrics import r2_score\n",
        "\n",
        "nombre_polinomial, resultado_polinomial = list(), list()\n",
        "nombre_polinomial.append('MAE')\n",
        "print('Error medio Absoluto (MAE):', metrics.mean_absolute_error(y_train, y_pred))\n",
        "resultado_polinomial.append(metrics.mean_absolute_error(y_train, y_pred))\n",
        "nombre_polinomial.append('Root Mean Squared Error:')\n",
        "print('Root Mean Squared Error:', np.sqrt(metrics.mean_squared_error(y_train, y_pred)))\n",
        "resultado_polinomial.append(np.sqrt(metrics.mean_squared_error(y_train, y_pred)))\n",
        "nombre_polinomial.append('r2_score')\n",
        "print('r2_score',r2_score(y_train, y_pred))\n",
        "resultado_polinomial.append(r2_score(y_train, y_pred))"
      ],
      "execution_count": 38,
      "outputs": [
        {
          "output_type": "stream",
          "name": "stdout",
          "text": [
            "Error medio Absoluto (MAE): 4.445317842045028\n",
            "Root Mean Squared Error: 5.923606400651761\n",
            "r2_score 0.6789355469744379\n"
          ]
        }
      ]
    },
    {
      "cell_type": "code",
      "source": [
        "# extra code – this cell generates and saves Figure 4–14\n",
        "\n",
        "from sklearn.preprocessing import StandardScaler\n",
        "from sklearn.pipeline import make_pipeline\n",
        "\n",
        "\n",
        "poly_features = PolynomialFeatures(degree=1, include_bias=False)\n",
        "X_new = poly_features.fit_transform(X_train)\n",
        "X_new2 = poly_features.fit_transform(X_test)\n",
        "\n",
        "plt.figure(figsize=(6, 4))\n",
        "\n",
        "for style, width, degree in ((\"r-+\", 2, 1), (\"b--\", 2, 2), (\"g-\", 1, 5)):\n",
        "    polybig_features = PolynomialFeatures(degree=degree, include_bias=False)\n",
        "    std_scaler = StandardScaler()\n",
        "    lin_reg = LinearRegression()\n",
        "    polynomial_regression = make_pipeline(polybig_features, std_scaler, lin_reg)\n",
        "    polynomial_regression.fit(X_new, y_train)\n",
        "    y_newbig = polynomial_regression.predict(X_new)\n",
        "    label = f\"{degree} degree{'s' if degree > 1 else ''}\"\n",
        "    plt.plot(X_new, y_newbig, style, label=label, linewidth=width)\n",
        "\n",
        "plt.plot(X_train, y_train, \"b.\", linewidth=3)\n",
        "plt.legend(loc=\"upper left\")\n",
        "plt.xlabel(\"$x_1$\")\n",
        "plt.ylabel(\"$y$\", rotation=0)\n",
        "#plt.axis([-500, 500, -100, 100])\n",
        "plt.grid()\n",
        "#save_fig(\"high_degree_polynomials_plot\")\n",
        "plt.show()"
      ],
      "metadata": {
        "id": "jIQ3vXMDpEwO",
        "outputId": "fdbd2002-4234-49ad-81ed-ba668c7f407e",
        "colab": {
          "base_uri": "https://localhost:8080/",
          "height": 281
        }
      },
      "execution_count": 39,
      "outputs": [
        {
          "output_type": "display_data",
          "data": {
            "text/plain": [
              "<Figure size 432x288 with 1 Axes>"
            ],
            "image/png": "[encoded data removed]"
          },
          "metadata": {
            "needs_background": "light"
          }
        }
      ]
    },
    {
      "cell_type": "markdown",
      "source": [
        "### Ridge Regression or L<sub>2</sub> Regularization "
      ],
      "metadata": {
        "id": "RJB_E0gr2RGr"
      }
    },
    {
      "cell_type": "markdown",
      "source": [
        "It is important to **scale** the data before performing Ridge Regression:"
      ],
      "metadata": {
        "id": "MrRNbGWw2SK7"
      }
    },
    {
      "cell_type": "code",
      "source": [
        "# better \n",
        "from sklearn.pipeline import Pipeline\n",
        "\n",
        "model = Pipeline([(\"poly_features\", PolynomialFeatures(degree=5, include_bias=False)),\n",
        "                  (\"scaler\", StandardScaler()),\n",
        "                  (\"linear_reg\", LinearRegression())])\n",
        "model.fit(X_train, y_train)"
      ],
      "metadata": {
        "id": "iyNU90I82pUg",
        "outputId": "02b76d83-421f-46bf-de12-64f4fb72e7a0",
        "colab": {
          "base_uri": "https://localhost:8080/"
        }
      },
      "execution_count": 40,
      "outputs": [
        {
          "output_type": "execute_result",
          "data": {
            "text/plain": [
              "Pipeline(steps=[('poly_features',\n",
              "                 PolynomialFeatures(degree=5, include_bias=False)),\n",
              "                ('scaler', StandardScaler()),\n",
              "                ('linear_reg', LinearRegression())])"
            ]
          },
          "metadata": {},
          "execution_count": 40
        }
      ]
    },
    {
      "cell_type": "code",
      "source": [
        "y_pred = model.predict(X_train)"
      ],
      "metadata": {
        "id": "SpYjMFcW27Mq"
      },
      "execution_count": 41,
      "outputs": []
    },
    {
      "cell_type": "code",
      "source": [
        "plt.plot(X_train, y_train, \"b.\")\n",
        "plt.plot(X_train, y_pred, \"r-\", linewidth=2, label=\"Predictions w/o Regularization\")\n",
        "plt.xlabel(\"$X$\", fontsize=18)\n",
        "plt.ylabel(\"$y$\", rotation=0, fontsize=18)\n",
        "plt.legend(loc=\"upper right\", fontsize=10);"
      ],
      "metadata": {
        "id": "TrfBijuT3ChN",
        "outputId": "ff7c488c-e694-402b-a3b7-dad018ead295",
        "colab": {
          "base_uri": "https://localhost:8080/",
          "height": 287
        }
      },
      "execution_count": 42,
      "outputs": [
        {
          "output_type": "display_data",
          "data": {
            "text/plain": [
              "<Figure size 432x288 with 1 Axes>"
            ],
            "image/png": "[encoded data removed]"
          },
          "metadata": {
            "needs_background": "light"
          }
        }
      ]
    },
    {
      "cell_type": "code",
      "source": [
        "print('Error medio Absoluto (MAE):', metrics.mean_absolute_error(y_train, y_pred))\n",
        "print('Root Mean Squared Error:', np.sqrt(metrics.mean_squared_error(y_train, y_pred)))\n",
        "print('r2_score',r2_score(y_train, y_pred))"
      ],
      "metadata": {
        "id": "SqVetIkZ6WZ5",
        "outputId": "dc16a94b-c2b7-4676-93f2-3a37083480b5",
        "colab": {
          "base_uri": "https://localhost:8080/"
        }
      },
      "execution_count": 43,
      "outputs": [
        {
          "output_type": "stream",
          "name": "stdout",
          "text": [
            "Error medio Absoluto (MAE): 4.445317842044342\n",
            "Root Mean Squared Error: 5.923606400651763\n",
            "r2_score 0.6789355469744378\n"
          ]
        }
      ]
    },
    {
      "cell_type": "markdown",
      "source": [
        "Add Ridge Regularization to the model:"
      ],
      "metadata": {
        "id": "gyfmwyUe58Jq"
      }
    },
    {
      "cell_type": "code",
      "source": [
        "from sklearn.linear_model import Ridge\n",
        "\n",
        "model_ridge = Pipeline([(\"poly_features\", PolynomialFeatures(degree=5, include_bias=False)),\n",
        "                  (\"scaler\", StandardScaler()),\n",
        "                  (\"ridge\", Ridge(alpha = 0.0001, solver = 'cholesky', random_state = 42))])\n",
        "model_ridge.fit(X_train, y_train)"
      ],
      "metadata": {
        "id": "rCKQDyZg598_",
        "outputId": "0e2d7702-b48b-4687-9fc8-f8ad91612d89",
        "colab": {
          "base_uri": "https://localhost:8080/"
        }
      },
      "execution_count": 44,
      "outputs": [
        {
          "output_type": "execute_result",
          "data": {
            "text/plain": [
              "Pipeline(steps=[('poly_features',\n",
              "                 PolynomialFeatures(degree=5, include_bias=False)),\n",
              "                ('scaler', StandardScaler()),\n",
              "                ('ridge',\n",
              "                 Ridge(alpha=0.0001, random_state=42, solver='cholesky'))])"
            ]
          },
          "metadata": {},
          "execution_count": 44
        }
      ]
    },
    {
      "cell_type": "code",
      "source": [
        "y_pred = model_ridge.predict(X_train)"
      ],
      "metadata": {
        "id": "B0eIXltJ6L1r"
      },
      "execution_count": 45,
      "outputs": []
    },
    {
      "cell_type": "code",
      "source": [
        "plt.plot(X_train, y_train, \"b.\")\n",
        "plt.plot(X_train, y_pred, \"r-\", linewidth=2, label=\"Predictions w/o Regularization\")\n",
        "plt.xlabel(\"$X$\", fontsize=18)\n",
        "plt.ylabel(\"$y$\", rotation=0, fontsize=18)\n",
        "plt.legend(loc=\"upper right\", fontsize=10);"
      ],
      "metadata": {
        "id": "WuFa8weu6TUz",
        "outputId": "9b47dba3-9b36-447d-8585-4e242eb0ace6",
        "colab": {
          "base_uri": "https://localhost:8080/",
          "height": 287
        }
      },
      "execution_count": 46,
      "outputs": [
        {
          "output_type": "display_data",
          "data": {
            "text/plain": [
              "<Figure size 432x288 with 1 Axes>"
            ],
            "image/png": "[encoded data removed]"
          },
          "metadata": {
            "needs_background": "light"
          }
        }
      ]
    },
    {
      "cell_type": "markdown",
      "source": [
        "Obtener ecuacion"
      ],
      "metadata": {
        "id": "Lvc0Gq2IE5GZ"
      }
    },
    {
      "cell_type": "code",
      "source": [
        "np.round(model_ridge[\"ridge\"].coef_,2), model_ridge[\"ridge\"].intercept_"
      ],
      "metadata": {
        "colab": {
          "base_uri": "https://localhost:8080/"
        },
        "id": "z99xQnPjE5Ym",
        "outputId": "a480ab88-bf52-4824-d21a-d951b2c4930b"
      },
      "execution_count": 47,
      "outputs": [
        {
          "output_type": "execute_result",
          "data": {
            "text/plain": [
              "(array([-108.83,  322.9 , -430.51,  282.37,  -74.71]), 40.0531584478626)"
            ]
          },
          "metadata": {},
          "execution_count": 47
        }
      ]
    },
    {
      "cell_type": "markdown",
      "source": [
        "The model estimates:\n",
        "\n",
        "$\\hat{y} = -74.71X^5 + 282.37X^4 - 430.51X^3 + 322.9X^2 - 108.83X + 40.05$"
      ],
      "metadata": {
        "id": "RniW8f3FFUDB"
      }
    },
    {
      "cell_type": "code",
      "source": [
        "nombre_polinomial_ridge, resultado_polinomial_ridge = list(), list()\n",
        "nombre_polinomial_ridge.append('MAE')\n",
        "print('Error medio Absoluto (MAE):', metrics.mean_absolute_error(y_train, y_pred))\n",
        "resultado_polinomial_ridge.append(metrics.mean_absolute_error(y_train, y_pred))\n",
        "nombre_polinomial_ridge.append('Root Mean Squared Error:')\n",
        "print('Root Mean Squared Error:', np.sqrt(metrics.mean_squared_error(y_train, y_pred)))\n",
        "resultado_polinomial_ridge.append(np.sqrt(metrics.mean_squared_error(y_train, y_pred)))\n",
        "nombre_polinomial_ridge.append('r2_score')\n",
        "print('r2_score',r2_score(y_train, y_pred))\n",
        "resultado_polinomial_ridge.append(r2_score(y_train, y_pred))"
      ],
      "metadata": {
        "id": "3b0l-dUx3nuO",
        "outputId": "295063f9-706f-45c9-faf2-4e732dc95899",
        "colab": {
          "base_uri": "https://localhost:8080/"
        }
      },
      "execution_count": 48,
      "outputs": [
        {
          "output_type": "stream",
          "name": "stdout",
          "text": [
            "Error medio Absoluto (MAE): 4.4453837029043015\n",
            "Root Mean Squared Error: 5.924183362837506\n",
            "r2_score 0.6788730002563118\n"
          ]
        }
      ]
    },
    {
      "cell_type": "markdown",
      "source": [
        "### Lasso Regression  or L<sub>1</sub> Regularization "
      ],
      "metadata": {
        "id": "9ZlWcsDQAmeR"
      }
    },
    {
      "cell_type": "code",
      "source": [
        "from sklearn.linear_model import Lasso\n",
        "\n",
        "model_lasso = Pipeline([(\"poly_features\", PolynomialFeatures(degree=5, include_bias=False)),\n",
        "                        (\"scaler\", StandardScaler()),\n",
        "                        (\"lasso\", Lasso(alpha = 0.06, random_state = 15))])\n",
        "model_lasso.fit(X_train, y_train)"
      ],
      "metadata": {
        "id": "l6GHWEhXAnD0",
        "colab": {
          "base_uri": "https://localhost:8080/"
        },
        "outputId": "aa1d8ec5-e718-427d-812a-4c8511e6a1e6"
      },
      "execution_count": 49,
      "outputs": [
        {
          "output_type": "execute_result",
          "data": {
            "text/plain": [
              "Pipeline(steps=[('poly_features',\n",
              "                 PolynomialFeatures(degree=5, include_bias=False)),\n",
              "                ('scaler', StandardScaler()),\n",
              "                ('lasso', Lasso(alpha=0.06, random_state=15))])"
            ]
          },
          "metadata": {},
          "execution_count": 49
        }
      ]
    },
    {
      "cell_type": "code",
      "source": [
        "y_pred = model_lasso.predict(X_train)"
      ],
      "metadata": {
        "id": "aRZHFrdnxaPF"
      },
      "execution_count": 50,
      "outputs": []
    },
    {
      "cell_type": "code",
      "source": [
        "plt.plot(X_train, y_train, \"b.\")\n",
        "plt.plot(X_train, y_pred, \"g-\",label=\"Predictions Lasso Regularization\")\n",
        "plt.xlabel(\"$X$\", fontsize=18)\n",
        "plt.ylabel(\"$y$\", rotation=0, fontsize=18)\n",
        "plt.legend(loc=\"upper right\", fontsize=10);"
      ],
      "metadata": {
        "colab": {
          "base_uri": "https://localhost:8080/",
          "height": 287
        },
        "id": "FoG2_Mhmxki7",
        "outputId": "cd6d1cd4-c403-4cb5-f29b-02dfa2465d62"
      },
      "execution_count": 51,
      "outputs": [
        {
          "output_type": "display_data",
          "data": {
            "text/plain": [
              "<Figure size 432x288 with 1 Axes>"
            ],
            "image/png": "[encoded data removed]"
          },
          "metadata": {
            "needs_background": "light"
          }
        }
      ]
    },
    {
      "cell_type": "markdown",
      "source": [
        "Obtener ecuacion"
      ],
      "metadata": {
        "id": "xhxO4a1vFq2V"
      }
    },
    {
      "cell_type": "code",
      "source": [
        "model_lasso[\"lasso\"].coef_ , model_lasso[\"lasso\"].intercept_"
      ],
      "metadata": {
        "colab": {
          "base_uri": "https://localhost:8080/"
        },
        "id": "-59cPtJAFsCC",
        "outputId": "689cc43a-8bea-4ca9-bc02-9b03be843d6f"
      },
      "execution_count": 52,
      "outputs": [
        {
          "output_type": "execute_result",
          "data": {
            "text/plain": [
              "(array([-15.44972108,   0.        ,  10.36660656,   0.        ,\n",
              "         -2.63398772]), 40.05315844786254)"
            ]
          },
          "metadata": {},
          "execution_count": 52
        }
      ]
    },
    {
      "cell_type": "markdown",
      "source": [
        "The model estimates:\n",
        "\n",
        "$\\hat{y} = -2.63X^5  + 10.36X^3 - 15.44X + 40.05$"
      ],
      "metadata": {
        "id": "OI04lc3DF33l"
      }
    },
    {
      "cell_type": "code",
      "source": [
        "nombre_polinomial_lasso, resultado_polinomial_lasso = list(), list()\n",
        "nombre_polinomial_lasso.append('MAE')\n",
        "print('Error medio Absoluto (MAE):', metrics.mean_absolute_error(y_train, y_pred))\n",
        "resultado_polinomial_lasso.append(metrics.mean_absolute_error(y_train, y_pred))\n",
        "nombre_polinomial_lasso.append('Root Mean Squared Error:')\n",
        "print('Root Mean Squared Error:', np.sqrt(metrics.mean_squared_error(y_train, y_pred)))\n",
        "resultado_polinomial_lasso.append(np.sqrt(metrics.mean_squared_error(y_train, y_pred)))\n",
        "nombre_polinomial_lasso.append('r2_score')\n",
        "print('r2_score',r2_score(y_train, y_pred))\n",
        "resultado_polinomial_lasso.append(r2_score(y_train, y_pred))"
      ],
      "metadata": {
        "colab": {
          "base_uri": "https://localhost:8080/"
        },
        "id": "AuNBtQTbxslJ",
        "outputId": "5f4fdb2f-a09a-41b6-e11b-17a0a53d5142"
      },
      "execution_count": 53,
      "outputs": [
        {
          "output_type": "stream",
          "name": "stdout",
          "text": [
            "Error medio Absoluto (MAE): 4.528623956735011\n",
            "Root Mean Squared Error: 6.195188961598781\n",
            "r2_score 0.6488206647693238\n"
          ]
        }
      ]
    },
    {
      "cell_type": "markdown",
      "source": [
        "## Grafica de los errores"
      ],
      "metadata": {
        "id": "gTjvOQJ4Kq43"
      }
    },
    {
      "cell_type": "code",
      "source": [
        "fig, ax = plt.subplots()\n",
        "plt.title('Lineal');\n",
        "plt.ylabel('Value')\n",
        "for i in range(len(resultado_lineal)):\n",
        "  ax.plot(i,resultado_lineal[i], 'o', label=nombre_lineal[i])\n",
        "  leg = ax.legend();\n",
        "  ax.legend(loc='lower center', frameon=False)"
      ],
      "metadata": {
        "colab": {
          "base_uri": "https://localhost:8080/",
          "height": 281
        },
        "id": "nS_gFHbsO9PI",
        "outputId": "9093d9c6-42b3-4289-9bd9-12550ec0c4b5"
      },
      "execution_count": 54,
      "outputs": [
        {
          "output_type": "display_data",
          "data": {
            "text/plain": [
              "<Figure size 432x288 with 1 Axes>"
            ],
            "image/png": "[encoded data removed]"
          },
          "metadata": {
            "needs_background": "light"
          }
        }
      ]
    },
    {
      "cell_type": "code",
      "source": [
        "fig, ax = plt.subplots()\n",
        "plt.ylabel('Value')\n",
        "plt.title('Polinomial');\n",
        "for i in range(len(resultado_polinomial)):\n",
        "  ax.plot(i,resultado_polinomial[i], 'o', label=nombre_polinomial[i])\n",
        "  leg = ax.legend();\n",
        "  ax.legend(loc='lower center', frameon=False)"
      ],
      "metadata": {
        "colab": {
          "base_uri": "https://localhost:8080/",
          "height": 281
        },
        "id": "l6FKT2Ecasqn",
        "outputId": "67b904ef-5bec-404e-88a2-b0e15950990c"
      },
      "execution_count": 55,
      "outputs": [
        {
          "output_type": "display_data",
          "data": {
            "text/plain": [
              "<Figure size 432x288 with 1 Axes>"
            ],
            "image/png": "[encoded data removed]"
          },
          "metadata": {
            "needs_background": "light"
          }
        }
      ]
    },
    {
      "cell_type": "code",
      "source": [
        "fig, ax = plt.subplots()\n",
        "plt.title('Polinomial & Ridge');\n",
        "plt.ylabel('Value')\n",
        "for i in range(len(resultado_polinomial_ridge)):\n",
        "  ax.plot(i,resultado_polinomial_ridge[i], 'o', label=nombre_polinomial_ridge[i])\n",
        "  leg = ax.legend();\n",
        "  ax.legend(loc='lower center', frameon=False)"
      ],
      "metadata": {
        "colab": {
          "base_uri": "https://localhost:8080/",
          "height": 281
        },
        "id": "1WTYlq3HcbWZ",
        "outputId": "d1845e47-f5df-4a07-fe32-d558b3b4ac45"
      },
      "execution_count": 56,
      "outputs": [
        {
          "output_type": "display_data",
          "data": {
            "text/plain": [
              "<Figure size 432x288 with 1 Axes>"
            ],
            "image/png": "[encoded data removed]"
          },
          "metadata": {
            "needs_background": "light"
          }
        }
      ]
    },
    {
      "cell_type": "code",
      "source": [
        "fig, ax = plt.subplots()\n",
        "plt.ylabel('Value')\n",
        "plt.title('Polinomial & Lasso');\n",
        "for i in range(len(resultado_polinomial_lasso)):\n",
        "  ax.plot(i,resultado_polinomial_lasso[i], 'o', label=nombre_polinomial_lasso[i])\n",
        "  leg = ax.legend();\n",
        "  ax.legend(loc='lower center', frameon=False)"
      ],
      "metadata": {
        "colab": {
          "base_uri": "https://localhost:8080/",
          "height": 281
        },
        "id": "ZArNtNOXdKzy",
        "outputId": "bfdffbcd-cf75-4675-b962-6e6411b93b44"
      },
      "execution_count": 57,
      "outputs": [
        {
          "output_type": "display_data",
          "data": {
            "text/plain": [
              "<Figure size 432x288 with 1 Axes>"
            ],
            "image/png": "[encoded data removed]"
          },
          "metadata": {
            "needs_background": "light"
          }
        }
      ]
    },
    {
      "cell_type": "markdown",
      "source": [
        "##Explica tus resultados"
      ],
      "metadata": {
        "id": "QsTk9Q5GeEiK"
      }
    },
    {
      "cell_type": "markdown",
      "source": [
        "* Que método conviene más a la empresa, ¿por que?, \n",
        "  * R. El metodo minimo que le conviene mejor a la empresa es el polinomial y si requiere mejorar el modelo seria el metodo polinomial con lasso, porque al realizar los ejercicios anteriores el MAE $R^2$, se aprecia que el error es menor a los anteriores metodos con la observacion que el Lasso tiene sus hiperparametros que se requiere modificar para mejorar el modelo\n",
        "* ¿que porcentajes de entrenamiento y evaluación usaste?, \n",
        "  * Utilice el 80% de entrenamiento y 20% de evaluacion porqur influia en el error obtenido\n",
        "* ¿que error tienes?\n",
        "  * El error que tengo cambia dependiendo si se ocupa todo el dataframe o solo el data training, siguiendo las buenas practicas se debe ocupar el training para entrenar el modelo y el restante para saber el score de la prediccion del modelo, el error RMS es mas alto que el MAE, mientras que el $R^2$ es el mas bajo, con el metodo polinomial el \n",
        "     * Error medio Absoluto (MAE): 4.445317842044342\n",
        "     * Root Mean Squared Error: 5.923606400651763\n",
        "     * r2_score 0.6789355469744378\n",
        "  * Esto con un grado de 5, al agregar Lasso se obtiene MAE y RME un poco mas alto pero un r2_score 0.6488206647693238, con Ridge se tiene casi similar      \n",
        "     * Error medio Absoluto (MAE): 4.4453837029043015\n",
        "     * Root Mean Squared Error: 5.924183362837506\n",
        "     * r2_score 0.6788730002563118 \n",
        "* ¿es bueno?\n",
        "    * Con el metodo polinomial se obtiene un buen modelo porque los erorres son menores con un grado 5, y es aceptable, mientras que con los metodos de regularizacion la diferencia es minima \n",
        "* ¿cómo lo sabes?\n",
        "    * Porque al realizar varias combinaciones el error es de los mas bajos, ademas que al añadir los metodos de Regularizacion no tiene una gran diferencia, la diferencia se nota en los coeficientes de la ecuacion ya que el intercept se mantiene igual\n"
      ],
      "metadata": {
        "id": "adnijCBpeKUr"
      }
    },
    {
      "cell_type": "markdown",
      "metadata": {
        "id": "CfqcmLmxLoe9"
      },
      "source": [
        "#Ejercicio 2\n",
        "Realiza la regresión polinomial de los siguientes datos:"
      ]
    },
    {
      "cell_type": "code",
      "source": [
        "df = pd.read_csv('https://raw.githubusercontent.com/marypazrf/bdd/main/kc_house_data.csv')\n",
        "df.sample(10)"
      ],
      "metadata": {
        "id": "57bn0j38qGrg",
        "colab": {
          "base_uri": "https://localhost:8080/",
          "height": 436
        },
        "outputId": "170cb9bb-8b45-4000-e8a6-e76c7e8b8322"
      },
      "execution_count": 58,
      "outputs": [
        {
          "output_type": "execute_result",
          "data": {
            "text/plain": [
              "               id             date      price  bedrooms  bathrooms  \\\n",
              "5954   7852020250  20140602T000000   725995.0         4       2.50   \n",
              "8610   6392002020  20150324T000000   559000.0         3       1.75   \n",
              "7650    626049058  20150504T000000   275000.0         5       2.50   \n",
              "5683   2202500255  20150305T000000   335000.0         3       2.00   \n",
              "20772  1972200428  20140625T000000   563500.0         3       2.50   \n",
              "6959    723000114  20140505T000000  1395000.0         5       3.50   \n",
              "10784  4104900340  20150204T000000   710000.0         4       2.50   \n",
              "21528  3416600750  20150217T000000   585000.0         3       2.50   \n",
              "12319  2386000070  20141029T000000   795127.0         4       3.25   \n",
              "19947  1776460110  20141223T000000   395000.0         4       2.75   \n",
              "\n",
              "       sqft_living  sqft_lot  floors  waterfront  view  ...  grade  \\\n",
              "5954          3190      7869     2.0           0     2  ...      9   \n",
              "8610          1700      6500     1.0           0     0  ...      8   \n",
              "7650          2570     17234     1.0           0     0  ...      7   \n",
              "5683          1210      9926     1.0           0     0  ...      7   \n",
              "20772         1400      1312     3.5           0     0  ...      8   \n",
              "6959          4010      8510     2.0           0     1  ...      9   \n",
              "10784         3220     18618     2.0           0     1  ...     10   \n",
              "21528         1750      1381     3.0           0     0  ...      8   \n",
              "12319         4360     91158     1.0           0     0  ...     10   \n",
              "19947         2280      5013     2.0           0     0  ...      8   \n",
              "\n",
              "       sqft_above  sqft_basement  yr_built  yr_renovated  zipcode      lat  \\\n",
              "5954         3190              0      2001             0    98065  47.5317   \n",
              "8610         1700              0      1967             0    98115  47.6837   \n",
              "7650         1300           1270      1959             0    98133  47.7753   \n",
              "5683         1210              0      1954          2015    98006  47.5731   \n",
              "20772        1400              0      2007             0    98103  47.6534   \n",
              "6959         2850           1160      1971             0    98105  47.6578   \n",
              "10784        3220              0      1991             0    98056  47.5326   \n",
              "21528        1750              0      2008             0    98122  47.6021   \n",
              "12319        3360           1000      1993             0    98053  47.6398   \n",
              "19947        2280              0      2009             0    98019  47.7333   \n",
              "\n",
              "          long  sqft_living15  sqft_lot15  \n",
              "5954  -121.866           2630        6739  \n",
              "8610  -122.284           1880        6000  \n",
              "7650  -122.355           1760        7969  \n",
              "5683  -122.135           1690        9737  \n",
              "20772 -122.355           1350        1312  \n",
              "6959  -122.286           2610        6128  \n",
              "10784 -122.181           2650       11896  \n",
              "21528 -122.294           1940        4800  \n",
              "12319 -121.985           3540       90940  \n",
              "19947 -121.976           2130        5121  \n",
              "\n",
              "[10 rows x 21 columns]"
            ],
            "text/html": [
              "\n",
              "  <div id=\"df-4ce3dc68-eaed-4df4-b4fe-4e5ae074c156\">\n",
              "    <div class=\"colab-df-container\">\n",
              "      <div>\n",
              "<style scoped>\n",
              "    .dataframe tbody tr th:only-of-type {\n",
              "        vertical-align: middle;\n",
              "    }\n",
              "\n",
              "    .dataframe tbody tr th {\n",
              "        vertical-align: top;\n",
              "    }\n",
              "\n",
              "    .dataframe thead th {\n",
              "        text-align: right;\n",
              "    }\n",
              "</style>\n",
              "<table border=\"1\" class=\"dataframe\">\n",
              "  <thead>\n",
              "    <tr style=\"text-align: right;\">\n",
              "      <th></th>\n",
              "      <th>id</th>\n",
              "      <th>date</th>\n",
              "      <th>price</th>\n",
              "      <th>bedrooms</th>\n",
              "      <th>bathrooms</th>\n",
              "      <th>sqft_living</th>\n",
              "      <th>sqft_lot</th>\n",
              "      <th>floors</th>\n",
              "      <th>waterfront</th>\n",
              "      <th>view</th>\n",
              "      <th>...</th>\n",
              "      <th>grade</th>\n",
              "      <th>sqft_above</th>\n",
              "      <th>sqft_basement</th>\n",
              "      <th>yr_built</th>\n",
              "      <th>yr_renovated</th>\n",
              "      <th>zipcode</th>\n",
              "      <th>lat</th>\n",
              "      <th>long</th>\n",
              "      <th>sqft_living15</th>\n",
              "      <th>sqft_lot15</th>\n",
              "    </tr>\n",
              "  </thead>\n",
              "  <tbody>\n",
              "    <tr>\n",
              "      <th>5954</th>\n",
              "      <td>7852020250</td>\n",
              "      <td>20140602T000000</td>\n",
              "      <td>725995.0</td>\n",
              "      <td>4</td>\n",
              "      <td>2.50</td>\n",
              "      <td>3190</td>\n",
              "      <td>7869</td>\n",
              "      <td>2.0</td>\n",
              "      <td>0</td>\n",
              "      <td>2</td>\n",
              "      <td>...</td>\n",
              "      <td>9</td>\n",
              "      <td>3190</td>\n",
              "      <td>0</td>\n",
              "      <td>2001</td>\n",
              "      <td>0</td>\n",
              "      <td>98065</td>\n",
              "      <td>47.5317</td>\n",
              "      <td>-121.866</td>\n",
              "      <td>2630</td>\n",
              "      <td>6739</td>\n",
              "    </tr>\n",
              "    <tr>\n",
              "      <th>8610</th>\n",
              "      <td>6392002020</td>\n",
              "      <td>20150324T000000</td>\n",
              "      <td>559000.0</td>\n",
              "      <td>3</td>\n",
              "      <td>1.75</td>\n",
              "      <td>1700</td>\n",
              "      <td>6500</td>\n",
              "      <td>1.0</td>\n",
              "      <td>0</td>\n",
              "      <td>0</td>\n",
              "      <td>...</td>\n",
              "      <td>8</td>\n",
              "      <td>1700</td>\n",
              "      <td>0</td>\n",
              "      <td>1967</td>\n",
              "      <td>0</td>\n",
              "      <td>98115</td>\n",
              "      <td>47.6837</td>\n",
              "      <td>-122.284</td>\n",
              "      <td>1880</td>\n",
              "      <td>6000</td>\n",
              "    </tr>\n",
              "    <tr>\n",
              "      <th>7650</th>\n",
              "      <td>626049058</td>\n",
              "      <td>20150504T000000</td>\n",
              "      <td>275000.0</td>\n",
              "      <td>5</td>\n",
              "      <td>2.50</td>\n",
              "      <td>2570</td>\n",
              "      <td>17234</td>\n",
              "      <td>1.0</td>\n",
              "      <td>0</td>\n",
              "      <td>0</td>\n",
              "      <td>...</td>\n",
              "      <td>7</td>\n",
              "      <td>1300</td>\n",
              "      <td>1270</td>\n",
              "      <td>1959</td>\n",
              "      <td>0</td>\n",
              "      <td>98133</td>\n",
              "      <td>47.7753</td>\n",
              "      <td>-122.355</td>\n",
              "      <td>1760</td>\n",
              "      <td>7969</td>\n",
              "    </tr>\n",
              "    <tr>\n",
              "      <th>5683</th>\n",
              "      <td>2202500255</td>\n",
              "      <td>20150305T000000</td>\n",
              "      <td>335000.0</td>\n",
              "      <td>3</td>\n",
              "      <td>2.00</td>\n",
              "      <td>1210</td>\n",
              "      <td>9926</td>\n",
              "      <td>1.0</td>\n",
              "      <td>0</td>\n",
              "      <td>0</td>\n",
              "      <td>...</td>\n",
              "      <td>7</td>\n",
              "      <td>1210</td>\n",
              "      <td>0</td>\n",
              "      <td>1954</td>\n",
              "      <td>2015</td>\n",
              "      <td>98006</td>\n",
              "      <td>47.5731</td>\n",
              "      <td>-122.135</td>\n",
              "      <td>1690</td>\n",
              "      <td>9737</td>\n",
              "    </tr>\n",
              "    <tr>\n",
              "      <th>20772</th>\n",
              "      <td>1972200428</td>\n",
              "      <td>20140625T000000</td>\n",
              "      <td>563500.0</td>\n",
              "      <td>3</td>\n",
              "      <td>2.50</td>\n",
              "      <td>1400</td>\n",
              "      <td>1312</td>\n",
              "      <td>3.5</td>\n",
              "      <td>0</td>\n",
              "      <td>0</td>\n",
              "      <td>...</td>\n",
              "      <td>8</td>\n",
              "      <td>1400</td>\n",
              "      <td>0</td>\n",
              "      <td>2007</td>\n",
              "      <td>0</td>\n",
              "      <td>98103</td>\n",
              "      <td>47.6534</td>\n",
              "      <td>-122.355</td>\n",
              "      <td>1350</td>\n",
              "      <td>1312</td>\n",
              "    </tr>\n",
              "    <tr>\n",
              "      <th>6959</th>\n",
              "      <td>723000114</td>\n",
              "      <td>20140505T000000</td>\n",
              "      <td>1395000.0</td>\n",
              "      <td>5</td>\n",
              "      <td>3.50</td>\n",
              "      <td>4010</td>\n",
              "      <td>8510</td>\n",
              "      <td>2.0</td>\n",
              "      <td>0</td>\n",
              "      <td>1</td>\n",
              "      <td>...</td>\n",
              "      <td>9</td>\n",
              "      <td>2850</td>\n",
              "      <td>1160</td>\n",
              "      <td>1971</td>\n",
              "      <td>0</td>\n",
              "      <td>98105</td>\n",
              "      <td>47.6578</td>\n",
              "      <td>-122.286</td>\n",
              "      <td>2610</td>\n",
              "      <td>6128</td>\n",
              "    </tr>\n",
              "    <tr>\n",
              "      <th>10784</th>\n",
              "      <td>4104900340</td>\n",
              "      <td>20150204T000000</td>\n",
              "      <td>710000.0</td>\n",
              "      <td>4</td>\n",
              "      <td>2.50</td>\n",
              "      <td>3220</td>\n",
              "      <td>18618</td>\n",
              "      <td>2.0</td>\n",
              "      <td>0</td>\n",
              "      <td>1</td>\n",
              "      <td>...</td>\n",
              "      <td>10</td>\n",
              "      <td>3220</td>\n",
              "      <td>0</td>\n",
              "      <td>1991</td>\n",
              "      <td>0</td>\n",
              "      <td>98056</td>\n",
              "      <td>47.5326</td>\n",
              "      <td>-122.181</td>\n",
              "      <td>2650</td>\n",
              "      <td>11896</td>\n",
              "    </tr>\n",
              "    <tr>\n",
              "      <th>21528</th>\n",
              "      <td>3416600750</td>\n",
              "      <td>20150217T000000</td>\n",
              "      <td>585000.0</td>\n",
              "      <td>3</td>\n",
              "      <td>2.50</td>\n",
              "      <td>1750</td>\n",
              "      <td>1381</td>\n",
              "      <td>3.0</td>\n",
              "      <td>0</td>\n",
              "      <td>0</td>\n",
              "      <td>...</td>\n",
              "      <td>8</td>\n",
              "      <td>1750</td>\n",
              "      <td>0</td>\n",
              "      <td>2008</td>\n",
              "      <td>0</td>\n",
              "      <td>98122</td>\n",
              "      <td>47.6021</td>\n",
              "      <td>-122.294</td>\n",
              "      <td>1940</td>\n",
              "      <td>4800</td>\n",
              "    </tr>\n",
              "    <tr>\n",
              "      <th>12319</th>\n",
              "      <td>2386000070</td>\n",
              "      <td>20141029T000000</td>\n",
              "      <td>795127.0</td>\n",
              "      <td>4</td>\n",
              "      <td>3.25</td>\n",
              "      <td>4360</td>\n",
              "      <td>91158</td>\n",
              "      <td>1.0</td>\n",
              "      <td>0</td>\n",
              "      <td>0</td>\n",
              "      <td>...</td>\n",
              "      <td>10</td>\n",
              "      <td>3360</td>\n",
              "      <td>1000</td>\n",
              "      <td>1993</td>\n",
              "      <td>0</td>\n",
              "      <td>98053</td>\n",
              "      <td>47.6398</td>\n",
              "      <td>-121.985</td>\n",
              "      <td>3540</td>\n",
              "      <td>90940</td>\n",
              "    </tr>\n",
              "    <tr>\n",
              "      <th>19947</th>\n",
              "      <td>1776460110</td>\n",
              "      <td>20141223T000000</td>\n",
              "      <td>395000.0</td>\n",
              "      <td>4</td>\n",
              "      <td>2.75</td>\n",
              "      <td>2280</td>\n",
              "      <td>5013</td>\n",
              "      <td>2.0</td>\n",
              "      <td>0</td>\n",
              "      <td>0</td>\n",
              "      <td>...</td>\n",
              "      <td>8</td>\n",
              "      <td>2280</td>\n",
              "      <td>0</td>\n",
              "      <td>2009</td>\n",
              "      <td>0</td>\n",
              "      <td>98019</td>\n",
              "      <td>47.7333</td>\n",
              "      <td>-121.976</td>\n",
              "      <td>2130</td>\n",
              "      <td>5121</td>\n",
              "    </tr>\n",
              "  </tbody>\n",
              "</table>\n",
              "<p>10 rows × 21 columns</p>\n",
              "</div>\n",
              "      <button class=\"colab-df-convert\" onclick=\"convertToInteractive('df-4ce3dc68-eaed-4df4-b4fe-4e5ae074c156')\"\n",
              "              title=\"Convert this dataframe to an interactive table.\"\n",
              "              style=\"display:none;\">\n",
              "        \n",
              "  <svg xmlns=\"http://www.w3.org/2000/svg\" height=\"24px\"viewBox=\"0 0 24 24\"\n",
              "       width=\"24px\">\n",
              "    <path d=\"M0 0h24v24H0V0z\" fill=\"none\"/>\n",
              "    <path d=\"M18.56 5.44l.94 2.06.94-2.06 2.06-.94-2.06-.94-.94-2.06-.94 2.06-2.06.94zm-11 1L8.5 8.5l.94-2.06 2.06-.94-2.06-.94L8.5 2.5l-.94 2.06-2.06.94zm10 10l.94 2.06.94-2.06 2.06-.94-2.06-.94-.94-2.06-.94 2.06-2.06.94z\"/><path d=\"M17.41 7.96l-1.37-1.37c-.4-.4-.92-.59-1.43-.59-.52 0-1.04.2-1.43.59L10.3 9.45l-7.72 7.72c-.78.78-.78 2.05 0 2.83L4 21.41c.39.39.9.59 1.41.59.51 0 1.02-.2 1.41-.59l7.78-7.78 2.81-2.81c.8-.78.8-2.07 0-2.86zM5.41 20L4 18.59l7.72-7.72 1.47 1.35L5.41 20z\"/>\n",
              "  </svg>\n",
              "      </button>\n",
              "      \n",
              "  <style>\n",
              "    .colab-df-container {\n",
              "      display:flex;\n",
              "      flex-wrap:wrap;\n",
              "      gap: 12px;\n",
              "    }\n",
              "\n",
              "    .colab-df-convert {\n",
              "      background-color: #E8F0FE;\n",
              "      border: none;\n",
              "      border-radius: 50%;\n",
              "      cursor: pointer;\n",
              "      display: none;\n",
              "      fill: #1967D2;\n",
              "      height: 32px;\n",
              "      padding: 0 0 0 0;\n",
              "      width: 32px;\n",
              "    }\n",
              "\n",
              "    .colab-df-convert:hover {\n",
              "      background-color: #E2EBFA;\n",
              "      box-shadow: 0px 1px 2px rgba(60, 64, 67, 0.3), 0px 1px 3px 1px rgba(60, 64, 67, 0.15);\n",
              "      fill: #174EA6;\n",
              "    }\n",
              "\n",
              "    [theme=dark] .colab-df-convert {\n",
              "      background-color: #3B4455;\n",
              "      fill: #D2E3FC;\n",
              "    }\n",
              "\n",
              "    [theme=dark] .colab-df-convert:hover {\n",
              "      background-color: #434B5C;\n",
              "      box-shadow: 0px 1px 3px 1px rgba(0, 0, 0, 0.15);\n",
              "      filter: drop-shadow(0px 1px 2px rgba(0, 0, 0, 0.3));\n",
              "      fill: #FFFFFF;\n",
              "    }\n",
              "  </style>\n",
              "\n",
              "      <script>\n",
              "        const buttonEl =\n",
              "          document.querySelector('#df-4ce3dc68-eaed-4df4-b4fe-4e5ae074c156 button.colab-df-convert');\n",
              "        buttonEl.style.display =\n",
              "          google.colab.kernel.accessAllowed ? 'block' : 'none';\n",
              "\n",
              "        async function convertToInteractive(key) {\n",
              "          const element = document.querySelector('#df-4ce3dc68-eaed-4df4-b4fe-4e5ae074c156');\n",
              "          const dataTable =\n",
              "            await google.colab.kernel.invokeFunction('convertToInteractive',\n",
              "                                                     [key], {});\n",
              "          if (!dataTable) return;\n",
              "\n",
              "          const docLinkHtml = 'Like what you see? Visit the ' +\n",
              "            '<a target=\"_blank\" href=https://colab.research.google.com/notebooks/data_table.ipynb>data table notebook</a>'\n",
              "            + ' to learn more about interactive tables.';\n",
              "          element.innerHTML = '';\n",
              "          dataTable['output_type'] = 'display_data';\n",
              "          await google.colab.output.renderOutput(dataTable, element);\n",
              "          const docLink = document.createElement('div');\n",
              "          docLink.innerHTML = docLinkHtml;\n",
              "          element.appendChild(docLink);\n",
              "        }\n",
              "      </script>\n",
              "    </div>\n",
              "  </div>\n",
              "  "
            ]
          },
          "metadata": {},
          "execution_count": 58
        }
      ]
    },
    {
      "cell_type": "code",
      "source": [
        "df.info()"
      ],
      "metadata": {
        "id": "n0fs14KoqI3M",
        "colab": {
          "base_uri": "https://localhost:8080/"
        },
        "outputId": "32d041c8-bd1c-4dff-e89b-36e5341e7bb1"
      },
      "execution_count": 59,
      "outputs": [
        {
          "output_type": "stream",
          "name": "stdout",
          "text": [
            "<class 'pandas.core.frame.DataFrame'>\n",
            "RangeIndex: 21613 entries, 0 to 21612\n",
            "Data columns (total 21 columns):\n",
            " #   Column         Non-Null Count  Dtype  \n",
            "---  ------         --------------  -----  \n",
            " 0   id             21613 non-null  int64  \n",
            " 1   date           21613 non-null  object \n",
            " 2   price          21613 non-null  float64\n",
            " 3   bedrooms       21613 non-null  int64  \n",
            " 4   bathrooms      21613 non-null  float64\n",
            " 5   sqft_living    21613 non-null  int64  \n",
            " 6   sqft_lot       21613 non-null  int64  \n",
            " 7   floors         21613 non-null  float64\n",
            " 8   waterfront     21613 non-null  int64  \n",
            " 9   view           21613 non-null  int64  \n",
            " 10  condition      21613 non-null  int64  \n",
            " 11  grade          21613 non-null  int64  \n",
            " 12  sqft_above     21613 non-null  int64  \n",
            " 13  sqft_basement  21613 non-null  int64  \n",
            " 14  yr_built       21613 non-null  int64  \n",
            " 15  yr_renovated   21613 non-null  int64  \n",
            " 16  zipcode        21613 non-null  int64  \n",
            " 17  lat            21613 non-null  float64\n",
            " 18  long           21613 non-null  float64\n",
            " 19  sqft_living15  21613 non-null  int64  \n",
            " 20  sqft_lot15     21613 non-null  int64  \n",
            "dtypes: float64(5), int64(15), object(1)\n",
            "memory usage: 3.5+ MB\n"
          ]
        }
      ]
    },
    {
      "cell_type": "code",
      "source": [
        "df.describe()"
      ],
      "metadata": {
        "id": "1PNzDJZeqKhe",
        "colab": {
          "base_uri": "https://localhost:8080/",
          "height": 364
        },
        "outputId": "e56642e7-df47-4605-9ba4-df1bde4a2d01"
      },
      "execution_count": 60,
      "outputs": [
        {
          "output_type": "execute_result",
          "data": {
            "text/plain": [
              "                 id         price      bedrooms     bathrooms   sqft_living  \\\n",
              "count  2.161300e+04  2.161300e+04  21613.000000  21613.000000  21613.000000   \n",
              "mean   4.580302e+09  5.400881e+05      3.370842      2.114757   2079.899736   \n",
              "std    2.876566e+09  3.671272e+05      0.930062      0.770163    918.440897   \n",
              "min    1.000102e+06  7.500000e+04      0.000000      0.000000    290.000000   \n",
              "25%    2.123049e+09  3.219500e+05      3.000000      1.750000   1427.000000   \n",
              "50%    3.904930e+09  4.500000e+05      3.000000      2.250000   1910.000000   \n",
              "75%    7.308900e+09  6.450000e+05      4.000000      2.500000   2550.000000   \n",
              "max    9.900000e+09  7.700000e+06     33.000000      8.000000  13540.000000   \n",
              "\n",
              "           sqft_lot        floors    waterfront          view     condition  \\\n",
              "count  2.161300e+04  21613.000000  21613.000000  21613.000000  21613.000000   \n",
              "mean   1.510697e+04      1.494309      0.007542      0.234303      3.409430   \n",
              "std    4.142051e+04      0.539989      0.086517      0.766318      0.650743   \n",
              "min    5.200000e+02      1.000000      0.000000      0.000000      1.000000   \n",
              "25%    5.040000e+03      1.000000      0.000000      0.000000      3.000000   \n",
              "50%    7.618000e+03      1.500000      0.000000      0.000000      3.000000   \n",
              "75%    1.068800e+04      2.000000      0.000000      0.000000      4.000000   \n",
              "max    1.651359e+06      3.500000      1.000000      4.000000      5.000000   \n",
              "\n",
              "              grade    sqft_above  sqft_basement      yr_built  yr_renovated  \\\n",
              "count  21613.000000  21613.000000   21613.000000  21613.000000  21613.000000   \n",
              "mean       7.656873   1788.390691     291.509045   1971.005136     84.402258   \n",
              "std        1.175459    828.090978     442.575043     29.373411    401.679240   \n",
              "min        1.000000    290.000000       0.000000   1900.000000      0.000000   \n",
              "25%        7.000000   1190.000000       0.000000   1951.000000      0.000000   \n",
              "50%        7.000000   1560.000000       0.000000   1975.000000      0.000000   \n",
              "75%        8.000000   2210.000000     560.000000   1997.000000      0.000000   \n",
              "max       13.000000   9410.000000    4820.000000   2015.000000   2015.000000   \n",
              "\n",
              "            zipcode           lat          long  sqft_living15     sqft_lot15  \n",
              "count  21613.000000  21613.000000  21613.000000   21613.000000   21613.000000  \n",
              "mean   98077.939805     47.560053   -122.213896    1986.552492   12768.455652  \n",
              "std       53.505026      0.138564      0.140828     685.391304   27304.179631  \n",
              "min    98001.000000     47.155900   -122.519000     399.000000     651.000000  \n",
              "25%    98033.000000     47.471000   -122.328000    1490.000000    5100.000000  \n",
              "50%    98065.000000     47.571800   -122.230000    1840.000000    7620.000000  \n",
              "75%    98118.000000     47.678000   -122.125000    2360.000000   10083.000000  \n",
              "max    98199.000000     47.777600   -121.315000    6210.000000  871200.000000  "
            ],
            "text/html": [
              "\n",
              "  <div id=\"df-b08c7e33-24ec-4a4a-856f-2b8c644a503d\">\n",
              "    <div class=\"colab-df-container\">\n",
              "      <div>\n",
              "<style scoped>\n",
              "    .dataframe tbody tr th:only-of-type {\n",
              "        vertical-align: middle;\n",
              "    }\n",
              "\n",
              "    .dataframe tbody tr th {\n",
              "        vertical-align: top;\n",
              "    }\n",
              "\n",
              "    .dataframe thead th {\n",
              "        text-align: right;\n",
              "    }\n",
              "</style>\n",
              "<table border=\"1\" class=\"dataframe\">\n",
              "  <thead>\n",
              "    <tr style=\"text-align: right;\">\n",
              "      <th></th>\n",
              "      <th>id</th>\n",
              "      <th>price</th>\n",
              "      <th>bedrooms</th>\n",
              "      <th>bathrooms</th>\n",
              "      <th>sqft_living</th>\n",
              "      <th>sqft_lot</th>\n",
              "      <th>floors</th>\n",
              "      <th>waterfront</th>\n",
              "      <th>view</th>\n",
              "      <th>condition</th>\n",
              "      <th>grade</th>\n",
              "      <th>sqft_above</th>\n",
              "      <th>sqft_basement</th>\n",
              "      <th>yr_built</th>\n",
              "      <th>yr_renovated</th>\n",
              "      <th>zipcode</th>\n",
              "      <th>lat</th>\n",
              "      <th>long</th>\n",
              "      <th>sqft_living15</th>\n",
              "      <th>sqft_lot15</th>\n",
              "    </tr>\n",
              "  </thead>\n",
              "  <tbody>\n",
              "    <tr>\n",
              "      <th>count</th>\n",
              "      <td>2.161300e+04</td>\n",
              "      <td>2.161300e+04</td>\n",
              "      <td>21613.000000</td>\n",
              "      <td>21613.000000</td>\n",
              "      <td>21613.000000</td>\n",
              "      <td>2.161300e+04</td>\n",
              "      <td>21613.000000</td>\n",
              "      <td>21613.000000</td>\n",
              "      <td>21613.000000</td>\n",
              "      <td>21613.000000</td>\n",
              "      <td>21613.000000</td>\n",
              "      <td>21613.000000</td>\n",
              "      <td>21613.000000</td>\n",
              "      <td>21613.000000</td>\n",
              "      <td>21613.000000</td>\n",
              "      <td>21613.000000</td>\n",
              "      <td>21613.000000</td>\n",
              "      <td>21613.000000</td>\n",
              "      <td>21613.000000</td>\n",
              "      <td>21613.000000</td>\n",
              "    </tr>\n",
              "    <tr>\n",
              "      <th>mean</th>\n",
              "      <td>4.580302e+09</td>\n",
              "      <td>5.400881e+05</td>\n",
              "      <td>3.370842</td>\n",
              "      <td>2.114757</td>\n",
              "      <td>2079.899736</td>\n",
              "      <td>1.510697e+04</td>\n",
              "      <td>1.494309</td>\n",
              "      <td>0.007542</td>\n",
              "      <td>0.234303</td>\n",
              "      <td>3.409430</td>\n",
              "      <td>7.656873</td>\n",
              "      <td>1788.390691</td>\n",
              "      <td>291.509045</td>\n",
              "      <td>1971.005136</td>\n",
              "      <td>84.402258</td>\n",
              "      <td>98077.939805</td>\n",
              "      <td>47.560053</td>\n",
              "      <td>-122.213896</td>\n",
              "      <td>1986.552492</td>\n",
              "      <td>12768.455652</td>\n",
              "    </tr>\n",
              "    <tr>\n",
              "      <th>std</th>\n",
              "      <td>2.876566e+09</td>\n",
              "      <td>3.671272e+05</td>\n",
              "      <td>0.930062</td>\n",
              "      <td>0.770163</td>\n",
              "      <td>918.440897</td>\n",
              "      <td>4.142051e+04</td>\n",
              "      <td>0.539989</td>\n",
              "      <td>0.086517</td>\n",
              "      <td>0.766318</td>\n",
              "      <td>0.650743</td>\n",
              "      <td>1.175459</td>\n",
              "      <td>828.090978</td>\n",
              "      <td>442.575043</td>\n",
              "      <td>29.373411</td>\n",
              "      <td>401.679240</td>\n",
              "      <td>53.505026</td>\n",
              "      <td>0.138564</td>\n",
              "      <td>0.140828</td>\n",
              "      <td>685.391304</td>\n",
              "      <td>27304.179631</td>\n",
              "    </tr>\n",
              "    <tr>\n",
              "      <th>min</th>\n",
              "      <td>1.000102e+06</td>\n",
              "      <td>7.500000e+04</td>\n",
              "      <td>0.000000</td>\n",
              "      <td>0.000000</td>\n",
              "      <td>290.000000</td>\n",
              "      <td>5.200000e+02</td>\n",
              "      <td>1.000000</td>\n",
              "      <td>0.000000</td>\n",
              "      <td>0.000000</td>\n",
              "      <td>1.000000</td>\n",
              "      <td>1.000000</td>\n",
              "      <td>290.000000</td>\n",
              "      <td>0.000000</td>\n",
              "      <td>1900.000000</td>\n",
              "      <td>0.000000</td>\n",
              "      <td>98001.000000</td>\n",
              "      <td>47.155900</td>\n",
              "      <td>-122.519000</td>\n",
              "      <td>399.000000</td>\n",
              "      <td>651.000000</td>\n",
              "    </tr>\n",
              "    <tr>\n",
              "      <th>25%</th>\n",
              "      <td>2.123049e+09</td>\n",
              "      <td>3.219500e+05</td>\n",
              "      <td>3.000000</td>\n",
              "      <td>1.750000</td>\n",
              "      <td>1427.000000</td>\n",
              "      <td>5.040000e+03</td>\n",
              "      <td>1.000000</td>\n",
              "      <td>0.000000</td>\n",
              "      <td>0.000000</td>\n",
              "      <td>3.000000</td>\n",
              "      <td>7.000000</td>\n",
              "      <td>1190.000000</td>\n",
              "      <td>0.000000</td>\n",
              "      <td>1951.000000</td>\n",
              "      <td>0.000000</td>\n",
              "      <td>98033.000000</td>\n",
              "      <td>47.471000</td>\n",
              "      <td>-122.328000</td>\n",
              "      <td>1490.000000</td>\n",
              "      <td>5100.000000</td>\n",
              "    </tr>\n",
              "    <tr>\n",
              "      <th>50%</th>\n",
              "      <td>3.904930e+09</td>\n",
              "      <td>4.500000e+05</td>\n",
              "      <td>3.000000</td>\n",
              "      <td>2.250000</td>\n",
              "      <td>1910.000000</td>\n",
              "      <td>7.618000e+03</td>\n",
              "      <td>1.500000</td>\n",
              "      <td>0.000000</td>\n",
              "      <td>0.000000</td>\n",
              "      <td>3.000000</td>\n",
              "      <td>7.000000</td>\n",
              "      <td>1560.000000</td>\n",
              "      <td>0.000000</td>\n",
              "      <td>1975.000000</td>\n",
              "      <td>0.000000</td>\n",
              "      <td>98065.000000</td>\n",
              "      <td>47.571800</td>\n",
              "      <td>-122.230000</td>\n",
              "      <td>1840.000000</td>\n",
              "      <td>7620.000000</td>\n",
              "    </tr>\n",
              "    <tr>\n",
              "      <th>75%</th>\n",
              "      <td>7.308900e+09</td>\n",
              "      <td>6.450000e+05</td>\n",
              "      <td>4.000000</td>\n",
              "      <td>2.500000</td>\n",
              "      <td>2550.000000</td>\n",
              "      <td>1.068800e+04</td>\n",
              "      <td>2.000000</td>\n",
              "      <td>0.000000</td>\n",
              "      <td>0.000000</td>\n",
              "      <td>4.000000</td>\n",
              "      <td>8.000000</td>\n",
              "      <td>2210.000000</td>\n",
              "      <td>560.000000</td>\n",
              "      <td>1997.000000</td>\n",
              "      <td>0.000000</td>\n",
              "      <td>98118.000000</td>\n",
              "      <td>47.678000</td>\n",
              "      <td>-122.125000</td>\n",
              "      <td>2360.000000</td>\n",
              "      <td>10083.000000</td>\n",
              "    </tr>\n",
              "    <tr>\n",
              "      <th>max</th>\n",
              "      <td>9.900000e+09</td>\n",
              "      <td>7.700000e+06</td>\n",
              "      <td>33.000000</td>\n",
              "      <td>8.000000</td>\n",
              "      <td>13540.000000</td>\n",
              "      <td>1.651359e+06</td>\n",
              "      <td>3.500000</td>\n",
              "      <td>1.000000</td>\n",
              "      <td>4.000000</td>\n",
              "      <td>5.000000</td>\n",
              "      <td>13.000000</td>\n",
              "      <td>9410.000000</td>\n",
              "      <td>4820.000000</td>\n",
              "      <td>2015.000000</td>\n",
              "      <td>2015.000000</td>\n",
              "      <td>98199.000000</td>\n",
              "      <td>47.777600</td>\n",
              "      <td>-121.315000</td>\n",
              "      <td>6210.000000</td>\n",
              "      <td>871200.000000</td>\n",
              "    </tr>\n",
              "  </tbody>\n",
              "</table>\n",
              "</div>\n",
              "      <button class=\"colab-df-convert\" onclick=\"convertToInteractive('df-b08c7e33-24ec-4a4a-856f-2b8c644a503d')\"\n",
              "              title=\"Convert this dataframe to an interactive table.\"\n",
              "              style=\"display:none;\">\n",
              "        \n",
              "  <svg xmlns=\"http://www.w3.org/2000/svg\" height=\"24px\"viewBox=\"0 0 24 24\"\n",
              "       width=\"24px\">\n",
              "    <path d=\"M0 0h24v24H0V0z\" fill=\"none\"/>\n",
              "    <path d=\"M18.56 5.44l.94 2.06.94-2.06 2.06-.94-2.06-.94-.94-2.06-.94 2.06-2.06.94zm-11 1L8.5 8.5l.94-2.06 2.06-.94-2.06-.94L8.5 2.5l-.94 2.06-2.06.94zm10 10l.94 2.06.94-2.06 2.06-.94-2.06-.94-.94-2.06-.94 2.06-2.06.94z\"/><path d=\"M17.41 7.96l-1.37-1.37c-.4-.4-.92-.59-1.43-.59-.52 0-1.04.2-1.43.59L10.3 9.45l-7.72 7.72c-.78.78-.78 2.05 0 2.83L4 21.41c.39.39.9.59 1.41.59.51 0 1.02-.2 1.41-.59l7.78-7.78 2.81-2.81c.8-.78.8-2.07 0-2.86zM5.41 20L4 18.59l7.72-7.72 1.47 1.35L5.41 20z\"/>\n",
              "  </svg>\n",
              "      </button>\n",
              "      \n",
              "  <style>\n",
              "    .colab-df-container {\n",
              "      display:flex;\n",
              "      flex-wrap:wrap;\n",
              "      gap: 12px;\n",
              "    }\n",
              "\n",
              "    .colab-df-convert {\n",
              "      background-color: #E8F0FE;\n",
              "      border: none;\n",
              "      border-radius: 50%;\n",
              "      cursor: pointer;\n",
              "      display: none;\n",
              "      fill: #1967D2;\n",
              "      height: 32px;\n",
              "      padding: 0 0 0 0;\n",
              "      width: 32px;\n",
              "    }\n",
              "\n",
              "    .colab-df-convert:hover {\n",
              "      background-color: #E2EBFA;\n",
              "      box-shadow: 0px 1px 2px rgba(60, 64, 67, 0.3), 0px 1px 3px 1px rgba(60, 64, 67, 0.15);\n",
              "      fill: #174EA6;\n",
              "    }\n",
              "\n",
              "    [theme=dark] .colab-df-convert {\n",
              "      background-color: #3B4455;\n",
              "      fill: #D2E3FC;\n",
              "    }\n",
              "\n",
              "    [theme=dark] .colab-df-convert:hover {\n",
              "      background-color: #434B5C;\n",
              "      box-shadow: 0px 1px 3px 1px rgba(0, 0, 0, 0.15);\n",
              "      filter: drop-shadow(0px 1px 2px rgba(0, 0, 0, 0.3));\n",
              "      fill: #FFFFFF;\n",
              "    }\n",
              "  </style>\n",
              "\n",
              "      <script>\n",
              "        const buttonEl =\n",
              "          document.querySelector('#df-b08c7e33-24ec-4a4a-856f-2b8c644a503d button.colab-df-convert');\n",
              "        buttonEl.style.display =\n",
              "          google.colab.kernel.accessAllowed ? 'block' : 'none';\n",
              "\n",
              "        async function convertToInteractive(key) {\n",
              "          const element = document.querySelector('#df-b08c7e33-24ec-4a4a-856f-2b8c644a503d');\n",
              "          const dataTable =\n",
              "            await google.colab.kernel.invokeFunction('convertToInteractive',\n",
              "                                                     [key], {});\n",
              "          if (!dataTable) return;\n",
              "\n",
              "          const docLinkHtml = 'Like what you see? Visit the ' +\n",
              "            '<a target=\"_blank\" href=https://colab.research.google.com/notebooks/data_table.ipynb>data table notebook</a>'\n",
              "            + ' to learn more about interactive tables.';\n",
              "          element.innerHTML = '';\n",
              "          dataTable['output_type'] = 'display_data';\n",
              "          await google.colab.output.renderOutput(dataTable, element);\n",
              "          const docLink = document.createElement('div');\n",
              "          docLink.innerHTML = docLinkHtml;\n",
              "          element.appendChild(docLink);\n",
              "        }\n",
              "      </script>\n",
              "    </div>\n",
              "  </div>\n",
              "  "
            ]
          },
          "metadata": {},
          "execution_count": 60
        }
      ]
    },
    {
      "cell_type": "code",
      "source": [
        "df.drop('id', axis = 1, inplace = True)\n",
        "df.drop('date', axis = 1, inplace = True)\n",
        "df.drop('zipcode', axis = 1, inplace = True)\n",
        "df.drop('lat', axis = 1, inplace = True)\n",
        "df.drop('long', axis = 1, inplace = True)\n"
      ],
      "metadata": {
        "id": "0KUD8T08qMmq"
      },
      "execution_count": 61,
      "outputs": []
    },
    {
      "cell_type": "code",
      "source": [
        "plt.figure(figsize=(12,8)) \n",
        "sns.heatmap(df.corr(), annot=True, cmap='Dark2_r', linewidths = 2)\n",
        "plt.show()"
      ],
      "metadata": {
        "id": "r-jk_nHmqKpp",
        "colab": {
          "base_uri": "https://localhost:8080/",
          "height": 551
        },
        "outputId": "02ff68f7-1560-4626-9dbb-fc56350766d6"
      },
      "execution_count": 62,
      "outputs": [
        {
          "output_type": "display_data",
          "data": {
            "text/plain": [
              "<Figure size 864x576 with 2 Axes>"
            ],
            "image/png": "[encoded data removed]"
          },
          "metadata": {
            "needs_background": "light"
          }
        }
      ]
    },
    {
      "cell_type": "code",
      "source": [
        "columns = df.columns.drop('price')\n",
        "\n",
        "features = columns\n",
        "label = ['price']\n",
        "\n",
        "X = df[features]\n",
        "y = df[label]"
      ],
      "metadata": {
        "id": "p4zqCnFwq7Oc"
      },
      "execution_count": 63,
      "outputs": []
    },
    {
      "cell_type": "code",
      "source": [
        "from sklearn.model_selection import train_test_split\n",
        "X_train, X_test, y_train, y_test = train_test_split(X, y, test_size = 0.2, random_state = 101)\n",
        "\n",
        "print(f'Numero total de registros en la bdd: {len(X)}')\n",
        "print(\"*****\"*10)\n",
        "print(f'Numero total de registros en el training set: {len(X_train)}')\n",
        "print(f'Tamaño de X_train: {X_train.shape}')\n",
        "print(\"*****\"*10)\n",
        "print(f'Mumero total de registros en el test dataset: {len(X_test)}')\n",
        "print(f'Tamaño del X_test: {X_test.shape}')"
      ],
      "metadata": {
        "id": "p91PEVPLq93-",
        "colab": {
          "base_uri": "https://localhost:8080/"
        },
        "outputId": "a27f134f-48be-4c00-b7da-984d0aefa877"
      },
      "execution_count": 64,
      "outputs": [
        {
          "output_type": "stream",
          "name": "stdout",
          "text": [
            "Numero total de registros en la bdd: 21613\n",
            "**************************************************\n",
            "Numero total de registros en el training set: 17290\n",
            "Tamaño de X_train: (17290, 15)\n",
            "**************************************************\n",
            "Mumero total de registros en el test dataset: 4323\n",
            "Tamaño del X_test: (4323, 15)\n"
          ]
        }
      ]
    },
    {
      "cell_type": "code",
      "source": [
        "#tu codigo aquí\n",
        "plt.plot(X_train,y_train,'b.')"
      ],
      "metadata": {
        "id": "0faHrN8-rv9V",
        "colab": {
          "base_uri": "https://localhost:8080/",
          "height": 549
        },
        "outputId": "5d6b985c-4aa2-4ab9-c911-43bb5002275b"
      },
      "execution_count": 65,
      "outputs": [
        {
          "output_type": "execute_result",
          "data": {
            "text/plain": [
              "[<matplotlib.lines.Line2D at 0x7f8e802b5bd0>,\n",
              " <matplotlib.lines.Line2D at 0x7f8e838d8a50>,\n",
              " <matplotlib.lines.Line2D at 0x7f8e80268750>,\n",
              " <matplotlib.lines.Line2D at 0x7f8e80268910>,\n",
              " <matplotlib.lines.Line2D at 0x7f8e80268ad0>,\n",
              " <matplotlib.lines.Line2D at 0x7f8e80268a50>,\n",
              " <matplotlib.lines.Line2D at 0x7f8e80268e90>,\n",
              " <matplotlib.lines.Line2D at 0x7f8e80268e10>,\n",
              " <matplotlib.lines.Line2D at 0x7f8e80268fd0>,\n",
              " <matplotlib.lines.Line2D at 0x7f8e80268c90>,\n",
              " <matplotlib.lines.Line2D at 0x7f8e8024e590>,\n",
              " <matplotlib.lines.Line2D at 0x7f8e8024e750>,\n",
              " <matplotlib.lines.Line2D at 0x7f8e8024e910>,\n",
              " <matplotlib.lines.Line2D at 0x7f8e8024ead0>,\n",
              " <matplotlib.lines.Line2D at 0x7f8e8024ec90>]"
            ]
          },
          "metadata": {},
          "execution_count": 65
        },
        {
          "output_type": "display_data",
          "data": {
            "text/plain": [
              "<Figure size 432x288 with 1 Axes>"
            ],
            "image/png": "[encoded data removed]"
          },
          "metadata": {
            "needs_background": "light"
          }
        }
      ]
    },
    {
      "cell_type": "markdown",
      "source": [
        "## Simple Linear Regression\n",
        "\n",
        "Simple linear regression equation accordance previous plot with negative slope:\n",
        "\n",
        "$y = -ax + b$\n",
        "<br>\n",
        "$a$: slope\n",
        "<br>\n",
        "$b$: intercept\n",
        "\n",
        "Generate linear-looking data with the equation:"
      ],
      "metadata": {
        "id": "PFMDeCRgMdMp"
      }
    },
    {
      "cell_type": "code",
      "source": [
        "scaled = StandardScaler()\n",
        "X_train_scaled = scaled.fit_transform(X_train)\n",
        "y_train_scaled = scaled.fit_transform(y_train)\n",
        "#lineal\n",
        "from sklearn.linear_model import LinearRegression\n",
        "\n",
        "linear_reg = LinearRegression(fit_intercept=True)\n",
        "linear_reg.fit(X_train_scaled, y_train_scaled)"
      ],
      "metadata": {
        "colab": {
          "base_uri": "https://localhost:8080/"
        },
        "id": "2Hs-4tojMdzH",
        "outputId": "ef26928d-677c-451d-fc79-ec852ce3272a"
      },
      "execution_count": 66,
      "outputs": [
        {
          "output_type": "execute_result",
          "data": {
            "text/plain": [
              "LinearRegression()"
            ]
          },
          "metadata": {},
          "execution_count": 66
        }
      ]
    },
    {
      "cell_type": "markdown",
      "source": [
        "Plot the model's predictions:"
      ],
      "metadata": {
        "id": "fgzw1M9aMj24"
      }
    },
    {
      "cell_type": "code",
      "source": [
        "# construct best fit line\n",
        "#X_fit = np.linspace(0, 2, 100)\n",
        "y_pred = linear_reg.predict(X_train_scaled)"
      ],
      "metadata": {
        "id": "iqDUFtXhQdsJ"
      },
      "execution_count": 67,
      "outputs": []
    },
    {
      "cell_type": "code",
      "source": [
        "y_pred.shape"
      ],
      "metadata": {
        "colab": {
          "base_uri": "https://localhost:8080/"
        },
        "id": "5hF2ufwhQlH_",
        "outputId": "c7ad2541-096e-424f-8e3b-d0c8114319bc"
      },
      "execution_count": 68,
      "outputs": [
        {
          "output_type": "execute_result",
          "data": {
            "text/plain": [
              "(17290, 1)"
            ]
          },
          "metadata": {},
          "execution_count": 68
        }
      ]
    },
    {
      "cell_type": "code",
      "source": [
        "X_train_scaled.shape"
      ],
      "metadata": {
        "colab": {
          "base_uri": "https://localhost:8080/"
        },
        "id": "5hg-Fu6SQvX7",
        "outputId": "cd0befb2-591d-42ab-ccba-62758fe99bfb"
      },
      "execution_count": 69,
      "outputs": [
        {
          "output_type": "execute_result",
          "data": {
            "text/plain": [
              "(17290, 15)"
            ]
          },
          "metadata": {},
          "execution_count": 69
        }
      ]
    },
    {
      "cell_type": "code",
      "source": [
        "\n",
        "\n",
        "#plt.scatter(np.ravel(X_train), np.ravel(y_train))\n",
        "plt.plot(X_train_scaled,y_train_scaled,'b.')\n",
        "plt.plot(X_train_scaled, y_pred, \"r-\", linewidth=2)#, label=\"Predictions\")\n",
        "plt.xlabel(\"$X$\", fontsize=18)\n",
        "plt.ylabel(\"$y$\", rotation=0, fontsize=18)\n",
        "plt.legend(loc=\"upper left\", fontsize=14);"
      ],
      "metadata": {
        "colab": {
          "base_uri": "https://localhost:8080/",
          "height": 304
        },
        "id": "XNh9SJQcMmQi",
        "outputId": "f6b34e68-3b66-4706-dfb9-440fbaaea235"
      },
      "execution_count": 70,
      "outputs": [
        {
          "output_type": "stream",
          "name": "stderr",
          "text": [
            "WARNING:matplotlib.legend:No handles with labels found to put in legend.\n"
          ]
        },
        {
          "output_type": "display_data",
          "data": {
            "text/plain": [
              "<Figure size 432x288 with 1 Axes>"
            ],
            "image/png": "[encoded data removed]"
          },
          "metadata": {
            "needs_background": "light"
          }
        }
      ]
    },
    {
      "cell_type": "code",
      "source": [
        "linear_reg.intercept_, linear_reg.coef_"
      ],
      "metadata": {
        "colab": {
          "base_uri": "https://localhost:8080/"
        },
        "id": "vHtVwPDgSjoG",
        "outputId": "66e77db2-2348-43d3-e5d0-bc8a6c8ac0c3"
      },
      "execution_count": 71,
      "outputs": [
        {
          "output_type": "execute_result",
          "data": {
            "text/plain": [
              "(array([-8.9030532e-16]),\n",
              " array([[-0.09487263,  0.08443032,  0.20598472,  0.00299923,  0.04350148,\n",
              "          0.13304522,  0.08950894,  0.03919155,  0.38765493,  0.17290765,\n",
              "          0.10343584, -0.28320432,  0.01155472,  0.04838398, -0.04216903]]))"
            ]
          },
          "metadata": {},
          "execution_count": 71
        }
      ]
    },
    {
      "cell_type": "markdown",
      "source": [
        "The model estimates with StandardScaler:\n",
        "\n",
        "$\\hat{y} = -0.042X^{15} + 0.048X^{14}+ 0.0115X^{13} - 0.283X^{12} + 0.103X^{11} + 0.172X^{10} + 0.387X^{9} + 0.039X^{8} + 0.089X^{7} + 0.133X^{6} + 0.043X^{5} + 0.0029X^{4} + 0.2059X^{3} + 0.0844X^{2} -0.094X -8.90x10^{-16}$"
      ],
      "metadata": {
        "id": "YbPmqi6xYZuG"
      }
    },
    {
      "cell_type": "markdown",
      "source": [
        "The model estimates without StandardScaler:\n",
        "\n",
        "$\\hat{y} = -0.566X^{15} + 26X^{14}+ 10.47X^{13} - 352.87X^{12} + 58.88X^{11} + 50.28X^{10} + 121117.31X^{9} + 22128.17X^{8} + 42200.4X^{7} + 552048.61X^{6} + 29533.85X^{5} + 0.0264X^{4} + 109.16X^{3} + 4.0141.88X^{2} -37102.25X + 6093360.93532767$"
      ],
      "metadata": {
        "id": "qzwfHLEVTcUW"
      }
    },
    {
      "cell_type": "code",
      "source": [
        "from sklearn import metrics\n",
        "from sklearn.metrics import r2_score\n",
        "nombre_lineal, resultado_lineal = list(), list()\n",
        "nombre_lineal.append('MAE')\n",
        "print('Error medio Absoluto (MAE):', metrics.mean_absolute_error(y_train_scaled, y_pred))\n",
        "resultado_lineal.append(metrics.mean_absolute_error(y_train_scaled, y_pred))\n",
        "nombre_lineal.append('Root Mean Squared Error:')\n",
        "print('Root Mean Squared Error:', np.sqrt(metrics.mean_squared_error(y_train_scaled, y_pred)))\n",
        "resultado_lineal.append(np.sqrt(metrics.mean_squared_error(y_train_scaled, y_pred)))\n",
        "nombre_lineal.append('r2_score')\n",
        "print('r2_score',r2_score(y_train_scaled, y_pred))\n",
        "resultado_lineal.append(r2_score(y_train_scaled, y_pred))"
      ],
      "metadata": {
        "colab": {
          "base_uri": "https://localhost:8080/"
        },
        "id": "AMWtGvsVSr-E",
        "outputId": "101f045f-c32b-45d7-f7d4-575fb661098b"
      },
      "execution_count": 72,
      "outputs": [
        {
          "output_type": "stream",
          "name": "stdout",
          "text": [
            "Error medio Absoluto (MAE): 0.3828479982873243\n",
            "Root Mean Squared Error: 0.5909912674404065\n",
            "r2_score 0.6507293218091817\n"
          ]
        }
      ]
    },
    {
      "cell_type": "markdown",
      "source": [
        "En este ejemplo se aprecia que como no esta escalado los valores dan valores altos por ello se escalaran X_train y Y_train"
      ],
      "metadata": {
        "id": "s1ZdNiHiWaof"
      }
    },
    {
      "cell_type": "markdown",
      "source": [
        "Caso Polinomial \n",
        "Como en el database tenemos diferentes ecuaciones que interpreten su comportamiento en la solucion se especificara la ecuacion que mejor desempeño tenga por ejemplo:\n",
        "\n",
        "$y = X^2 + X + b + noise$"
      ],
      "metadata": {
        "id": "uQCaL76oZtKk"
      }
    },
    {
      "cell_type": "code",
      "source": [
        "#polinomial\n",
        "from sklearn.preprocessing import PolynomialFeatures\n",
        "\n",
        "poly_features = PolynomialFeatures(degree=3, include_bias=False)\n",
        "X_poly = poly_features.fit_transform(X_train_scaled)"
      ],
      "metadata": {
        "id": "kNRSknE8Z4Gs"
      },
      "execution_count": 73,
      "outputs": []
    },
    {
      "cell_type": "code",
      "source": [
        "#plt.plot(X_poly,y_train_scaled,'b--')"
      ],
      "metadata": {
        "id": "SBdXShloZ_eB"
      },
      "execution_count": 74,
      "outputs": []
    },
    {
      "cell_type": "markdown",
      "source": [
        "Fit the model to this extended training data:"
      ],
      "metadata": {
        "id": "lNWDVoPKaGKL"
      }
    },
    {
      "cell_type": "code",
      "source": [
        "lin_reg = LinearRegression()\n",
        "lin_reg.fit(X_poly,y_train_scaled)"
      ],
      "metadata": {
        "colab": {
          "base_uri": "https://localhost:8080/"
        },
        "id": "SeNk8vQDaHyc",
        "outputId": "45f9850f-be45-457a-e964-0202a2d135ee"
      },
      "execution_count": 75,
      "outputs": [
        {
          "output_type": "execute_result",
          "data": {
            "text/plain": [
              "LinearRegression()"
            ]
          },
          "metadata": {},
          "execution_count": 75
        }
      ]
    },
    {
      "cell_type": "markdown",
      "source": [
        "Plot the data and the predictions:"
      ],
      "metadata": {
        "id": "mE2gfUrZa_Gt"
      }
    },
    {
      "cell_type": "code",
      "source": [
        "X_new_poly = poly_features.transform(X_train_scaled)\n",
        "y_pred = lin_reg.predict(X_new_poly)\n",
        "plt.plot(X_train_scaled, y_train_scaled, \"b.\")\n",
        "plt.plot(X_train_scaled, y_pred, \"r-\", linewidth=2)#, label=\"Predictions\")\n",
        "plt.xlabel(\"$x_1$\", fontsize=18)\n",
        "plt.ylabel(\"$y$\", rotation=0, fontsize=18)\n",
        "plt.legend(loc=\"upper left\", fontsize=14)"
      ],
      "metadata": {
        "colab": {
          "base_uri": "https://localhost:8080/",
          "height": 322
        },
        "id": "HbDK93cmbBL0",
        "outputId": "6a8bcdb9-6766-470a-dfaf-3422071f2f98"
      },
      "execution_count": 76,
      "outputs": [
        {
          "output_type": "stream",
          "name": "stderr",
          "text": [
            "WARNING:matplotlib.legend:No handles with labels found to put in legend.\n"
          ]
        },
        {
          "output_type": "execute_result",
          "data": {
            "text/plain": [
              "<matplotlib.legend.Legend at 0x7f8e82e53290>"
            ]
          },
          "metadata": {},
          "execution_count": 76
        },
        {
          "output_type": "display_data",
          "data": {
            "text/plain": [
              "<Figure size 432x288 with 1 Axes>"
            ],
            "image/png": "[encoded data removed]"
          },
          "metadata": {
            "needs_background": "light"
          }
        }
      ]
    },
    {
      "cell_type": "code",
      "source": [
        "np.round(lin_reg.coef_,2), lin_reg.intercept_"
      ],
      "metadata": {
        "colab": {
          "base_uri": "https://localhost:8080/"
        },
        "id": "PcbcWQ65bR8M",
        "outputId": "39c4045e-df5e-4281-e43d-05114a4949d4"
      },
      "execution_count": 77,
      "outputs": [
        {
          "output_type": "execute_result",
          "data": {
            "text/plain": [
              "(array([[ 3.37241642e+08, -4.00000000e-01,  8.00000000e-02,\n",
              "          5.30000000e-01,  2.20000000e-01, -0.00000000e+00,\n",
              "          5.80000000e-01, -4.60000000e-01,  1.10000000e-01,\n",
              "         -1.80000000e-01,  4.90000000e-01, -6.10000000e-01,\n",
              "         -2.64700000e+01, -1.70000000e-01,  7.50000000e-01,\n",
              "         -1.00000000e-02,  1.00000000e-02,  1.00000000e-02,\n",
              "         -1.00000000e-02,  4.00000000e-02,  3.75748761e+09,\n",
              "          1.00000000e-02,  0.00000000e+00, -1.00000000e-02,\n",
              "          1.00000000e-02, -0.00000000e+00, -6.00000000e-02,\n",
              "          7.60000000e-01,  0.00000000e+00,  7.00000000e-02,\n",
              "         -1.00000000e-02,  2.00000000e-02, -4.00000000e-02,\n",
              "         -2.00000000e-02,  3.00000000e-02, -1.00000000e-02,\n",
              "          1.00000000e-02,  3.00000000e-02,  3.00000000e-02,\n",
              "         -1.00000000e-02,  2.00000000e-02, -2.08000000e+00,\n",
              "         -3.00000000e-02, -1.00000000e-02, -3.00000000e-02,\n",
              "          4.00000000e-02, -3.00000000e-02, -0.00000000e+00,\n",
              "         -2.00000000e-02,  1.00000000e-02,  7.00000000e-02,\n",
              "         -3.00000000e-02,  1.00000000e-02,  5.00000000e-02,\n",
              "         -8.00000000e-02,  4.00000000e-02, -6.00000000e-02,\n",
              "          1.00000000e-02, -3.00000000e-02, -5.00000000e-02,\n",
              "         -5.00000000e-02, -4.00000000e-02, -3.00000000e-02,\n",
              "          5.00000000e-02, -1.00000000e-02,  6.00000000e-02,\n",
              "          2.73000000e+00, -8.00000000e-02,  4.00000000e-02,\n",
              "          9.00000000e-02, -2.00000000e-02,  4.00000000e-02,\n",
              "          3.00000000e-02,  0.00000000e+00, -3.00000000e-02,\n",
              "         -0.00000000e+00,  2.00000000e-02,  6.80000000e-01,\n",
              "         -2.00000000e-02, -2.00000000e-02,  0.00000000e+00,\n",
              "         -6.00000000e-02,  4.00000000e-02, -1.00000000e-02,\n",
              "          2.00000000e-02, -4.00000000e-02,  6.00000000e-02,\n",
              "          2.36000000e+00,  2.00000000e-02, -7.00000000e-02,\n",
              "         -1.10000000e-01,  4.00000000e-02,  2.00000000e-02,\n",
              "         -2.00000000e-02,  0.00000000e+00,  4.00000000e-02,\n",
              "          1.94000000e+00,  0.00000000e+00,  6.00000000e-02,\n",
              "         -0.00000000e+00, -0.00000000e+00,  1.00000000e-02,\n",
              "          1.00000000e-02, -6.00000000e-02, -2.24000000e+00,\n",
              "          3.00000000e-02,  4.00000000e-02,  2.00000000e-02,\n",
              "          8.00000000e-02, -1.00000000e-02, -7.00000000e-02,\n",
              "         -7.90000000e-01, -2.00000000e-02, -1.20000000e-01,\n",
              "         -5.00000000e-02,  1.00000000e-02,  2.00000000e-02,\n",
              "         -1.06000000e+00,  5.00000000e-02, -2.00000000e-02,\n",
              "         -2.00000000e-02,  6.00000000e-02,  1.80000000e+00,\n",
              "         -2.00000000e-02, -8.00000000e-02,  1.30000000e-01,\n",
              "         -1.05000000e+00, -1.90000000e-01,  1.80000000e-01,\n",
              "          1.09200000e+01, -1.65000000e+00,  4.06000000e+00,\n",
              "          4.00000000e-02,  1.20000000e-01,  2.00000000e-02,\n",
              "          0.00000000e+00,  1.00000000e-02,  0.00000000e+00,\n",
              "          0.00000000e+00, -1.00000000e-02,  2.00000000e-02,\n",
              "          1.00000000e-02, -0.00000000e+00, -2.00000000e-02,\n",
              "         -0.00000000e+00,  1.00000000e-02,  1.00000000e-02,\n",
              "         -0.00000000e+00,  1.00000000e-02, -1.00000000e-02,\n",
              "         -1.00000000e-02,  1.00000000e-02, -4.00000000e-02,\n",
              "         -0.00000000e+00, -3.00000000e-02,  1.00000000e-02,\n",
              "         -2.00000000e-02,  4.00000000e-02,  1.00000000e-02,\n",
              "          1.00000000e-02,  1.00000000e-02,  1.00000000e-02,\n",
              "         -4.00000000e-02,  5.00000000e-02, -0.00000000e+00,\n",
              "          0.00000000e+00, -0.00000000e+00,  2.00000000e-02,\n",
              "         -0.00000000e+00,  0.00000000e+00, -0.00000000e+00,\n",
              "          1.00000000e-02, -3.00000000e-02, -2.00000000e-02,\n",
              "         -1.00000000e-02, -3.00000000e-02, -2.00000000e-02,\n",
              "         -0.00000000e+00,  2.00000000e-02, -1.90000000e-01,\n",
              "         -2.00000000e-02, -2.00000000e-02,  3.00000000e-02,\n",
              "         -1.00000000e-02,  3.00000000e-02,  3.00000000e-02,\n",
              "         -0.00000000e+00, -2.00000000e-02,  0.00000000e+00,\n",
              "         -2.00000000e-02,  3.00000000e-02,  0.00000000e+00,\n",
              "         -0.00000000e+00,  0.00000000e+00, -0.00000000e+00,\n",
              "          0.00000000e+00,  2.00000000e-02,  3.00000000e-02,\n",
              "         -1.00000000e-02,  0.00000000e+00, -3.37241642e+08,\n",
              "          1.30000000e-01, -0.00000000e+00, -4.00000000e-02,\n",
              "          3.00000000e-02, -2.00000000e-02,  5.00000000e-02,\n",
              "          2.00000000e-02, -3.00000000e-02,  1.70000000e-01,\n",
              "         -0.00000000e+00,  0.00000000e+00,  2.00000000e-02,\n",
              "         -0.00000000e+00,  0.00000000e+00,  1.00000000e-02,\n",
              "          0.00000000e+00, -4.00000000e-02,  2.00000000e-02,\n",
              "         -0.00000000e+00,  2.00000000e-02,  1.00000000e-02,\n",
              "         -1.00000000e-02, -1.00000000e-02, -0.00000000e+00,\n",
              "         -0.00000000e+00,  1.00000000e-02, -1.00000000e-02,\n",
              "         -0.00000000e+00,  1.00000000e-02, -2.00000000e-02,\n",
              "         -0.00000000e+00,  1.00000000e-02, -4.00000000e-02,\n",
              "          3.00000000e-02, -3.00000000e-02, -2.00000000e-02,\n",
              "         -2.00000000e-02, -3.00000000e-02, -1.00000000e-02,\n",
              "          0.00000000e+00, -0.00000000e+00,  1.00000000e-02,\n",
              "         -0.00000000e+00, -1.00000000e-02, -3.00000000e-02,\n",
              "          2.00000000e-02,  2.00000000e-02, -2.00000000e-02,\n",
              "         -1.70000000e-01, -1.00000000e-02, -1.00000000e-02,\n",
              "          6.00000000e-02,  3.00000000e-02, -1.00000000e-02,\n",
              "         -0.00000000e+00, -1.00000000e-02,  4.00000000e-02,\n",
              "          0.00000000e+00,  1.00000000e-02, -2.00000000e-02,\n",
              "          1.00000000e-02,  0.00000000e+00,  1.00000000e-02,\n",
              "         -2.00000000e-02, -1.00000000e-02,  1.00000000e-02,\n",
              "          2.00000000e-02, -3.00000000e-02, -1.00000000e-02,\n",
              "          3.00000000e-02,  2.00000000e-02, -1.00000000e-02,\n",
              "          2.00000000e-02, -0.00000000e+00,  1.00000000e-02,\n",
              "         -2.00000000e-02,  1.00000000e-02,  0.00000000e+00,\n",
              "         -1.00000000e-02,  1.00000000e-02, -3.00000000e-02,\n",
              "         -0.00000000e+00, -1.00000000e-02,  2.70000000e-01,\n",
              "          3.00000000e-02,  3.00000000e-02, -8.00000000e-02,\n",
              "          2.00000000e-02,  2.00000000e-02, -1.00000000e-02,\n",
              "          3.00000000e-02,  1.00000000e-02,  2.00000000e-02,\n",
              "         -0.00000000e+00, -7.00000000e-02,  0.00000000e+00,\n",
              "         -2.00000000e-02,  0.00000000e+00,  0.00000000e+00,\n",
              "          4.00000000e-02, -1.00000000e-02, -2.00000000e-02,\n",
              "         -1.00000000e-02,  1.00000000e-02, -3.00000000e-02,\n",
              "          4.00000000e-02,  0.00000000e+00,  6.00000000e-02,\n",
              "         -1.00000000e-02, -0.00000000e+00, -1.00000000e-02,\n",
              "          2.00000000e-02,  2.00000000e-02, -1.50000000e-01,\n",
              "          1.00000000e-02, -1.00000000e-02, -3.00000000e-02,\n",
              "          3.00000000e-02, -1.00000000e-02,  1.00000000e-02,\n",
              "          1.00000000e-02,  3.00000000e-02, -1.00000000e-02,\n",
              "         -0.00000000e+00, -2.00000000e-02, -0.00000000e+00,\n",
              "          0.00000000e+00,  2.00000000e-02,  2.00000000e-02,\n",
              "          0.00000000e+00, -5.00000000e-02, -1.00000000e-02,\n",
              "          3.00000000e-02, -4.00000000e-02,  3.00000000e-02,\n",
              "         -1.00000000e-02, -1.00000000e-02,  7.00000000e-02,\n",
              "         -2.00000000e-02, -0.00000000e+00, -0.00000000e+00,\n",
              "         -1.00000000e-02, -0.00000000e+00, -2.00000000e-02,\n",
              "          3.00000000e-02,  1.00000000e-02, -1.00000000e-02,\n",
              "          3.00000000e-02, -3.00000000e-02,  2.00000000e-02,\n",
              "          1.00000000e-02, -3.00000000e-02, -1.00000000e-02,\n",
              "          4.60000000e-01, -1.00000000e-02, -1.00000000e-02,\n",
              "         -1.00000000e-02, -0.00000000e+00, -0.00000000e+00,\n",
              "          1.00000000e-02, -2.00000000e-02,  0.00000000e+00,\n",
              "         -1.00000000e-02, -2.00000000e-02,  0.00000000e+00,\n",
              "         -2.00000000e-02,  1.00000000e-02,  0.00000000e+00,\n",
              "          1.00000000e-02,  1.00000000e-02,  3.00000000e-02,\n",
              "          2.00000000e-02,  0.00000000e+00, -1.00000000e-02,\n",
              "          1.10000000e-01,  1.00000000e-02,  3.00000000e-02,\n",
              "         -0.00000000e+00, -1.00000000e-02, -2.00000000e-02,\n",
              "          2.00000000e-02, -2.00000000e-02, -1.00000000e-02,\n",
              "         -1.00000000e-02, -1.00000000e-02,  1.00000000e-02,\n",
              "          1.00000000e-02,  1.00000000e-02, -1.00000000e-02,\n",
              "          1.00000000e-02, -2.00000000e-02, -2.00000000e-02,\n",
              "         -1.00000000e-02, -4.00000000e-02,  1.00000000e-02,\n",
              "          3.00000000e-02, -4.00000000e-02,  2.00000000e-02,\n",
              "         -1.00000000e-02, -2.00000000e-02,  2.00000000e-02,\n",
              "          2.00000000e-02, -1.00000000e-02, -0.00000000e+00,\n",
              "         -7.00000000e-02,  0.00000000e+00,  2.00000000e-02,\n",
              "         -1.00000000e-02, -1.00000000e-02, -1.00000000e-02,\n",
              "         -0.00000000e+00, -1.00000000e-02,  3.00000000e-02,\n",
              "         -1.00000000e-02,  1.00000000e-02,  1.00000000e-02,\n",
              "         -0.00000000e+00,  1.00000000e-02,  0.00000000e+00,\n",
              "          1.00000000e-02, -1.00000000e-02, -2.00000000e-02,\n",
              "          3.00000000e-02, -2.00000000e-02, -0.00000000e+00,\n",
              "          1.00000000e-02, -1.00000000e-02,  1.00000000e-02,\n",
              "         -1.00000000e-02,  0.00000000e+00,  1.00000000e-02,\n",
              "          2.00000000e-02,  1.00000000e-02,  3.00000000e-02,\n",
              "          2.00000000e-02, -2.00000000e-02, -2.00000000e-02,\n",
              "          1.00000000e-02,  0.00000000e+00,  1.00000000e-02,\n",
              "          4.00000000e-02, -1.00000000e-02, -3.00000000e-02,\n",
              "         -1.00000000e-02,  2.00000000e-02,  1.00000000e-02,\n",
              "          1.00000000e-02, -5.00000000e-02, -1.00000000e-02,\n",
              "          1.00000000e-02, -0.00000000e+00,  1.00000000e-02,\n",
              "         -1.00000000e-02,  0.00000000e+00,  0.00000000e+00,\n",
              "          0.00000000e+00, -0.00000000e+00,  0.00000000e+00,\n",
              "         -1.00000000e-02,  2.00000000e-02,  0.00000000e+00,\n",
              "         -0.00000000e+00, -5.00000000e-02,  3.00000000e-02,\n",
              "         -2.00000000e-02, -2.00000000e-02,  4.00000000e-02,\n",
              "          1.00000000e-02, -2.00000000e-02, -4.00000000e-02,\n",
              "         -4.00000000e-02,  5.00000000e-02, -0.00000000e+00,\n",
              "          2.00000000e-02, -9.00000000e-02, -2.50000000e-01,\n",
              "         -8.00000000e-02,  1.30000000e-01, -1.00000000e-02,\n",
              "         -2.50000000e-01, -8.00000000e-02, -1.10000000e-01,\n",
              "          9.00000000e-02, -0.00000000e+00, -1.00000000e-02,\n",
              "          0.00000000e+00, -0.00000000e+00,  1.00000000e-02,\n",
              "          0.00000000e+00,  2.00000000e-02, -1.00000000e-02,\n",
              "         -0.00000000e+00,  1.00000000e-02, -8.00000000e-02,\n",
              "          3.00000000e-02, -0.00000000e+00,  5.00000000e-02,\n",
              "         -3.00000000e-02, -1.00000000e-02, -0.00000000e+00,\n",
              "          2.00000000e-02, -1.00000000e-02,  2.00000000e-02,\n",
              "         -8.00000000e-02, -2.00000000e-02,  0.00000000e+00,\n",
              "          1.00000000e-02, -0.00000000e+00, -2.00000000e-02,\n",
              "          2.00000000e-02, -1.00000000e-02, -1.00000000e-02,\n",
              "         -1.00000000e-02, -0.00000000e+00,  1.00000000e-02,\n",
              "         -3.00000000e-02, -1.00000000e-02,  0.00000000e+00,\n",
              "          1.00000000e-01,  4.00000000e-02, -1.00000000e-01,\n",
              "         -1.00000000e-02, -6.20000000e-01, -3.00000000e-02,\n",
              "         -2.00000000e-02,  4.00000000e-02,  1.00000000e-02,\n",
              "         -0.00000000e+00, -3.00000000e-02,  0.00000000e+00,\n",
              "          1.00000000e-02,  3.00000000e-02, -2.00000000e-02,\n",
              "          2.00000000e-02, -5.00000000e-02,  4.00000000e-02,\n",
              "          1.00000000e-02,  5.00000000e-02, -2.00000000e-02,\n",
              "         -1.00000000e-02,  4.00000000e-02, -1.00000000e-02,\n",
              "         -5.00000000e-02,  0.00000000e+00,  1.00000000e-02,\n",
              "          5.00000000e-02,  0.00000000e+00,  0.00000000e+00,\n",
              "         -2.00000000e-02, -1.00000000e-02,  1.00000000e-02,\n",
              "          2.00000000e-02,  1.00000000e-02,  0.00000000e+00,\n",
              "         -2.00000000e-02,  0.00000000e+00, -1.00000000e-02,\n",
              "          2.00000000e-02, -1.00000000e-02,  2.00000000e-02,\n",
              "          2.00000000e-02, -1.00000000e-02,  0.00000000e+00,\n",
              "         -3.00000000e-02,  0.00000000e+00,  1.00000000e-02,\n",
              "         -0.00000000e+00, -3.00000000e-02,  4.00000000e-02,\n",
              "          5.00000000e-02,  2.00000000e-02, -0.00000000e+00,\n",
              "         -2.00000000e-02,  3.00000000e-02, -2.00000000e-02,\n",
              "         -3.00000000e-02, -2.00000000e-02, -3.00000000e-02,\n",
              "          1.00000000e-02,  0.00000000e+00,  0.00000000e+00,\n",
              "          0.00000000e+00, -2.00000000e-02,  0.00000000e+00,\n",
              "         -4.00000000e-02, -1.00000000e-02,  5.00000000e-02,\n",
              "          4.00000000e-02, -1.60000000e-01, -2.00000000e-02,\n",
              "          7.00000000e-02,  0.00000000e+00, -2.00000000e-02,\n",
              "          0.00000000e+00,  1.00000000e-02, -7.00000000e-02,\n",
              "         -0.00000000e+00, -5.00000000e-02,  3.00000000e-02,\n",
              "          0.00000000e+00,  2.00000000e-02, -1.90000000e-01,\n",
              "          6.00000000e-02, -6.00000000e-02,  1.10000000e-01,\n",
              "          1.00000000e-02,  1.10000000e-01, -5.00000000e-02,\n",
              "          1.00000000e-02, -4.00000000e-02,  1.00000000e-02,\n",
              "         -1.60000000e-01,  1.90000000e-01, -4.00000000e-02,\n",
              "         -2.00000000e-02,  3.00000000e-02, -1.00000000e-02,\n",
              "         -3.00000000e-02, -1.00000000e-02,  1.00000000e-02,\n",
              "          1.90000000e-01, -1.00000000e-02,  0.00000000e+00,\n",
              "         -2.00000000e-02, -1.00000000e-02, -0.00000000e+00,\n",
              "          4.00000000e-02,  1.00000000e-01, -3.00000000e-02,\n",
              "          1.00000000e-02,  4.00000000e-02, -0.00000000e+00,\n",
              "          2.00000000e-02, -8.00000000e-02,  1.00000000e-02,\n",
              "         -3.00000000e-02, -2.00000000e-02, -4.00000000e-02,\n",
              "          2.00000000e-02, -1.00000000e-02, -2.00000000e-02,\n",
              "         -5.00000000e-02,  1.50000000e-01, -7.00000000e-02,\n",
              "         -1.00000000e-02,  7.00000000e-02,  1.00000000e-02,\n",
              "          0.00000000e+00,  0.00000000e+00,  2.00000000e-02,\n",
              "         -1.00000000e-02, -0.00000000e+00,  0.00000000e+00,\n",
              "          0.00000000e+00, -1.00000000e-02, -1.00000000e-02,\n",
              "         -1.00000000e-02, -0.00000000e+00, -1.00000000e-02,\n",
              "         -0.00000000e+00,  2.00000000e-02,  1.00000000e-02,\n",
              "          2.00000000e-02, -0.00000000e+00, -2.00000000e-02,\n",
              "          0.00000000e+00,  4.00000000e-02, -1.00000000e-02,\n",
              "         -0.00000000e+00,  0.00000000e+00,  0.00000000e+00,\n",
              "         -3.00000000e-02,  0.00000000e+00, -1.00000000e-02,\n",
              "         -1.00000000e-02, -1.00000000e-02, -2.00000000e-02,\n",
              "          2.00000000e-02,  0.00000000e+00, -0.00000000e+00,\n",
              "          1.00000000e-02,  1.00000000e-02,  3.00000000e-02,\n",
              "         -2.00000000e-02,  2.00000000e-02,  3.00000000e-02,\n",
              "          1.00000000e-02, -2.00000000e-02, -4.20000000e-01,\n",
              "         -0.00000000e+00, -3.00000000e-02, -2.00000000e-02,\n",
              "          0.00000000e+00, -0.00000000e+00, -0.00000000e+00,\n",
              "         -0.00000000e+00,  1.00000000e-02, -0.00000000e+00,\n",
              "          1.00000000e-02, -2.00000000e-02,  0.00000000e+00,\n",
              "         -1.00000000e-02, -1.00000000e-02,  0.00000000e+00,\n",
              "          2.00000000e-02,  0.00000000e+00, -2.00000000e-02,\n",
              "         -0.00000000e+00,  7.00000000e-02, -1.00000000e-02,\n",
              "          1.00000000e-02,  0.00000000e+00,  1.00000000e-02,\n",
              "         -1.00000000e-02, -2.00000000e-02,  0.00000000e+00,\n",
              "         -0.00000000e+00, -1.00000000e-02, -1.00000000e-02,\n",
              "          0.00000000e+00, -3.00000000e-02, -4.00000000e-02,\n",
              "         -1.00000000e-02, -2.00000000e-02,  4.90000000e-01,\n",
              "          3.00000000e-02,  1.00000000e-02,  3.00000000e-02,\n",
              "         -1.00000000e-02, -0.00000000e+00, -0.00000000e+00,\n",
              "          3.00000000e-02,  1.00000000e-02,  1.00000000e-02,\n",
              "         -1.00000000e-02, -2.00000000e-02, -2.00000000e-02,\n",
              "         -1.00000000e-02, -2.00000000e-02, -1.00000000e-02,\n",
              "         -1.00000000e-02,  1.00000000e-02, -0.00000000e+00,\n",
              "          2.00000000e-02,  3.00000000e-02,  1.00000000e-02,\n",
              "          1.00000000e-02, -2.00000000e-02,  0.00000000e+00,\n",
              "          1.00000000e-02, -5.00000000e-02,  5.00000000e-02,\n",
              "          1.80000000e-01,  4.00000000e-02, -2.00000000e-02,\n",
              "         -1.00000000e-02,  4.00000000e-02,  1.00000000e-02,\n",
              "         -1.00000000e-02,  2.00000000e-02,  4.00000000e-02,\n",
              "          1.00000000e-02,  3.00000000e-02,  2.00000000e-02,\n",
              "         -2.00000000e-02, -3.00000000e-02,  0.00000000e+00,\n",
              "          1.00000000e-02,  1.00000000e-02,  4.00000000e-02,\n",
              "         -1.00000000e-02, -4.00000000e-02, -3.00000000e-02,\n",
              "          2.40000000e-01,  2.00000000e-02, -1.00000000e-02,\n",
              "         -5.00000000e-02, -2.00000000e-02,  0.00000000e+00,\n",
              "          0.00000000e+00,  1.00000000e-02,  0.00000000e+00,\n",
              "         -2.00000000e-02,  1.00000000e-02,  1.00000000e-02,\n",
              "         -1.00000000e-02,  0.00000000e+00,  3.00000000e-02,\n",
              "         -4.00000000e-01, -2.00000000e-02,  5.00000000e-02,\n",
              "         -2.00000000e-02,  3.00000000e-02,  1.00000000e-02,\n",
              "          6.00000000e-02, -1.00000000e-02, -4.00000000e-02,\n",
              "         -6.00000000e-02,  2.30000000e-01, -0.00000000e+00,\n",
              "          1.00000000e-02,  4.00000000e-02,  7.00000000e-02,\n",
              "         -1.00000000e-02, -1.06000000e+00,  3.70000000e-01,\n",
              "         -8.90000000e-01,  1.00000000e-02, -1.00000000e-02,\n",
              "          1.00000000e-02,  3.00000000e-02, -2.00000000e-02,\n",
              "         -2.00000000e-02, -0.00000000e+00]]), array([-6.35223922]))"
            ]
          },
          "metadata": {},
          "execution_count": 77
        }
      ]
    },
    {
      "cell_type": "code",
      "source": [
        "lin_reg.coef_.shape"
      ],
      "metadata": {
        "colab": {
          "base_uri": "https://localhost:8080/"
        },
        "id": "lpK6OnubdUnp",
        "outputId": "3b7af088-8c3e-4896-9726-4de532e008ba"
      },
      "execution_count": 78,
      "outputs": [
        {
          "output_type": "execute_result",
          "data": {
            "text/plain": [
              "(1, 815)"
            ]
          },
          "metadata": {},
          "execution_count": 78
        }
      ]
    },
    {
      "cell_type": "markdown",
      "source": [
        "The model estimates:\n",
        "\n",
        "$\\hat{y} = -0.02X^{814} -0.02X^{813} + -0.03X^{812}, ... , + 0.08X^3 -  0.4X^2 + 3.37x10^8X - 6.35$"
      ],
      "metadata": {
        "id": "BBHXDiRFboja"
      }
    },
    {
      "cell_type": "code",
      "source": [
        "from sklearn import metrics\n",
        "from sklearn.metrics import r2_score\n",
        "\n",
        "nombre_polinomial, resultado_polinomial = list(), list()\n",
        "nombre_polinomial.append('MAE')\n",
        "print('Error medio Absoluto (MAE):', metrics.mean_absolute_error(y_train_scaled, y_pred))\n",
        "resultado_polinomial.append(metrics.mean_absolute_error(y_train_scaled, y_pred))\n",
        "nombre_polinomial.append('Root Mean Squared Error:')\n",
        "print('Root Mean Squared Error:', np.sqrt(metrics.mean_squared_error(y_train_scaled, y_pred)))\n",
        "resultado_polinomial.append(np.sqrt(metrics.mean_squared_error(y_train_scaled, y_pred)))\n",
        "nombre_polinomial.append('r2_score')\n",
        "print('r2_score',r2_score(y_train_scaled, y_pred))\n",
        "resultado_polinomial.append(r2_score(y_train_scaled, y_pred))"
      ],
      "metadata": {
        "colab": {
          "base_uri": "https://localhost:8080/"
        },
        "id": "phpYvrrHbrm8",
        "outputId": "0ab2c723-47e6-47c8-d3c3-9dff4708dcd9"
      },
      "execution_count": 79,
      "outputs": [
        {
          "output_type": "stream",
          "name": "stdout",
          "text": [
            "Error medio Absoluto (MAE): 0.3113581952596882\n",
            "Root Mean Squared Error: 0.44679311151851003\n",
            "r2_score 0.8003759154996082\n"
          ]
        }
      ]
    },
    {
      "cell_type": "markdown",
      "source": [
        "### Ridge Regression or L<sub>2</sub> Regularization"
      ],
      "metadata": {
        "id": "fJzLXJKGeloN"
      }
    },
    {
      "cell_type": "markdown",
      "source": [
        "It is important to **scale** the data before performing Ridge Regression:"
      ],
      "metadata": {
        "id": "A95sKXJAepfJ"
      }
    },
    {
      "cell_type": "code",
      "source": [
        "from sklearn.linear_model import Ridge\n",
        "\n",
        "model_ridge = Pipeline([(\"poly_features\", PolynomialFeatures(degree=3, include_bias=False)),\n",
        "                  #(\"scaler\", StandardScaler()),\n",
        "                  (\"ridge\", Ridge(alpha = 0.0001, solver = 'cholesky', random_state = 42))])\n",
        "model_ridge.fit(X_train_scaled, y_train_scaled)"
      ],
      "metadata": {
        "colab": {
          "base_uri": "https://localhost:8080/"
        },
        "id": "zBuuj1q-er_Q",
        "outputId": "01f02558-37dc-47d9-803f-ccc51cc380b9"
      },
      "execution_count": 80,
      "outputs": [
        {
          "output_type": "execute_result",
          "data": {
            "text/plain": [
              "Pipeline(steps=[('poly_features',\n",
              "                 PolynomialFeatures(degree=3, include_bias=False)),\n",
              "                ('ridge',\n",
              "                 Ridge(alpha=0.0001, random_state=42, solver='cholesky'))])"
            ]
          },
          "metadata": {},
          "execution_count": 80
        }
      ]
    },
    {
      "cell_type": "code",
      "source": [
        "y_pred = model_ridge.predict(X_train_scaled)"
      ],
      "metadata": {
        "id": "lSHiWL3xe7un"
      },
      "execution_count": 81,
      "outputs": []
    },
    {
      "cell_type": "code",
      "source": [
        "plt.plot(X_train_scaled, y_train_scaled, \"b.\")\n",
        "plt.plot(X_train_scaled, y_pred, \"r-\", linewidth=2)#, label=\"Predictions w/o Regularization\")\n",
        "plt.xlabel(\"$X$\", fontsize=18)\n",
        "plt.ylabel(\"$y$\", rotation=0, fontsize=18)\n",
        "plt.legend(loc=\"upper right\", fontsize=10);"
      ],
      "metadata": {
        "colab": {
          "base_uri": "https://localhost:8080/",
          "height": 304
        },
        "id": "Tm8rR9V1e-Td",
        "outputId": "486a368e-3c8b-458b-8830-117534e7a701"
      },
      "execution_count": 82,
      "outputs": [
        {
          "output_type": "stream",
          "name": "stderr",
          "text": [
            "WARNING:matplotlib.legend:No handles with labels found to put in legend.\n"
          ]
        },
        {
          "output_type": "display_data",
          "data": {
            "text/plain": [
              "<Figure size 432x288 with 1 Axes>"
            ],
            "image/png": "[encoded data removed]"
          },
          "metadata": {
            "needs_background": "light"
          }
        }
      ]
    },
    {
      "cell_type": "markdown",
      "source": [
        "Obtener ecuacion"
      ],
      "metadata": {
        "id": "7WobAG45fAh0"
      }
    },
    {
      "cell_type": "code",
      "source": [
        "np.round(model_ridge[\"ridge\"].coef_,2), model_ridge[\"ridge\"].intercept_\n"
      ],
      "metadata": {
        "colab": {
          "base_uri": "https://localhost:8080/"
        },
        "id": "Cs9wI3DrfCrv",
        "outputId": "b6fafa46-b1fd-4655-9eb2-7d7555e92d99"
      },
      "execution_count": 83,
      "outputs": [
        {
          "output_type": "execute_result",
          "data": {
            "text/plain": [
              "(array([[ 0.17, -0.39,  0.07,  0.52,  0.23,  0.  ,  0.58, -0.48,  0.13,\n",
              "         -0.19,  0.49, -0.59, -9.48, -0.17,  0.76, -0.01,  0.01,  0.01,\n",
              "         -0.01,  0.04, -0.02,  0.01,  0.  , -0.01,  0.01, -0.  , -0.06,\n",
              "          0.78,  0.  ,  0.07, -0.01,  0.02, -0.04, -0.02,  0.03, -0.01,\n",
              "          0.01,  0.03,  0.03, -0.01,  0.02, -2.03, -0.03, -0.01, -0.03,\n",
              "          0.04, -0.03, -0.  , -0.02,  0.01,  0.07, -0.03,  0.01,  0.05,\n",
              "         -0.12,  0.04, -0.06,  0.01, -0.03, -0.04, -0.05, -0.04, -0.03,\n",
              "          0.05, -0.01,  0.06,  2.67, -0.08,  0.04,  0.09, -0.02,  0.04,\n",
              "          0.03,  0.  , -0.03, -0.  ,  0.02,  0.73, -0.02, -0.02,  0.  ,\n",
              "         -0.06,  0.04, -0.02,  0.02, -0.04,  0.05,  0.85,  0.02, -0.07,\n",
              "         -0.11,  0.04,  0.02, -0.02,  0.  ,  0.04,  1.93,  0.  ,  0.06,\n",
              "         -0.  , -0.  ,  0.01,  0.01, -0.06, -2.35,  0.03,  0.04,  0.02,\n",
              "          0.08, -0.01, -0.07, -0.69, -0.02, -0.12, -0.05,  0.01,  0.02,\n",
              "         -1.11,  0.05, -0.02, -0.02,  0.06,  1.82, -0.02, -0.08,  0.13,\n",
              "         -0.93, -0.19,  0.18,  3.14, -1.66,  4.1 ,  0.04,  0.12,  0.02,\n",
              "          0.  ,  0.01,  0.  ,  0.  , -0.01,  0.02,  0.01, -0.  , -0.02,\n",
              "         -0.  ,  0.01,  0.01, -0.  ,  0.01, -0.01, -0.01,  0.01, -0.04,\n",
              "         -0.  , -0.03,  0.01, -0.02,  0.04,  0.01,  0.01,  0.01,  0.01,\n",
              "         -0.04,  0.05, -0.  ,  0.  , -0.  ,  0.02, -0.  ,  0.  , -0.  ,\n",
              "          0.01, -0.03, -0.02, -0.01, -0.03, -0.02, -0.  ,  0.02, -0.19,\n",
              "         -0.02, -0.02,  0.03, -0.01,  0.03,  0.03, -0.  , -0.02,  0.  ,\n",
              "         -0.02,  0.03,  0.  , -0.  ,  0.  , -0.  ,  0.  ,  0.02,  0.03,\n",
              "         -0.01,  0.  , -0.05,  0.13, -0.  , -0.04,  0.03, -0.02,  0.05,\n",
              "          0.02, -0.03,  0.17, -0.  ,  0.  ,  0.02, -0.  ,  0.  ,  0.01,\n",
              "          0.  , -0.04,  0.02, -0.  ,  0.02,  0.01, -0.01, -0.01, -0.  ,\n",
              "         -0.  ,  0.01, -0.01, -0.  ,  0.01, -0.02, -0.  ,  0.01, -0.04,\n",
              "          0.03, -0.03, -0.02, -0.02, -0.03, -0.01,  0.  , -0.  ,  0.01,\n",
              "         -0.  , -0.01, -0.03,  0.02,  0.02, -0.02, -0.17, -0.01, -0.01,\n",
              "          0.06,  0.03, -0.01, -0.  , -0.01,  0.04,  0.  ,  0.01, -0.02,\n",
              "          0.01,  0.  ,  0.01, -0.02, -0.01,  0.01,  0.02, -0.03, -0.01,\n",
              "          0.03,  0.02, -0.01,  0.02, -0.  ,  0.01, -0.02,  0.01,  0.  ,\n",
              "         -0.01,  0.01, -0.03, -0.  , -0.01,  0.27,  0.03,  0.03, -0.08,\n",
              "          0.02,  0.02, -0.01,  0.03,  0.01,  0.02, -0.  , -0.07,  0.  ,\n",
              "         -0.02,  0.  ,  0.  ,  0.04, -0.01, -0.02, -0.01,  0.01, -0.03,\n",
              "          0.04,  0.  ,  0.06, -0.01, -0.  , -0.01,  0.02,  0.02, -0.15,\n",
              "          0.01, -0.01, -0.03,  0.03, -0.01,  0.01,  0.01,  0.03, -0.01,\n",
              "         -0.  , -0.02, -0.  ,  0.  ,  0.02,  0.02,  0.  , -0.05, -0.01,\n",
              "          0.03, -0.04,  0.03, -0.01, -0.01,  0.07, -0.02, -0.  , -0.  ,\n",
              "         -0.01, -0.  , -0.02,  0.03,  0.01, -0.01,  0.03, -0.03,  0.02,\n",
              "          0.01, -0.03, -0.01,  0.45, -0.01, -0.01, -0.01, -0.  , -0.  ,\n",
              "          0.01, -0.02,  0.  , -0.01, -0.02,  0.  , -0.02,  0.01,  0.  ,\n",
              "          0.01,  0.01,  0.03,  0.02,  0.  , -0.01,  0.11,  0.01,  0.03,\n",
              "         -0.  , -0.01, -0.02,  0.02, -0.02, -0.01, -0.01, -0.01,  0.01,\n",
              "          0.01,  0.01, -0.01,  0.01, -0.02, -0.02, -0.01, -0.04,  0.01,\n",
              "          0.03, -0.04,  0.02, -0.01, -0.02,  0.02,  0.02, -0.01, -0.  ,\n",
              "         -0.07,  0.  ,  0.02, -0.01, -0.01, -0.01, -0.  , -0.01,  0.03,\n",
              "         -0.01,  0.01,  0.01, -0.  ,  0.01,  0.  ,  0.01, -0.01, -0.02,\n",
              "          0.03, -0.02, -0.  ,  0.01, -0.01,  0.01, -0.01,  0.  ,  0.01,\n",
              "          0.02,  0.01,  0.03,  0.02, -0.02, -0.02,  0.01,  0.  ,  0.01,\n",
              "          0.04, -0.01, -0.03, -0.01,  0.03,  0.01,  0.01, -0.05, -0.01,\n",
              "          0.01, -0.  ,  0.01, -0.01,  0.  ,  0.  ,  0.  , -0.  ,  0.  ,\n",
              "         -0.01,  0.02,  0.  , -0.  , -0.05,  0.03, -0.02, -0.02,  0.04,\n",
              "          0.01, -0.02, -0.04, -0.04,  0.05, -0.  ,  0.02, -0.09, -0.25,\n",
              "         -0.08,  0.13, -0.01, -0.25, -0.08, -0.11,  0.09, -0.  , -0.  ,\n",
              "          0.  , -0.  ,  0.01,  0.  ,  0.02, -0.01, -0.  ,  0.01, -0.08,\n",
              "          0.03, -0.  ,  0.05, -0.03, -0.01, -0.  ,  0.02, -0.01,  0.02,\n",
              "         -0.08, -0.02,  0.  ,  0.01, -0.  , -0.02,  0.02, -0.01, -0.01,\n",
              "         -0.01, -0.  ,  0.01, -0.03, -0.01,  0.  ,  0.1 ,  0.04, -0.1 ,\n",
              "         -0.01, -0.6 , -0.03, -0.02,  0.04,  0.01, -0.  , -0.03,  0.  ,\n",
              "          0.01,  0.03, -0.02,  0.02, -0.05,  0.04,  0.01,  0.05, -0.02,\n",
              "         -0.01,  0.04, -0.01, -0.05,  0.  ,  0.01,  0.05,  0.  ,  0.  ,\n",
              "         -0.02, -0.01,  0.01,  0.02,  0.01,  0.  , -0.02,  0.  , -0.01,\n",
              "          0.02, -0.01,  0.02,  0.02, -0.01,  0.  , -0.03,  0.  ,  0.01,\n",
              "         -0.  , -0.03,  0.04,  0.05,  0.02, -0.  , -0.02,  0.03, -0.02,\n",
              "         -0.03, -0.02, -0.03,  0.01,  0.  ,  0.  ,  0.  , -0.02,  0.  ,\n",
              "         -0.04, -0.01,  0.05,  0.05, -0.17, -0.02,  0.07,  0.  , -0.02,\n",
              "          0.  ,  0.01, -0.07, -0.  , -0.05,  0.03,  0.  ,  0.02, -0.05,\n",
              "          0.06, -0.06,  0.11,  0.01,  0.11, -0.05,  0.01, -0.04,  0.01,\n",
              "         -0.16,  0.19, -0.04, -0.02,  0.03, -0.01, -0.03, -0.01,  0.01,\n",
              "          0.19, -0.01,  0.  , -0.02, -0.01, -0.  ,  0.04,  0.1 , -0.03,\n",
              "          0.01,  0.04, -0.  ,  0.02, -0.08,  0.01, -0.03, -0.02, -0.04,\n",
              "          0.02, -0.01, -0.02, -0.05,  0.15, -0.06, -0.01,  0.07,  0.01,\n",
              "          0.  ,  0.  ,  0.02, -0.01, -0.  ,  0.  ,  0.  , -0.01, -0.01,\n",
              "         -0.01, -0.  , -0.01, -0.  ,  0.02,  0.01,  0.02, -0.  , -0.02,\n",
              "          0.  ,  0.04, -0.01, -0.  ,  0.  ,  0.  , -0.03,  0.  , -0.01,\n",
              "         -0.01, -0.01, -0.02,  0.02,  0.  , -0.  ,  0.01,  0.01,  0.03,\n",
              "         -0.02,  0.02,  0.03,  0.01, -0.02, -0.42, -0.  , -0.03, -0.02,\n",
              "          0.  , -0.  , -0.  , -0.  ,  0.01, -0.  ,  0.01, -0.02,  0.  ,\n",
              "         -0.01, -0.01,  0.  ,  0.02,  0.  , -0.03, -0.  ,  0.07, -0.01,\n",
              "          0.01,  0.  ,  0.01, -0.01, -0.02,  0.  , -0.  , -0.01, -0.01,\n",
              "          0.  , -0.03, -0.04, -0.01, -0.02,  0.52,  0.03,  0.01,  0.03,\n",
              "         -0.01, -0.  , -0.  ,  0.03,  0.01,  0.01, -0.01, -0.02, -0.02,\n",
              "         -0.02, -0.02, -0.01, -0.01,  0.01, -0.  ,  0.02,  0.03,  0.01,\n",
              "          0.01, -0.02,  0.  ,  0.01, -0.05,  0.05,  0.16,  0.04, -0.02,\n",
              "         -0.01,  0.04,  0.01, -0.01,  0.02,  0.04,  0.01,  0.03,  0.02,\n",
              "         -0.02, -0.03,  0.  ,  0.01,  0.01,  0.04, -0.01, -0.04, -0.03,\n",
              "          0.25,  0.02, -0.01, -0.05, -0.02,  0.  ,  0.  ,  0.01,  0.  ,\n",
              "         -0.02,  0.01,  0.01, -0.01,  0.  ,  0.03, -0.41, -0.02,  0.05,\n",
              "         -0.02,  0.03,  0.01,  0.06, -0.01, -0.04, -0.06,  0.2 , -0.  ,\n",
              "          0.01,  0.04,  0.07, -0.01, -0.22,  0.37, -0.9 ,  0.01, -0.02,\n",
              "          0.01,  0.03, -0.02, -0.02, -0.  ]]), array([-2.36717192]))"
            ]
          },
          "metadata": {},
          "execution_count": 83
        }
      ]
    },
    {
      "cell_type": "code",
      "source": [
        "model_ridge[\"ridge\"].coef_.shape"
      ],
      "metadata": {
        "colab": {
          "base_uri": "https://localhost:8080/"
        },
        "id": "a13BiVQAfyWP",
        "outputId": "0cbebe6f-b393-4ba2-863e-bf8dfaab7650"
      },
      "execution_count": 84,
      "outputs": [
        {
          "output_type": "execute_result",
          "data": {
            "text/plain": [
              "(1, 815)"
            ]
          },
          "metadata": {},
          "execution_count": 84
        }
      ]
    },
    {
      "cell_type": "markdown",
      "source": [
        "The model estimates:\n",
        "\n",
        "$\\hat{y} = -0.02X^{814} + -0.02X^{813}, ... , + 0.07X^3 - 0.39X^2 + 0.17X -2.36$  "
      ],
      "metadata": {
        "id": "oeDM0am2fGls"
      }
    },
    {
      "cell_type": "code",
      "source": [
        "nombre_polinomial_ridge, resultado_polinomial_ridge = list(), list()\n",
        "nombre_polinomial_ridge.append('MAE')\n",
        "print('Error medio Absoluto (MAE):', metrics.mean_absolute_error(y_train_scaled, y_pred))\n",
        "resultado_polinomial_ridge.append(metrics.mean_absolute_error(y_train_scaled, y_pred))\n",
        "nombre_polinomial_ridge.append('Root Mean Squared Error:')\n",
        "print('Root Mean Squared Error:', np.sqrt(metrics.mean_squared_error(y_train_scaled, y_pred)))\n",
        "resultado_polinomial_ridge.append(np.sqrt(metrics.mean_squared_error(y_train_scaled, y_pred)))\n",
        "nombre_polinomial_ridge.append('r2_score')\n",
        "print('r2_score',r2_score(y_train_scaled, y_pred))\n",
        "resultado_polinomial_ridge.append(r2_score(y_train_scaled, y_pred))"
      ],
      "metadata": {
        "colab": {
          "base_uri": "https://localhost:8080/"
        },
        "id": "yEmCJBxQfCzW",
        "outputId": "4a0aad04-30f7-4f81-b56b-13577cd21ffe"
      },
      "execution_count": 85,
      "outputs": [
        {
          "output_type": "stream",
          "name": "stdout",
          "text": [
            "Error medio Absoluto (MAE): 0.31135690174193137\n",
            "Root Mean Squared Error: 0.44679430649395663\n",
            "r2_score 0.8003748476845842\n"
          ]
        }
      ]
    },
    {
      "cell_type": "markdown",
      "source": [
        "### Lasso Regression  or L<sub>1</sub> Regularization "
      ],
      "metadata": {
        "id": "NCvfgltqiXDF"
      }
    },
    {
      "cell_type": "code",
      "source": [
        "from sklearn.linear_model import Lasso\n",
        "\n",
        "model_lasso = Pipeline([(\"poly_features\", PolynomialFeatures(degree=3, include_bias=False)),\n",
        "                        #(\"scaler\", StandardScaler()),\n",
        "                        (\"lasso\", Lasso(alpha = 0.06, random_state = 15))])\n",
        "model_lasso.fit(X_train_scaled, y_train_scaled)"
      ],
      "metadata": {
        "colab": {
          "base_uri": "https://localhost:8080/"
        },
        "id": "5WpPI1NDiaIu",
        "outputId": "08ad9f04-30cf-466b-b302-6c14aba6fd31"
      },
      "execution_count": 86,
      "outputs": [
        {
          "output_type": "execute_result",
          "data": {
            "text/plain": [
              "Pipeline(steps=[('poly_features',\n",
              "                 PolynomialFeatures(degree=3, include_bias=False)),\n",
              "                ('lasso', Lasso(alpha=0.06, random_state=15))])"
            ]
          },
          "metadata": {},
          "execution_count": 86
        }
      ]
    },
    {
      "cell_type": "code",
      "source": [
        "y_pred = model_lasso.predict(X_train_scaled)"
      ],
      "metadata": {
        "id": "ew1eynezigDB"
      },
      "execution_count": 87,
      "outputs": []
    },
    {
      "cell_type": "code",
      "source": [
        "plt.plot(X_train_scaled, y_train_scaled, \"b.\")\n",
        "plt.plot(X_train_scaled, y_pred, \"g-\")#,label=\"Predictions Lasso Regularization\")\n",
        "plt.xlabel(\"$X$\", fontsize=18)\n",
        "plt.ylabel(\"$y$\", rotation=0, fontsize=18)\n",
        "plt.legend(loc=\"upper right\", fontsize=10);"
      ],
      "metadata": {
        "colab": {
          "base_uri": "https://localhost:8080/",
          "height": 304
        },
        "id": "u9L1nfZ8ikDT",
        "outputId": "9791a271-7d14-41e6-e742-5fb7ebb1cf43"
      },
      "execution_count": 88,
      "outputs": [
        {
          "output_type": "stream",
          "name": "stderr",
          "text": [
            "WARNING:matplotlib.legend:No handles with labels found to put in legend.\n"
          ]
        },
        {
          "output_type": "display_data",
          "data": {
            "text/plain": [
              "<Figure size 432x288 with 1 Axes>"
            ],
            "image/png": "[encoded data removed]"
          },
          "metadata": {
            "needs_background": "light"
          }
        }
      ]
    },
    {
      "cell_type": "markdown",
      "source": [
        "Obtener ecuacion"
      ],
      "metadata": {
        "id": "-Be7z8Xxipps"
      }
    },
    {
      "cell_type": "code",
      "source": [
        "model_lasso[\"lasso\"].coef_.shape"
      ],
      "metadata": {
        "colab": {
          "base_uri": "https://localhost:8080/"
        },
        "id": "2xkLjuFzizUc",
        "outputId": "cc83f6b6-fc56-4534-ab9e-d2501d118cac"
      },
      "execution_count": 89,
      "outputs": [
        {
          "output_type": "execute_result",
          "data": {
            "text/plain": [
              "(815,)"
            ]
          },
          "metadata": {},
          "execution_count": 89
        }
      ]
    },
    {
      "cell_type": "code",
      "source": [
        "model_lasso[\"lasso\"].coef_ , model_lasso[\"lasso\"].intercept_"
      ],
      "metadata": {
        "colab": {
          "base_uri": "https://localhost:8080/"
        },
        "id": "SbkPz3PGirvE",
        "outputId": "26968426-277a-49ec-ccc8-774c45b95962"
      },
      "execution_count": 90,
      "outputs": [
        {
          "output_type": "execute_result",
          "data": {
            "text/plain": [
              "(array([ 0.00000000e+00,  0.00000000e+00,  1.58845176e-01, -0.00000000e+00,\n",
              "         0.00000000e+00,  0.00000000e+00,  0.00000000e+00,  0.00000000e+00,\n",
              "         1.84231825e-01,  0.00000000e+00,  0.00000000e+00, -0.00000000e+00,\n",
              "         0.00000000e+00,  4.66306056e-03, -0.00000000e+00,  0.00000000e+00,\n",
              "         0.00000000e+00,  0.00000000e+00, -0.00000000e+00,  0.00000000e+00,\n",
              "        -0.00000000e+00, -0.00000000e+00,  0.00000000e+00,  0.00000000e+00,\n",
              "         0.00000000e+00,  0.00000000e+00,  0.00000000e+00, -0.00000000e+00,\n",
              "         0.00000000e+00, -0.00000000e+00,  0.00000000e+00,  0.00000000e+00,\n",
              "        -0.00000000e+00,  0.00000000e+00,  0.00000000e+00,  0.00000000e+00,\n",
              "         0.00000000e+00,  0.00000000e+00,  0.00000000e+00,  0.00000000e+00,\n",
              "         0.00000000e+00, -0.00000000e+00,  0.00000000e+00, -0.00000000e+00,\n",
              "         3.26526013e-03, -0.00000000e+00,  0.00000000e+00, -0.00000000e+00,\n",
              "         0.00000000e+00,  0.00000000e+00,  0.00000000e+00,  0.00000000e+00,\n",
              "         0.00000000e+00,  0.00000000e+00, -0.00000000e+00,  0.00000000e+00,\n",
              "        -0.00000000e+00,  0.00000000e+00, -0.00000000e+00,  0.00000000e+00,\n",
              "        -0.00000000e+00, -0.00000000e+00, -0.00000000e+00, -0.00000000e+00,\n",
              "        -0.00000000e+00,  0.00000000e+00, -0.00000000e+00, -0.00000000e+00,\n",
              "         0.00000000e+00,  0.00000000e+00, -0.00000000e+00,  0.00000000e+00,\n",
              "         0.00000000e+00,  0.00000000e+00,  0.00000000e+00,  0.00000000e+00,\n",
              "         0.00000000e+00, -0.00000000e+00, -0.00000000e+00, -0.00000000e+00,\n",
              "         0.00000000e+00, -0.00000000e+00,  0.00000000e+00, -0.00000000e+00,\n",
              "         0.00000000e+00, -0.00000000e+00,  0.00000000e+00, -0.00000000e+00,\n",
              "         0.00000000e+00, -0.00000000e+00,  0.00000000e+00,  0.00000000e+00,\n",
              "         0.00000000e+00,  0.00000000e+00,  0.00000000e+00, -0.00000000e+00,\n",
              "        -0.00000000e+00,  0.00000000e+00, -0.00000000e+00,  0.00000000e+00,\n",
              "         0.00000000e+00,  0.00000000e+00,  0.00000000e+00, -0.00000000e+00,\n",
              "        -0.00000000e+00,  0.00000000e+00, -0.00000000e+00,  4.74574241e-02,\n",
              "         0.00000000e+00,  0.00000000e+00,  0.00000000e+00, -0.00000000e+00,\n",
              "         0.00000000e+00, -0.00000000e+00,  0.00000000e+00,  0.00000000e+00,\n",
              "         0.00000000e+00, -0.00000000e+00,  0.00000000e+00, -0.00000000e+00,\n",
              "         0.00000000e+00, -0.00000000e+00,  0.00000000e+00,  0.00000000e+00,\n",
              "        -0.00000000e+00,  1.04603395e-02,  0.00000000e+00, -0.00000000e+00,\n",
              "         0.00000000e+00,  0.00000000e+00, -0.00000000e+00, -0.00000000e+00,\n",
              "         0.00000000e+00, -0.00000000e+00, -0.00000000e+00,  1.98942851e-05,\n",
              "         0.00000000e+00,  0.00000000e+00, -0.00000000e+00,  0.00000000e+00,\n",
              "        -0.00000000e+00,  0.00000000e+00,  0.00000000e+00,  0.00000000e+00,\n",
              "         0.00000000e+00,  0.00000000e+00, -0.00000000e+00, -0.00000000e+00,\n",
              "         0.00000000e+00, -0.00000000e+00,  0.00000000e+00,  0.00000000e+00,\n",
              "        -0.00000000e+00,  0.00000000e+00, -0.00000000e+00, -0.00000000e+00,\n",
              "        -0.00000000e+00,  0.00000000e+00,  0.00000000e+00, -0.00000000e+00,\n",
              "        -0.00000000e+00, -0.00000000e+00,  0.00000000e+00, -0.00000000e+00,\n",
              "         0.00000000e+00, -0.00000000e+00,  0.00000000e+00,  0.00000000e+00,\n",
              "        -0.00000000e+00,  0.00000000e+00,  0.00000000e+00,  0.00000000e+00,\n",
              "        -0.00000000e+00, -0.00000000e+00, -0.00000000e+00,  0.00000000e+00,\n",
              "        -0.00000000e+00, -2.53689004e-04, -0.00000000e+00,  0.00000000e+00,\n",
              "        -0.00000000e+00,  0.00000000e+00, -0.00000000e+00, -0.00000000e+00,\n",
              "        -0.00000000e+00, -0.00000000e+00,  0.00000000e+00, -0.00000000e+00,\n",
              "        -0.00000000e+00,  0.00000000e+00, -0.00000000e+00,  0.00000000e+00,\n",
              "         0.00000000e+00,  0.00000000e+00,  0.00000000e+00,  0.00000000e+00,\n",
              "        -0.00000000e+00, -0.00000000e+00, -0.00000000e+00, -0.00000000e+00,\n",
              "        -0.00000000e+00, -0.00000000e+00, -0.00000000e+00, -0.00000000e+00,\n",
              "         0.00000000e+00, -0.00000000e+00, -0.00000000e+00,  0.00000000e+00,\n",
              "         0.00000000e+00,  0.00000000e+00,  0.00000000e+00,  0.00000000e+00,\n",
              "        -0.00000000e+00, -0.00000000e+00, -0.00000000e+00, -0.00000000e+00,\n",
              "        -0.00000000e+00, -0.00000000e+00, -0.00000000e+00,  0.00000000e+00,\n",
              "         0.00000000e+00,  0.00000000e+00,  0.00000000e+00, -0.00000000e+00,\n",
              "        -0.00000000e+00,  0.00000000e+00,  0.00000000e+00,  0.00000000e+00,\n",
              "         0.00000000e+00, -0.00000000e+00, -0.00000000e+00, -0.00000000e+00,\n",
              "         0.00000000e+00, -0.00000000e+00,  0.00000000e+00, -0.00000000e+00,\n",
              "        -0.00000000e+00, -0.00000000e+00,  0.00000000e+00, -0.00000000e+00,\n",
              "        -0.00000000e+00, -0.00000000e+00, -0.00000000e+00,  0.00000000e+00,\n",
              "        -0.00000000e+00,  0.00000000e+00,  0.00000000e+00, -0.00000000e+00,\n",
              "        -0.00000000e+00,  0.00000000e+00,  0.00000000e+00,  0.00000000e+00,\n",
              "         0.00000000e+00, -0.00000000e+00, -0.00000000e+00,  1.07517788e-03,\n",
              "         0.00000000e+00, -0.00000000e+00,  0.00000000e+00, -0.00000000e+00,\n",
              "        -0.00000000e+00, -0.00000000e+00,  1.22492696e-02,  0.00000000e+00,\n",
              "        -0.00000000e+00,  0.00000000e+00, -0.00000000e+00,  0.00000000e+00,\n",
              "        -0.00000000e+00,  0.00000000e+00, -0.00000000e+00,  0.00000000e+00,\n",
              "         0.00000000e+00, -0.00000000e+00,  0.00000000e+00,  0.00000000e+00,\n",
              "         0.00000000e+00, -0.00000000e+00,  0.00000000e+00, -0.00000000e+00,\n",
              "         0.00000000e+00, -0.00000000e+00,  0.00000000e+00, -0.00000000e+00,\n",
              "         0.00000000e+00,  0.00000000e+00,  0.00000000e+00, -0.00000000e+00,\n",
              "        -0.00000000e+00, -0.00000000e+00, -0.00000000e+00,  0.00000000e+00,\n",
              "        -0.00000000e+00,  0.00000000e+00,  0.00000000e+00, -0.00000000e+00,\n",
              "         0.00000000e+00, -0.00000000e+00,  0.00000000e+00,  0.00000000e+00,\n",
              "         0.00000000e+00,  0.00000000e+00, -0.00000000e+00,  0.00000000e+00,\n",
              "        -0.00000000e+00,  6.72280417e-06,  0.00000000e+00,  0.00000000e+00,\n",
              "        -0.00000000e+00,  0.00000000e+00, -0.00000000e+00, -0.00000000e+00,\n",
              "        -0.00000000e+00,  0.00000000e+00,  0.00000000e+00,  0.00000000e+00,\n",
              "         0.00000000e+00, -0.00000000e+00, -0.00000000e+00, -0.00000000e+00,\n",
              "         0.00000000e+00, -0.00000000e+00,  0.00000000e+00, -0.00000000e+00,\n",
              "         0.00000000e+00, -0.00000000e+00, -0.00000000e+00,  0.00000000e+00,\n",
              "        -0.00000000e+00, -0.00000000e+00,  0.00000000e+00,  0.00000000e+00,\n",
              "         1.12549967e-03,  0.00000000e+00, -0.00000000e+00,  0.00000000e+00,\n",
              "        -0.00000000e+00,  0.00000000e+00, -0.00000000e+00,  0.00000000e+00,\n",
              "        -0.00000000e+00,  0.00000000e+00, -0.00000000e+00,  0.00000000e+00,\n",
              "        -0.00000000e+00, -0.00000000e+00, -0.00000000e+00, -0.00000000e+00,\n",
              "         0.00000000e+00, -0.00000000e+00,  0.00000000e+00, -0.00000000e+00,\n",
              "        -0.00000000e+00, -0.00000000e+00,  0.00000000e+00,  0.00000000e+00,\n",
              "         0.00000000e+00,  0.00000000e+00, -0.00000000e+00,  0.00000000e+00,\n",
              "         0.00000000e+00, -9.45810206e-03,  0.00000000e+00,  0.00000000e+00,\n",
              "        -2.96024464e-03,  0.00000000e+00,  3.39031440e-03,  9.22350191e-06,\n",
              "         0.00000000e+00,  0.00000000e+00, -0.00000000e+00,  3.71144790e-03,\n",
              "        -1.72466363e-03,  0.00000000e+00, -0.00000000e+00,  0.00000000e+00,\n",
              "        -0.00000000e+00,  0.00000000e+00, -0.00000000e+00, -0.00000000e+00,\n",
              "        -0.00000000e+00, -0.00000000e+00, -0.00000000e+00, -0.00000000e+00,\n",
              "         0.00000000e+00,  0.00000000e+00, -0.00000000e+00,  0.00000000e+00,\n",
              "         0.00000000e+00,  0.00000000e+00,  0.00000000e+00,  0.00000000e+00,\n",
              "         0.00000000e+00, -0.00000000e+00,  0.00000000e+00, -0.00000000e+00,\n",
              "         3.30170222e-03, -0.00000000e+00,  0.00000000e+00, -0.00000000e+00,\n",
              "         1.91485757e-03,  0.00000000e+00, -0.00000000e+00,  0.00000000e+00,\n",
              "         0.00000000e+00, -0.00000000e+00,  0.00000000e+00,  0.00000000e+00,\n",
              "        -0.00000000e+00, -0.00000000e+00, -0.00000000e+00, -0.00000000e+00,\n",
              "        -0.00000000e+00,  0.00000000e+00, -0.00000000e+00,  1.04546514e-02,\n",
              "         0.00000000e+00,  0.00000000e+00,  0.00000000e+00, -0.00000000e+00,\n",
              "        -0.00000000e+00,  0.00000000e+00,  0.00000000e+00,  1.68294207e-02,\n",
              "         0.00000000e+00,  0.00000000e+00,  0.00000000e+00, -0.00000000e+00,\n",
              "         0.00000000e+00, -0.00000000e+00,  0.00000000e+00,  0.00000000e+00,\n",
              "         0.00000000e+00, -0.00000000e+00,  0.00000000e+00, -0.00000000e+00,\n",
              "        -0.00000000e+00, -0.00000000e+00, -0.00000000e+00,  0.00000000e+00,\n",
              "        -0.00000000e+00,  1.49157526e-02, -0.00000000e+00, -0.00000000e+00,\n",
              "        -0.00000000e+00,  2.77358051e-03,  0.00000000e+00,  0.00000000e+00,\n",
              "         0.00000000e+00, -0.00000000e+00,  0.00000000e+00,  1.41813052e-05,\n",
              "         1.62525073e-04,  0.00000000e+00, -0.00000000e+00, -7.06038406e-06,\n",
              "         2.16505039e-04,  1.03638053e-04, -8.06855537e-04,  0.00000000e+00,\n",
              "        -0.00000000e+00, -0.00000000e+00, -0.00000000e+00, -0.00000000e+00,\n",
              "        -0.00000000e+00,  0.00000000e+00,  0.00000000e+00, -0.00000000e+00,\n",
              "        -0.00000000e+00, -0.00000000e+00, -0.00000000e+00,  0.00000000e+00,\n",
              "        -0.00000000e+00,  0.00000000e+00,  0.00000000e+00,  0.00000000e+00,\n",
              "         0.00000000e+00,  0.00000000e+00,  0.00000000e+00,  0.00000000e+00,\n",
              "        -0.00000000e+00,  0.00000000e+00,  0.00000000e+00, -0.00000000e+00,\n",
              "        -0.00000000e+00,  0.00000000e+00,  0.00000000e+00,  0.00000000e+00,\n",
              "        -0.00000000e+00,  0.00000000e+00, -0.00000000e+00, -0.00000000e+00,\n",
              "        -0.00000000e+00, -0.00000000e+00,  0.00000000e+00,  0.00000000e+00,\n",
              "         0.00000000e+00,  0.00000000e+00,  0.00000000e+00,  0.00000000e+00,\n",
              "        -0.00000000e+00, -0.00000000e+00, -0.00000000e+00, -0.00000000e+00,\n",
              "        -0.00000000e+00,  0.00000000e+00, -0.00000000e+00,  0.00000000e+00,\n",
              "        -0.00000000e+00, -0.00000000e+00, -0.00000000e+00, -0.00000000e+00,\n",
              "        -0.00000000e+00,  1.67153522e-04, -0.00000000e+00, -0.00000000e+00,\n",
              "        -0.00000000e+00, -0.00000000e+00, -0.00000000e+00, -0.00000000e+00,\n",
              "         0.00000000e+00,  0.00000000e+00,  0.00000000e+00, -0.00000000e+00,\n",
              "        -0.00000000e+00, -0.00000000e+00, -0.00000000e+00, -0.00000000e+00,\n",
              "         1.64210635e-04,  4.63071078e-03, -0.00000000e+00,  0.00000000e+00,\n",
              "         0.00000000e+00,  4.87032965e-03,  0.00000000e+00,  0.00000000e+00,\n",
              "        -0.00000000e+00, -0.00000000e+00,  0.00000000e+00, -0.00000000e+00,\n",
              "        -2.90597891e-04, -0.00000000e+00, -0.00000000e+00, -0.00000000e+00,\n",
              "        -0.00000000e+00, -0.00000000e+00,  0.00000000e+00,  0.00000000e+00,\n",
              "        -0.00000000e+00, -0.00000000e+00,  0.00000000e+00,  0.00000000e+00,\n",
              "         0.00000000e+00,  0.00000000e+00, -0.00000000e+00,  0.00000000e+00,\n",
              "        -0.00000000e+00,  0.00000000e+00, -0.00000000e+00,  0.00000000e+00,\n",
              "        -0.00000000e+00,  0.00000000e+00, -0.00000000e+00, -0.00000000e+00,\n",
              "        -0.00000000e+00,  0.00000000e+00,  0.00000000e+00,  0.00000000e+00,\n",
              "         0.00000000e+00,  0.00000000e+00,  0.00000000e+00, -0.00000000e+00,\n",
              "        -0.00000000e+00, -0.00000000e+00,  0.00000000e+00,  0.00000000e+00,\n",
              "         0.00000000e+00, -0.00000000e+00,  0.00000000e+00, -0.00000000e+00,\n",
              "         0.00000000e+00,  0.00000000e+00, -0.00000000e+00, -0.00000000e+00,\n",
              "        -0.00000000e+00,  0.00000000e+00,  0.00000000e+00, -0.00000000e+00,\n",
              "        -0.00000000e+00, -0.00000000e+00,  0.00000000e+00,  0.00000000e+00,\n",
              "        -0.00000000e+00, -0.00000000e+00, -0.00000000e+00,  3.97764641e-04,\n",
              "        -0.00000000e+00,  2.65429994e-04, -3.43620553e-04,  8.10657868e-04,\n",
              "         0.00000000e+00,  0.00000000e+00, -9.40524397e-04,  1.75667228e-03,\n",
              "        -0.00000000e+00, -0.00000000e+00,  0.00000000e+00, -0.00000000e+00,\n",
              "        -0.00000000e+00, -0.00000000e+00,  0.00000000e+00, -0.00000000e+00,\n",
              "         0.00000000e+00, -0.00000000e+00, -0.00000000e+00,  0.00000000e+00,\n",
              "         0.00000000e+00,  0.00000000e+00,  0.00000000e+00, -0.00000000e+00,\n",
              "        -0.00000000e+00, -0.00000000e+00, -0.00000000e+00, -0.00000000e+00,\n",
              "        -0.00000000e+00, -0.00000000e+00, -0.00000000e+00,  0.00000000e+00,\n",
              "        -0.00000000e+00,  0.00000000e+00,  0.00000000e+00, -0.00000000e+00,\n",
              "         0.00000000e+00,  0.00000000e+00, -0.00000000e+00, -1.27597883e-03,\n",
              "        -0.00000000e+00, -0.00000000e+00,  0.00000000e+00,  0.00000000e+00,\n",
              "        -0.00000000e+00, -0.00000000e+00,  0.00000000e+00, -0.00000000e+00,\n",
              "        -0.00000000e+00, -0.00000000e+00, -0.00000000e+00,  0.00000000e+00,\n",
              "        -0.00000000e+00, -0.00000000e+00,  6.53678593e-03,  2.01348216e-03,\n",
              "         3.37747075e-03,  0.00000000e+00,  0.00000000e+00, -0.00000000e+00,\n",
              "        -1.85518709e-04,  2.92041181e-03, -4.32409317e-03,  0.00000000e+00,\n",
              "         0.00000000e+00,  0.00000000e+00,  0.00000000e+00, -0.00000000e+00,\n",
              "        -0.00000000e+00,  0.00000000e+00,  0.00000000e+00,  0.00000000e+00,\n",
              "        -0.00000000e+00, -0.00000000e+00, -0.00000000e+00, -0.00000000e+00,\n",
              "         0.00000000e+00, -0.00000000e+00, -0.00000000e+00, -0.00000000e+00,\n",
              "        -0.00000000e+00, -0.00000000e+00, -0.00000000e+00, -0.00000000e+00,\n",
              "        -1.16454766e-03, -0.00000000e+00, -0.00000000e+00,  0.00000000e+00,\n",
              "        -0.00000000e+00,  0.00000000e+00,  0.00000000e+00, -0.00000000e+00,\n",
              "        -0.00000000e+00, -0.00000000e+00, -0.00000000e+00, -0.00000000e+00,\n",
              "         0.00000000e+00, -0.00000000e+00, -0.00000000e+00,  6.54949031e-03,\n",
              "         0.00000000e+00,  0.00000000e+00,  0.00000000e+00, -1.59927040e-02,\n",
              "        -0.00000000e+00,  3.51498301e-02, -0.00000000e+00,  0.00000000e+00,\n",
              "         0.00000000e+00,  0.00000000e+00, -0.00000000e+00, -0.00000000e+00,\n",
              "         0.00000000e+00,  0.00000000e+00,  0.00000000e+00,  0.00000000e+00,\n",
              "        -0.00000000e+00, -0.00000000e+00,  0.00000000e+00,  0.00000000e+00,\n",
              "         1.06706443e-03, -0.00000000e+00, -0.00000000e+00,  0.00000000e+00,\n",
              "         0.00000000e+00,  0.00000000e+00,  0.00000000e+00, -0.00000000e+00,\n",
              "         0.00000000e+00, -0.00000000e+00, -0.00000000e+00,  0.00000000e+00,\n",
              "         1.48903472e-02,  0.00000000e+00, -0.00000000e+00,  3.22002093e-03,\n",
              "         0.00000000e+00,  0.00000000e+00,  0.00000000e+00, -0.00000000e+00,\n",
              "         0.00000000e+00, -0.00000000e+00,  0.00000000e+00,  0.00000000e+00,\n",
              "         0.00000000e+00, -0.00000000e+00,  0.00000000e+00, -0.00000000e+00,\n",
              "         0.00000000e+00, -0.00000000e+00, -0.00000000e+00,  0.00000000e+00,\n",
              "        -0.00000000e+00,  4.27778632e-02, -0.00000000e+00, -0.00000000e+00,\n",
              "        -0.00000000e+00,  1.02390808e-03,  0.00000000e+00,  0.00000000e+00,\n",
              "         0.00000000e+00, -0.00000000e+00, -0.00000000e+00,  3.85368154e-03,\n",
              "         0.00000000e+00,  0.00000000e+00, -0.00000000e+00,  0.00000000e+00,\n",
              "        -0.00000000e+00,  0.00000000e+00,  0.00000000e+00, -0.00000000e+00,\n",
              "         0.00000000e+00, -0.00000000e+00,  0.00000000e+00, -0.00000000e+00,\n",
              "        -0.00000000e+00, -0.00000000e+00,  0.00000000e+00,  0.00000000e+00,\n",
              "         0.00000000e+00,  0.00000000e+00, -0.00000000e+00,  0.00000000e+00,\n",
              "        -0.00000000e+00, -0.00000000e+00, -0.00000000e+00,  1.67387126e-03,\n",
              "        -0.00000000e+00,  0.00000000e+00, -0.00000000e+00, -0.00000000e+00,\n",
              "        -0.00000000e+00,  0.00000000e+00,  0.00000000e+00,  0.00000000e+00,\n",
              "         9.10748871e-03, -0.00000000e+00, -8.67950366e-05, -3.65644754e-02,\n",
              "        -0.00000000e+00,  0.00000000e+00, -0.00000000e+00,  0.00000000e+00,\n",
              "        -0.00000000e+00,  0.00000000e+00, -1.86592682e-02, -0.00000000e+00,\n",
              "         0.00000000e+00,  2.68154245e-03,  1.17222408e-02, -0.00000000e+00,\n",
              "         0.00000000e+00,  0.00000000e+00, -0.00000000e+00,  4.81449372e-03,\n",
              "        -0.00000000e+00, -2.52704014e-04, -0.00000000e+00]),\n",
              " array([-0.16648264]))"
            ]
          },
          "metadata": {},
          "execution_count": 90
        }
      ]
    },
    {
      "cell_type": "markdown",
      "source": [
        "The model estimates:\n",
        "\n",
        "$\\hat{y} = -2.52x10^{-4}X^{814} + 4.81x10^{-3}X^{812}+, ... ,+ 0.158X^3 - 0.16$"
      ],
      "metadata": {
        "id": "yvHcqvtwiugx"
      }
    },
    {
      "cell_type": "code",
      "source": [
        "nombre_polinomial_lasso, resultado_polinomial_lasso = list(), list()\n",
        "nombre_polinomial_lasso.append('MAE')\n",
        "print('Error medio Absoluto (MAE):', metrics.mean_absolute_error(y_train_scaled, y_pred))\n",
        "resultado_polinomial_lasso.append(metrics.mean_absolute_error(y_train_scaled, y_pred))\n",
        "nombre_polinomial_lasso.append('Root Mean Squared Error:')\n",
        "print('Root Mean Squared Error:', np.sqrt(metrics.mean_squared_error(y_train_scaled, y_pred)))\n",
        "resultado_polinomial_lasso.append(np.sqrt(metrics.mean_squared_error(y_train_scaled, y_pred)))\n",
        "nombre_polinomial_lasso.append('r2_score')\n",
        "print('r2_score',r2_score(y_train_scaled, y_pred))\n",
        "resultado_polinomial_lasso.append(r2_score(y_train_scaled, y_pred))"
      ],
      "metadata": {
        "colab": {
          "base_uri": "https://localhost:8080/"
        },
        "id": "t_jmbHJviw0j",
        "outputId": "176bc002-fa72-4f8d-c120-d865a483c857"
      },
      "execution_count": 91,
      "outputs": [
        {
          "output_type": "stream",
          "name": "stdout",
          "text": [
            "Error medio Absoluto (MAE): 0.3648761708484074\n",
            "Root Mean Squared Error: 0.5378093682627385\n",
            "r2_score 0.7107610834088339\n"
          ]
        }
      ]
    },
    {
      "cell_type": "markdown",
      "source": [
        "## Grafica de los errores"
      ],
      "metadata": {
        "id": "gz4x1Cu6j4-i"
      }
    },
    {
      "cell_type": "markdown",
      "source": [],
      "metadata": {
        "id": "BIIgx0O5j5dI"
      }
    },
    {
      "cell_type": "code",
      "source": [
        "fig, ax = plt.subplots()\n",
        "plt.title('Lineal');\n",
        "plt.ylabel('Value')\n",
        "for i in range(len(resultado_lineal)):\n",
        "  ax.plot(i,resultado_lineal[i], 'o', label=nombre_lineal[i])\n",
        "  leg = ax.legend();\n",
        "  ax.legend(loc='lower center', frameon=False)"
      ],
      "metadata": {
        "colab": {
          "base_uri": "https://localhost:8080/",
          "height": 281
        },
        "id": "HITpy7jrj7_T",
        "outputId": "0a5e9c65-b0fe-441f-fb17-8dd0ca3872f5"
      },
      "execution_count": 92,
      "outputs": [
        {
          "output_type": "display_data",
          "data": {
            "text/plain": [
              "<Figure size 432x288 with 1 Axes>"
            ],
            "image/png": "[encoded data removed]"
          },
          "metadata": {
            "needs_background": "light"
          }
        }
      ]
    },
    {
      "cell_type": "code",
      "source": [
        "fig, ax = plt.subplots()\n",
        "plt.ylabel('Value')\n",
        "plt.title('Polinomial');\n",
        "for i in range(len(resultado_polinomial)):\n",
        "  ax.plot(i,resultado_polinomial[i], 'o', label=nombre_polinomial[i])\n",
        "  leg = ax.legend();\n",
        "  ax.legend(loc='lower center', frameon=False)"
      ],
      "metadata": {
        "colab": {
          "base_uri": "https://localhost:8080/",
          "height": 281
        },
        "id": "MBCfx-qGj-6N",
        "outputId": "a7bb1713-1341-47e5-8982-fbf59dbc74d1"
      },
      "execution_count": 93,
      "outputs": [
        {
          "output_type": "display_data",
          "data": {
            "text/plain": [
              "<Figure size 432x288 with 1 Axes>"
            ],
            "image/png": "[encoded data removed]"
          },
          "metadata": {
            "needs_background": "light"
          }
        }
      ]
    },
    {
      "cell_type": "code",
      "source": [
        "fig, ax = plt.subplots()\n",
        "plt.title('Polinomial & Ridge');\n",
        "plt.ylabel('Value')\n",
        "for i in range(len(resultado_polinomial_ridge)):\n",
        "  ax.plot(i,resultado_polinomial_ridge[i], 'o', label=nombre_polinomial_ridge[i])\n",
        "  leg = ax.legend();\n",
        "  ax.legend(loc='lower center', frameon=False)"
      ],
      "metadata": {
        "colab": {
          "base_uri": "https://localhost:8080/",
          "height": 281
        },
        "id": "eYDVs77gkBPb",
        "outputId": "a4ed8150-8d7e-431e-fb31-f11c393742a0"
      },
      "execution_count": 94,
      "outputs": [
        {
          "output_type": "display_data",
          "data": {
            "text/plain": [
              "<Figure size 432x288 with 1 Axes>"
            ],
            "image/png": "[encoded data removed]"
          },
          "metadata": {
            "needs_background": "light"
          }
        }
      ]
    },
    {
      "cell_type": "code",
      "source": [
        "fig, ax = plt.subplots()\n",
        "plt.ylabel('Value')\n",
        "plt.title('Polinomial & Lasso');\n",
        "for i in range(len(resultado_polinomial_lasso)):\n",
        "  ax.plot(i,resultado_polinomial_lasso[i], 'o', label=nombre_polinomial_lasso[i])\n",
        "  leg = ax.legend();\n",
        "  ax.legend(loc='lower center', frameon=False)"
      ],
      "metadata": {
        "colab": {
          "base_uri": "https://localhost:8080/",
          "height": 281
        },
        "id": "SaHp2WCBkDL2",
        "outputId": "63ec2ae5-14ad-46a6-deec-805a3fcca43c"
      },
      "execution_count": 95,
      "outputs": [
        {
          "output_type": "display_data",
          "data": {
            "text/plain": [
              "<Figure size 432x288 with 1 Axes>"
            ],
            "image/png": "[encoded data removed]"
          },
          "metadata": {
            "needs_background": "light"
          }
        }
      ]
    },
    {
      "cell_type": "markdown",
      "source": [
        "##Explica tus resultados"
      ],
      "metadata": {
        "id": "V7UW9JhaegtI"
      }
    },
    {
      "cell_type": "markdown",
      "source": [
        "* Que método conviene más a la empresa, ¿por que?, \n",
        "  * R. El metodo minimo que le conviene mejor a la empresa es el polinomial y si requiere mejorar el modelo seria el metodo polinomial con Ridge, porque al realizar los ejercicios anteriores el MAE $R^2$, se aprecia que el error es menor a los anteriores metodos con la observacion que el Lasso tiene sus hiperparametros que se requiere modificar para mejorar el modelo\n",
        "* ¿que porcentajes de entrenamiento y evaluación usaste?, \n",
        "  * Utilice el 80% de entrenamiento y 20% de evaluacion porqur influia en el error obtenido\n",
        "* ¿que error tienes?\n",
        "  * El error que tengo cambia dependiendo si se ocupa todo el dataframe o solo el data training, siguiendo las buenas practicas se debe ocupar el training para entrenar el modelo y el restante para saber el score de la prediccion del modelo, el error RMS es mas bajo junto con el MAE, mientras que el $R^2$ es el mas alto, con el metodo polinomial el \n",
        "     * Error medio Absoluto (MAE): 0.3113581952596882\n",
        "     * Root Mean Squared Error: 0.44679311151851003\n",
        "     * r2_score 0.8003759154996082\n",
        "  * Esto con un grado de 3, al agregar Lasso se obtiene MAE y RME un poco mas alto pero un r2_score 0.7107610834088339, con Ridge se tiene casi similar      \n",
        "     * Error medio Absoluto (MAE): 0.31135690174193137\n",
        "     * Root Mean Squared Error: 0.44679430649395663\n",
        "     * r2_score 0.8003748476845842\n",
        "* ¿es bueno?\n",
        "    * Con el metodo polinomial se obtiene un buen modelo porque los erorres son menores con un grado 3, y es aceptable, mientras que con los metodos de regularizacion la diferencia es minima \n",
        "* ¿cómo lo sabes?\n",
        "    * Porque se cambio la escala de los data frames de entrenamiento para apreciar mejor los resultados,al realizar varias combinaciones el error es de los mas bajos con el grado 3, ademas que al añadir los metodos de Regularizacion no tiene una gran diferencia, la diferencia se nota en los coeficientes de la ecuacion y el intercept"
      ],
      "metadata": {
        "id": "lQDtTN0aecc1"
      }
    },
    {
      "cell_type": "markdown",
      "source": [
        "## Conclusiones\n",
        "\n",
        "En esta actividad puedo concuir que:\n",
        "* Al tener una base de datos con una sola variable el MAE, RMS son altos y al aplicar los metodos de regularizacion, los resultdos no cambian mucho, pero r2_score disminuye porque es un coeficiente para saber que tan cerca estan los datos.\n",
        "* El intercept con una sola variable se mantiene\n",
        "* Las graficas se aprecian que son lineas, esto es debido a que la regresion lineal intenta hacer el mejor hiperplano con su recta normal para hacer la clasificacion, por ello se aprecian varia lineas\n",
        "* Se parecia que el metodo Lasso castiga mas los pesos ya que varios los puede convertir a cero, lo que incrementa que baje la varianza para mejorar el r2_score pero los errores RMS y MAE, incrementan ligeramente\n",
        "* Cuando se tiene mas de una variable, para apreciar mejor los resultados debemos escalarlos\n",
        "* Los errores MAE Y RMS son mas bajos en comparacion al r2_score, esto se entiende porque los errores dependen de el volumen del data frame, mientras que el r2_score aumenta hay mas datos juntos por aumentar las variable\n",
        "* Con este numero de variable se aprecia que el algoritmo de PCA puede ser ocupado para crear menores componentes para tener una varianza mayor al 70%, mejorar el analisis\n",
        "* El mejor metodo es el polinomial ya que agrega complejidad al modelo, mientras que los metodos de regularizacion, depende mas de sus hiperparametros para mejorar el modelo, por lo que realizar un GridSearch es una buena estrategia a implementar"
      ],
      "metadata": {
        "id": "syck7D4_lGHt"
      }
    }
  ]
}